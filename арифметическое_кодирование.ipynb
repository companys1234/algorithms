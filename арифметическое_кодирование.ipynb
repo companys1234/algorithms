{
  "nbformat": 4,
  "nbformat_minor": 0,
  "metadata": {
    "colab": {
      "provenance": []
    },
    "kernelspec": {
      "name": "python3",
      "display_name": "Python 3"
    },
    "language_info": {
      "name": "python"
    }
  },
  "cells": [
    {
      "cell_type": "code",
      "execution_count": 4,
      "metadata": {
        "colab": {
          "base_uri": "https://localhost:8080/"
        },
        "id": "joNZ5RDA_8Fa",
        "outputId": "69f3f319-806a-4956-9766-85f0664583eb"
      },
      "outputs": [
        {
          "output_type": "stream",
          "name": "stdout",
          "text": [
            "Закодированное число: 0.0320000000\n"
          ]
        }
      ],
      "source": [
        "def arithmetic_encode(data, symbol_probs):\n",
        "    low, high = 0.0, 1.0\n",
        "    symbols = sorted(symbol_probs.keys())\n",
        "    ranges = {}\n",
        "    cumulative = 0.0\n",
        "\n",
        "    # Строим кумулятивные интервалы\n",
        "    for s in symbols:\n",
        "        ranges[s] = (cumulative, cumulative + symbol_probs[s])\n",
        "        cumulative += symbol_probs[s]\n",
        "\n",
        "    # Обрабатываем каждый символ\n",
        "    for s in data:\n",
        "        range_size = high - low\n",
        "        high = low + range_size * ranges[s][1]\n",
        "        low = low + range_size * ranges[s][0]\n",
        "\n",
        "    return (low + high) / 2  # Возвращаем середину интервала\n",
        "\n",
        "# Пример вероятностей (должны в сумме давать 1)\n",
        "probs = {'A': 0.4, 'B': 0.3, 'C': 0.2, 'D': 0.1}\n",
        "data = \"AAA\"\n",
        "code = arithmetic_encode(data, probs)\n",
        "print(f\"Закодированное число: {code:.10f}\")"
      ]
    },
    {
      "cell_type": "code",
      "source": [
        "def arithmetic_decode(encoded, symbol_probs, length):\n",
        "    low, high = 0.0, 1.0\n",
        "    symbols = sorted(symbol_probs.keys())\n",
        "    ranges = {}\n",
        "    cumulative = 0.0\n",
        "\n",
        "    # Строим кумулятивные интервалы\n",
        "    for s in symbols:\n",
        "        ranges[s] = (cumulative, cumulative + symbol_probs[s])\n",
        "        cumulative += symbol_probs[s]\n",
        "\n",
        "    decoded = []\n",
        "    for _ in range(length):\n",
        "        # Находим символ, соответствующий текущему коду\n",
        "        for s in symbols:\n",
        "            s_low, s_high = ranges[s]\n",
        "            current_range = high - low\n",
        "            if low + current_range * s_low <= encoded < low + current_range * s_high:\n",
        "                decoded.append(s)\n",
        "                # Сужаем интервал\n",
        "                high = low + current_range * s_high\n",
        "                low = low + current_range * s_low\n",
        "                break\n",
        "\n",
        "    return ''.join(decoded)\n",
        "\n",
        "decoded_data = arithmetic_decode(code, probs, len(data))\n",
        "print(f\"Раскодированные данные: {decoded_data}\")"
      ],
      "metadata": {
        "colab": {
          "base_uri": "https://localhost:8080/"
        },
        "id": "rhMRnIXKGHEq",
        "outputId": "4f7dc69d-0000-4f3a-a768-2e90071b6cbe"
      },
      "execution_count": 5,
      "outputs": [
        {
          "output_type": "stream",
          "name": "stdout",
          "text": [
            "Раскодированные данные: AAA\n"
          ]
        }
      ]
    }
  ]
}