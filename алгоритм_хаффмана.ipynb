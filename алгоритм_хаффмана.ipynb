{
  "nbformat": 4,
  "nbformat_minor": 0,
  "metadata": {
    "colab": {
      "provenance": []
    },
    "kernelspec": {
      "name": "python3",
      "display_name": "Python 3"
    },
    "language_info": {
      "name": "python"
    }
  },
  "cells": [
    {
      "cell_type": "markdown",
      "source": [
        "Для строки \"abracadabra\":\n",
        "\n",
        "Частоты: a=5, b=2, r=2, c=1, d=1\n",
        "\n",
        "Дерево\n",
        "Кодбук: {'a': '0', 'b': '10', 'r': '110', 'c': '1110', 'd': '1111'}\n",
        "\n",
        "Закодированная строка: \"01011001110011110101100\" (исходные 11 байт → ~3 байта в сжатом виде)."
      ],
      "metadata": {
        "id": "1CTcbrRKno1m"
      }
    },
    {
      "cell_type": "code",
      "execution_count": 2,
      "metadata": {
        "colab": {
          "base_uri": "https://localhost:8080/"
        },
        "id": "BHPjGL6dnio7",
        "outputId": "7e60c942-ca7e-4ec7-cc95-b2be2c35dc73"
      },
      "outputs": [
        {
          "output_type": "stream",
          "name": "stdout",
          "text": [
            "Закодированные данные: 01011111010110000011110111010001\n",
            "Кодбук: {' ': '000', 'd': '001', 'H': '010', 'w': '011', 'l': '10', 'o': '110', 'r': '1110', 'e': '1111'}\n",
            "Раскодированные данные: Hello world\n"
          ]
        }
      ],
      "source": [
        "import heapq\n",
        "from collections import defaultdict\n",
        "\"\"\"      (11)\n",
        "     /    \\\n",
        "  a(5)    (6)\n",
        "         /    \\\n",
        "       b(2)   (4)\n",
        "             /    \\\n",
        "           r(2)   (2)\n",
        "                 /    \\\n",
        "               c(1)  d(1)\"\"\"\n",
        "class HuffmanNode:\n",
        "    def __init__(self, char=None, freq=0, left=None, right=None):\n",
        "        self.char = char    # Символ (если лист)\n",
        "        self.freq = freq    # Частота\n",
        "        self.left = left    # Левый потомок\n",
        "        self.right = right # Правый потомок\n",
        "\n",
        "    # Для сравнения в очереди с приоритетом\n",
        "    def __lt__(self, other):\n",
        "        return self.freq < other.freq\n",
        "\n",
        "def build_frequency_table(data):\n",
        "    freq = defaultdict(int)\n",
        "    for char in data:\n",
        "        freq[char] += 1\n",
        "    return freq\n",
        "\n",
        "def build_huffman_tree(freq):\n",
        "    heap = []\n",
        "    for char, count in freq.items():\n",
        "        heapq.heappush(heap, HuffmanNode(char=char, freq=count))\n",
        "\n",
        "    while len(heap) > 1:\n",
        "        left = heapq.heappop(heap)\n",
        "        right = heapq.heappop(heap)\n",
        "        merged = HuffmanNode(freq=left.freq + right.freq, left=left, right=right)\n",
        "        heapq.heappush(heap, merged)\n",
        "\n",
        "    return heapq.heappop(heap)  # Корень дерева\n",
        "\n",
        "def build_codebook(root, current_code=\"\", codebook={}):\n",
        "    if root is None:\n",
        "        return\n",
        "    if root.char is not None:  # Лист\n",
        "        codebook[root.char] = current_code\n",
        "        return\n",
        "    build_codebook(root.left, current_code + \"0\", codebook)\n",
        "    build_codebook(root.right, current_code + \"1\", codebook)\n",
        "    return codebook\n",
        "\n",
        "def huffman_encode(data):\n",
        "    if not data:\n",
        "        return \"\", {}\n",
        "    freq = build_frequency_table(data)\n",
        "    root = build_huffman_tree(freq)\n",
        "    codebook = build_codebook(root)\n",
        "    encoded = \"\".join([codebook[char] for char in data])\n",
        "    return encoded, codebook\n",
        "\n",
        "def huffman_decode(encoded, root):\n",
        "    if not encoded:\n",
        "        return \"\"\n",
        "    current = root\n",
        "    decoded = []\n",
        "    for bit in encoded:\n",
        "        if bit == '0':\n",
        "            current = current.left\n",
        "        else:\n",
        "            current = current.right\n",
        "        if current.char is not None:  # Дошли до листа\n",
        "            decoded.append(current.char)\n",
        "            current = root\n",
        "    return \"\".join(decoded)\n",
        "\n",
        "# Пример использования\n",
        "data = \"Hello world\"\n",
        "encoded, codebook = huffman_encode(data)\n",
        "print(f\"Закодированные данные: {encoded}\")\n",
        "print(f\"Кодбук: {codebook}\")\n",
        "\n",
        "# Декодирование (требуется передать дерево или кодбук)\n",
        "decoded = huffman_decode(encoded, build_huffman_tree(build_frequency_table(data)))\n",
        "print(f\"Раскодированные данные: {decoded}\")"
      ]
    }
  ]
}