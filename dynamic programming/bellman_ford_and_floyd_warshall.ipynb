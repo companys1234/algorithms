{
  "nbformat": 4,
  "nbformat_minor": 0,
  "metadata": {
    "colab": {
      "provenance": []
    },
    "kernelspec": {
      "name": "python3",
      "display_name": "Python 3"
    },
    "language_info": {
      "name": "python"
    }
  },
  "cells": [
    {
      "cell_type": "code",
      "execution_count": 1,
      "metadata": {
        "colab": {
          "base_uri": "https://localhost:8080/"
        },
        "id": "pTsAq_sC-2Ky",
        "outputId": "62d331d6-fd3d-4fb8-e2aa-3051b0e0577d"
      },
      "outputs": [
        {
          "output_type": "stream",
          "name": "stdout",
          "text": [
            "{'A': 0, 'B': -1, 'C': 2, 'D': -2, 'E': 1}\n"
          ]
        }
      ],
      "source": [
        "def bellman_ford(graph, start):\n",
        "    # Инициализация расстояний\n",
        "    distances = {vertex: float('inf') for vertex in graph}\n",
        "    distances[start] = 0\n",
        "\n",
        "    # Релаксация ребер\n",
        "    for _ in range(len(graph) - 1):\n",
        "        for u in graph:\n",
        "            for v, weight in graph[u].items():\n",
        "                if distances[u] + weight < distances[v]:\n",
        "                    distances[v] = distances[u] + weight\n",
        "\n",
        "    # Проверка на отрицательные циклы\n",
        "    for u in graph:\n",
        "        for v, weight in graph[u].items():\n",
        "            if distances[u] + weight < distances[v]:\n",
        "                raise ValueError(\"Граф содержит отрицательный цикл\")\n",
        "\n",
        "    return distances\n",
        "\n",
        "# Пример использования\n",
        "graph = {\n",
        "    'A': {'B': -1, 'C': 4},\n",
        "    'B': {'C': 3, 'D': 2, 'E': 2},\n",
        "    'C': {},\n",
        "    'D': {'B': 1, 'C': 5},\n",
        "    'E': {'D': -3}\n",
        "}\n",
        "\n",
        "start_vertex = 'A'\n",
        "print(bellman_ford(graph, start_vertex))"
      ]
    },
    {
      "cell_type": "code",
      "source": [
        "def floyd_warshall(graph):\n",
        "    # Инициализация матрицы расстояний\n",
        "    vertices = list(graph.keys())\n",
        "    n = len(vertices)\n",
        "    distance = [[float('inf')] * n for _ in range(n)]\n",
        "\n",
        "    for i in range(n):\n",
        "        distance[i][i] = 0\n",
        "    for u in graph:\n",
        "        for v, weight in graph[u].items():\n",
        "            distance[vertices.index(u)][vertices.index(v)] = weight\n",
        "\n",
        "    # Обновление расстояний\n",
        "    for k in range(n):\n",
        "        for i in range(n):\n",
        "            for j in range(n):\n",
        "                if distance[i][k] + distance[k][j] < distance[i][j]:\n",
        "                    distance[i][j] = distance[i][k] + distance[k][j]\n",
        "\n",
        "    return distance\n",
        "\n",
        "# Пример использования\n",
        "graph = {\n",
        "    'A': {'B': 3, 'C': 8, 'E': -4},\n",
        "    'B': {'D': 1, 'E': 7},\n",
        "    'C': {'B': 4},\n",
        "    'D': {'A': 2, 'C': -5},\n",
        "    'E': {'D': 6}\n",
        "}\n",
        "\n",
        "shortest_paths = floyd_warshall(graph)\n",
        "vertices = list(graph.keys())\n",
        "for i in range(len(vertices)):\n",
        "    for j in range(len(vertices)):\n",
        "        print(f\"Кратчайший путь от {vertices[i]} до {vertices[j]}: {shortest_paths[i][j]}\")"
      ],
      "metadata": {
        "colab": {
          "base_uri": "https://localhost:8080/"
        },
        "id": "LwsSHUPh_1wL",
        "outputId": "b8feb75a-6448-44f0-e4a6-1c8a62de9ed6"
      },
      "execution_count": 2,
      "outputs": [
        {
          "output_type": "stream",
          "name": "stdout",
          "text": [
            "Кратчайший путь от A до A: 0\n",
            "Кратчайший путь от A до B: 1\n",
            "Кратчайший путь от A до C: -3\n",
            "Кратчайший путь от A до D: 2\n",
            "Кратчайший путь от A до E: -4\n",
            "Кратчайший путь от B до A: 3\n",
            "Кратчайший путь от B до B: 0\n",
            "Кратчайший путь от B до C: -4\n",
            "Кратчайший путь от B до D: 1\n",
            "Кратчайший путь от B до E: -1\n",
            "Кратчайший путь от C до A: 7\n",
            "Кратчайший путь от C до B: 4\n",
            "Кратчайший путь от C до C: 0\n",
            "Кратчайший путь от C до D: 5\n",
            "Кратчайший путь от C до E: 3\n",
            "Кратчайший путь от D до A: 2\n",
            "Кратчайший путь от D до B: -1\n",
            "Кратчайший путь от D до C: -5\n",
            "Кратчайший путь от D до D: 0\n",
            "Кратчайший путь от D до E: -2\n",
            "Кратчайший путь от E до A: 8\n",
            "Кратчайший путь от E до B: 5\n",
            "Кратчайший путь от E до C: 1\n",
            "Кратчайший путь от E до D: 6\n",
            "Кратчайший путь от E до E: 0\n"
          ]
        }
      ]
    }
  ]
}