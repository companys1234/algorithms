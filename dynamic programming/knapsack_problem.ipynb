{
  "nbformat": 4,
  "nbformat_minor": 0,
  "metadata": {
    "colab": {
      "provenance": []
    },
    "kernelspec": {
      "name": "python3",
      "display_name": "Python 3"
    },
    "language_info": {
      "name": "python"
    }
  },
  "cells": [
    {
      "cell_type": "code",
      "execution_count": 1,
      "metadata": {
        "colab": {
          "base_uri": "https://localhost:8080/"
        },
        "id": "uX5ZJOgVwudr",
        "outputId": "e311f421-4789-42dd-992b-861982dc0cd1"
      },
      "outputs": [
        {
          "output_type": "stream",
          "name": "stdout",
          "text": [
            "Максимальная ценность: 220\n"
          ]
        }
      ],
      "source": [
        "def knapsack(items, capacity):\n",
        "    # items = [(вес предмета, ценность предмета), ...]\n",
        "\n",
        "    n = len(items)\n",
        "    dp = [[0] * (capacity + 1) for _ in range(n + 1)]\n",
        "\n",
        "    # Заполняем таблицу dp\n",
        "    for i in range(1, n + 1):\n",
        "        weight, value = items[i - 1]\n",
        "        for w in range(capacity + 1):\n",
        "            if weight > w:\n",
        "                dp[i][w] = dp[i - 1][w]\n",
        "            else:\n",
        "                dp[i][w] = max(dp[i - 1][w], dp[i - 1][w - weight] + value)\n",
        "\n",
        "    return dp[n][capacity]\n",
        "\n",
        "# Пример использования\n",
        "items = [(10, 60), (20, 100), (30, 120)]  # предметы: (вес, ценность)\n",
        "capacity = 50  # максимальная вместимость рюкзака\n",
        "\n",
        "max_value = knapsack(items, capacity)\n",
        "print(\"Максимальная ценность:\", max_value)"
      ]
    }
  ]
}