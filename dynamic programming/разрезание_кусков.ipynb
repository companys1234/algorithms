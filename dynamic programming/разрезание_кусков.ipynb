{
  "nbformat": 4,
  "nbformat_minor": 0,
  "metadata": {
    "colab": {
      "provenance": []
    },
    "kernelspec": {
      "name": "python3",
      "display_name": "Python 3"
    },
    "language_info": {
      "name": "python"
    }
  },
  "cells": [
    {
      "cell_type": "code",
      "execution_count": 6,
      "metadata": {
        "id": "g-g_dZ1M8ybi"
      },
      "outputs": [],
      "source": [
        "def rod_cutting(prices, length):\n",
        "    n = len(prices)\n",
        "\n",
        "    # Создаем таблицу dp размера (length+1), где dp[i] хранит максимальную прибыль, которую можно получить\n",
        "    # от стержня длины i\n",
        "    dp = [0] * (length + 1)\n",
        "\n",
        "\n",
        "    for i in range(1, length + 1):\n",
        "        for j in range(min(i, n)):\n",
        "            dp[i] = max(dp[i], prices[j] + dp[i - j - 1])\n",
        "\n",
        "    return dp[length]\n"
      ]
    },
    {
      "cell_type": "code",
      "source": [
        "prices = [1, 5, 8, 9, 10, 17, 20, 24, 30]\n",
        "length = 4\n",
        "print(rod_cutting(prices, length))  # Output: 10\n"
      ],
      "metadata": {
        "colab": {
          "base_uri": "https://localhost:8080/"
        },
        "id": "iE3s4EuN81OQ",
        "outputId": "a1f405c6-50be-4dc1-f32f-6578232c511c"
      },
      "execution_count": 7,
      "outputs": [
        {
          "output_type": "stream",
          "name": "stdout",
          "text": [
            "10\n"
          ]
        }
      ]
    }
  ]
}