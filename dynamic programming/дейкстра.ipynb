{
  "nbformat": 4,
  "nbformat_minor": 0,
  "metadata": {
    "colab": {
      "provenance": []
    },
    "kernelspec": {
      "name": "python3",
      "display_name": "Python 3"
    },
    "language_info": {
      "name": "python"
    }
  },
  "cells": [
    {
      "cell_type": "code",
      "execution_count": 1,
      "metadata": {
        "colab": {
          "base_uri": "https://localhost:8080/"
        },
        "id": "AWZMikh0DY54",
        "outputId": "1e51ddda-dad5-48c8-b5fc-82ca7d6cd7cb"
      },
      "outputs": [
        {
          "output_type": "stream",
          "name": "stdout",
          "text": [
            "Кратчайшие пути от вершины A: {'A': 0, 'B': 1, 'C': 3, 'D': 4}\n"
          ]
        }
      ],
      "source": [
        "import heapq\n",
        "\n",
        "def dijkstra(graph, start):\n",
        "    # Инициализация расстояний\n",
        "    distances = {vertex: float('inf') for vertex in graph}\n",
        "    distances[start] = 0\n",
        "\n",
        "    # Очередь с приоритетом (куча)\n",
        "    priority_queue = [(0, start)]\n",
        "\n",
        "    while priority_queue:\n",
        "        # Извлекаем вершину с наименьшим расстоянием\n",
        "        current_distance, current_vertex = heapq.heappop(priority_queue)\n",
        "\n",
        "        # Если текущее расстояние больше известного, пропускаем\n",
        "        if current_distance > distances[current_vertex]:\n",
        "            continue\n",
        "\n",
        "        # Обновляем расстояния до соседей\n",
        "        for neighbor, weight in graph[current_vertex].items():\n",
        "            distance = current_distance + weight\n",
        "\n",
        "            # Если найден более короткий путь\n",
        "            if distance < distances[neighbor]:\n",
        "                distances[neighbor] = distance\n",
        "                heapq.heappush(priority_queue, (distance, neighbor))\n",
        "\n",
        "    return distances\n",
        "\n",
        "# Пример использования\n",
        "graph = {\n",
        "    'A': {'B': 1, 'C': 4},\n",
        "    'B': {'A': 1, 'C': 2, 'D': 5},\n",
        "    'C': {'A': 4, 'B': 2, 'D': 1},\n",
        "    'D': {'B': 5, 'C': 1}\n",
        "}\n",
        "\n",
        "start_vertex = 'A'\n",
        "shortest_paths = dijkstra(graph, start_vertex)\n",
        "print(f\"Кратчайшие пути от вершины {start_vertex}: {shortest_paths}\")"
      ]
    }
  ]
}