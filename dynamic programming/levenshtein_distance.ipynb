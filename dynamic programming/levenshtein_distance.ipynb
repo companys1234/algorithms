{
  "nbformat": 4,
  "nbformat_minor": 0,
  "metadata": {
    "colab": {
      "provenance": []
    },
    "kernelspec": {
      "name": "python3",
      "display_name": "Python 3"
    },
    "language_info": {
      "name": "python"
    }
  },
  "cells": [
    {
      "cell_type": "code",
      "execution_count": 1,
      "metadata": {
        "id": "Aa4U45Xs6osk"
      },
      "outputs": [],
      "source": [
        "def levenshtein_distance(s1, s2):\n",
        "    m, n = len(s1), len(s2)\n",
        "\n",
        "    # Создаем таблицу dp размера (m+1)x(n+1), где dp[i][j] хранит расстояние редактирования\n",
        "    # между первыми i символами s1 и первыми j символами s2\n",
        "    dp = [[0]*(n + 1) for _ in range(m + 1)]\n",
        "\n",
        "    # Базовые случаи\n",
        "    for i in range(m + 1):\n",
        "        dp[i][0] = i\n",
        "    for j in range(n + 1):\n",
        "        dp[0][j] = j\n",
        "\n",
        "    # Заполняем таблицу\n",
        "    for i in range(1, m + 1):\n",
        "        for j in range(1, n + 1):\n",
        "            if s1[i-1] == s2[j-1]:\n",
        "                cost = 0\n",
        "            else:\n",
        "                cost = 1\n",
        "            dp[i][j] = min(\n",
        "                dp[i-1][j] + 1,      # удаление\n",
        "                dp[i][j-1] + 1,      # вставка\n",
        "                dp[i-1][j-1] + cost  # замена\n",
        "            )\n",
        "\n",
        "    return dp[m][n]\n"
      ]
    },
    {
      "cell_type": "code",
      "source": [
        "s1 = \"kitten\"\n",
        "s2 = \"sitting\"\n",
        "print(levenshtein_distance(s1, s2))  # Output: 3\n"
      ],
      "metadata": {
        "colab": {
          "base_uri": "https://localhost:8080/"
        },
        "id": "JvJkJu898T-9",
        "outputId": "5fc762a6-087f-40eb-c356-a21c6324e43e"
      },
      "execution_count": 2,
      "outputs": [
        {
          "output_type": "stream",
          "name": "stdout",
          "text": [
            "3\n"
          ]
        }
      ]
    }
  ]
}