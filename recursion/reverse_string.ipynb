{
  "nbformat": 4,
  "nbformat_minor": 0,
  "metadata": {
    "colab": {
      "provenance": []
    },
    "kernelspec": {
      "name": "python3",
      "display_name": "Python 3"
    },
    "language_info": {
      "name": "python"
    }
  },
  "cells": [
    {
      "cell_type": "code",
      "execution_count": 1,
      "metadata": {
        "id": "j3VkCehA6bEf"
      },
      "outputs": [],
      "source": [
        "def reverse_string(s):\n",
        "    if len(s) == 0:\n",
        "        return s\n",
        "    else:\n",
        "        return reverse_string(s[1:]) + s[0]\n"
      ]
    },
    {
      "cell_type": "code",
      "source": [
        "print(reverse_string(\"hello\"))  # Результат: 'olleh'\n"
      ],
      "metadata": {
        "colab": {
          "base_uri": "https://localhost:8080/"
        },
        "id": "XLLG3SCh6dql",
        "outputId": "9076b9f8-443d-4d46-fa61-cb78510de6d3"
      },
      "execution_count": 2,
      "outputs": [
        {
          "output_type": "stream",
          "name": "stdout",
          "text": [
            "olleh\n"
          ]
        }
      ]
    }
  ]
}