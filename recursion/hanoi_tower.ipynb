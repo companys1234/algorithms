{
  "nbformat": 4,
  "nbformat_minor": 0,
  "metadata": {
    "colab": {
      "provenance": []
    },
    "kernelspec": {
      "name": "python3",
      "display_name": "Python 3"
    },
    "language_info": {
      "name": "python"
    }
  },
  "cells": [
    {
      "cell_type": "code",
      "execution_count": 1,
      "metadata": {
        "id": "mtbsd0mv6Hsu"
      },
      "outputs": [],
      "source": [
        "def hanoi_tower(n, from_rod, to_rod, aux_rod):\n",
        "    if n == 1:\n",
        "        print(f\"Move disk 1 from rod {from_rod} to rod {to_rod}\")\n",
        "        return\n",
        "    hanoi_tower(n - 1, from_rod, aux_rod, to_rod)\n",
        "    print(f\"Move disk {n} from rod {from_rod} to rod {to_rod}\")\n",
        "    hanoi_tower(n - 1, aux_rod, to_rod, from_rod)\n"
      ]
    },
    {
      "cell_type": "code",
      "source": [
        "hanoi_tower(3, 'A', 'C', 'B')\n",
        "# Результат:\n",
        "# Move disk 1 from rod A to rod C\n",
        "# Move disk 2 from rod A to rod B\n",
        "# Move disk 1 from rod C to rod B\n",
        "# Move disk 3 from rod A to rod C\n",
        "# Move disk 1 from rod B to rod A\n",
        "# Move disk 2 from rod B to rod C\n",
        "# Move disk 1 from rod A to rod C\n"
      ],
      "metadata": {
        "colab": {
          "base_uri": "https://localhost:8080/"
        },
        "id": "uaQOm7-y6Mpk",
        "outputId": "cef03df0-b18b-4edb-eac8-55626c0edd83"
      },
      "execution_count": 2,
      "outputs": [
        {
          "output_type": "stream",
          "name": "stdout",
          "text": [
            "Move disk 1 from rod A to rod C\n",
            "Move disk 2 from rod A to rod B\n",
            "Move disk 1 from rod C to rod B\n",
            "Move disk 3 from rod A to rod C\n",
            "Move disk 1 from rod B to rod A\n",
            "Move disk 2 from rod B to rod C\n",
            "Move disk 1 from rod A to rod C\n"
          ]
        }
      ]
    }
  ]
}