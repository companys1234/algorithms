{
  "nbformat": 4,
  "nbformat_minor": 0,
  "metadata": {
    "colab": {
      "provenance": []
    },
    "kernelspec": {
      "name": "python3",
      "display_name": "Python 3"
    },
    "language_info": {
      "name": "python"
    }
  },
  "cells": [
    {
      "cell_type": "code",
      "execution_count": 25,
      "metadata": {
        "colab": {
          "base_uri": "https://localhost:8080/"
        },
        "id": "awN9djXTMdeT",
        "outputId": "0e66ab02-a8df-4039-bc92-1d2523923a55"
      },
      "outputs": [
        {
          "output_type": "stream",
          "name": "stdout",
          "text": [
            "1\n",
            "3 1\n",
            "1 2 3\n",
            "5\n"
          ]
        }
      ],
      "source": [
        "t = int(input())\n",
        "for _ in range(t):\n",
        "  n,k = map(int,input().split())\n",
        "  a = list(map(int,input().split()))\n",
        "  if k >= 2:\n",
        "    a.sort(reverse=True)\n",
        "    print(sum(a[:k+1]))\n",
        "  elif k == 1:\n",
        "    print(max(max(a[:n-1])+a[n-1],max(a[:n-1])+a[0]))"
      ]
    },
    {
      "cell_type": "code",
      "source": [
        "print((a[n-1:]))"
      ],
      "metadata": {
        "colab": {
          "base_uri": "https://localhost:8080/"
        },
        "id": "oRqHS17aTd8S",
        "outputId": "e6f87f40-3e99-4e60-b3d2-1637eed36ee0"
      },
      "execution_count": 27,
      "outputs": [
        {
          "output_type": "stream",
          "name": "stdout",
          "text": [
            "[3]\n"
          ]
        }
      ]
    },
    {
      "cell_type": "code",
      "source": [
        "import sys\n",
        "\n",
        "def main():\n",
        "    t = int(sys.stdin.readline())\n",
        "    for _ in range(t):\n",
        "        n, k = map(int, sys.stdin.readline().split())\n",
        "        a = list(map(int, sys.stdin.readline().split()))\n",
        "        ans = 0\n",
        "        if k > 1:\n",
        "            a.sort(reverse=True)\n",
        "            ans = sum(a[:k+1])\n",
        "        else:\n",
        "            l = max(a[:-1])\n",
        "            r = max(a[1:])\n",
        "            ans = max(l + a[-1], r + a[0])\n",
        "        print(ans)\n",
        "\n",
        "if __name__ == \"__main__\":\n",
        "    main()"
      ],
      "metadata": {
        "id": "2CPQ5knkVeLb"
      },
      "execution_count": null,
      "outputs": []
    }
  ]
}