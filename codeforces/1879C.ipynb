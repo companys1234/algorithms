{
  "nbformat": 4,
  "nbformat_minor": 0,
  "metadata": {
    "colab": {
      "provenance": []
    },
    "kernelspec": {
      "name": "python3",
      "display_name": "Python 3"
    },
    "language_info": {
      "name": "python"
    }
  },
  "cells": [
    {
      "cell_type": "code",
      "execution_count": 7,
      "metadata": {
        "id": "WONHYPVukLa5",
        "colab": {
          "base_uri": "https://localhost:8080/"
        },
        "outputId": "1209e013-f14c-4f07-f2e4-325b04243ee8"
      },
      "outputs": [
        {
          "output_type": "stream",
          "name": "stdout",
          "text": [
            "1\n",
            "10010\n",
            "1 2\n"
          ]
        }
      ],
      "source": [
        "t = int(input())\n",
        "import math\n",
        "for _ in range(t):\n",
        "  n = str(input())\n",
        "  c = 0\n",
        "  for i in range(len(n)-1):\n",
        "    if n[i] == n[i+1]:\n",
        "      c += 1\n",
        "  print(c,math.factorial(c+1))"
      ]
    },
    {
      "cell_type": "code",
      "source": [
        "MOD = 998244353\n",
        "\n",
        "def upd(a, b):\n",
        "    return (a * b) % MOD\n",
        "\n",
        "t = int(input())\n",
        "for _ in range(t):\n",
        "    s = input().strip()\n",
        "    res = 1\n",
        "    k = len(s)\n",
        "    n = len(s)\n",
        "    l = 0\n",
        "    while l < n:\n",
        "        r = l + 1\n",
        "        while r < n and s[l] == s[r]:\n",
        "            r += 1\n",
        "        res = upd(res, r - l)\n",
        "        k -= 1\n",
        "        l = r\n",
        "\n",
        "    for i in range(1, k + 1):\n",
        "        res = upd(res, i)\n",
        "    print(k, res)"
      ],
      "metadata": {
        "id": "nV6hdGoXmkQB"
      },
      "execution_count": null,
      "outputs": []
    }
  ]
}