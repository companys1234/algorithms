{
  "nbformat": 4,
  "nbformat_minor": 0,
  "metadata": {
    "colab": {
      "provenance": []
    },
    "kernelspec": {
      "name": "python3",
      "display_name": "Python 3"
    },
    "language_info": {
      "name": "python"
    }
  },
  "cells": [
    {
      "cell_type": "code",
      "execution_count": null,
      "metadata": {
        "id": "Q5Kyyfah0Q6_"
      },
      "outputs": [],
      "source": [
        "mod = 10**9+7\n",
        "t = int(input())\n",
        "for _ in range(t):\n",
        "  n,k = map(int,input().split())\n",
        "  print(pow(n,k,mod))"
      ]
    }
  ]
}