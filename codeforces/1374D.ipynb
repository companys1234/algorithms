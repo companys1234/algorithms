{
  "nbformat": 4,
  "nbformat_minor": 0,
  "metadata": {
    "colab": {
      "provenance": []
    },
    "kernelspec": {
      "name": "python3",
      "display_name": "Python 3"
    },
    "language_info": {
      "name": "python"
    }
  },
  "cells": [
    {
      "cell_type": "code",
      "execution_count": 7,
      "metadata": {
        "colab": {
          "base_uri": "https://localhost:8080/"
        },
        "id": "deV_HAwYdGYP",
        "outputId": "27025733-69b1-4679-ee71-aa8c4325b4b0"
      },
      "outputs": [
        {
          "output_type": "stream",
          "name": "stdout",
          "text": [
            "5\n",
            "4 3\n",
            "1 2 1 3\n",
            "6\n",
            "10 6\n",
            "8 7 1 8 3 7 5 10 8 9\n",
            "18\n",
            "5 10\n",
            "20 100 50 20 100500\n",
            "0\n",
            "10 25\n",
            "24 24 24 24 24 24 24 24 24 24\n",
            "227\n",
            "8 8\n",
            "1 2 3 4 5 6 7 8\n",
            "2\n"
          ]
        }
      ],
      "source": [
        "import sys\n",
        "from collections import defaultdict\n",
        "\n",
        "t = int(input())\n",
        "for _ in range(t):\n",
        "  n, k = map(int, input().split())\n",
        "  a = list(map(int, input().split()))\n",
        "\n",
        "  cnt = defaultdict(int)\n",
        "  mx = 0\n",
        "\n",
        "  for num in a:\n",
        "      if num % k == 0:\n",
        "          continue  # Число уже делится на k\n",
        "      remainder = k - (num % k)  # Вычисляем, сколько нужно добавить\n",
        "      cnt[remainder] += 1\n",
        "      if cnt[remainder] > mx:\n",
        "          mx = cnt[remainder]  # Обновляем максимальное количество\n",
        "\n",
        "  ans = 0\n",
        "  for key, value in cnt.items():\n",
        "      if value == mx:\n",
        "          # Формула для расчета ответа:\n",
        "          # (количество полных циклов) * k + (последний шаг + 1)\n",
        "          ans = k * (value - 1) + key + 1\n",
        "\n",
        "  print(ans)\n",
        "\n"
      ]
    },
    {
      "cell_type": "code",
      "source": [
        "#include <bits/stdc++.h>\n",
        "\n",
        "using namespace std;\n",
        "\n",
        "int main() {\n",
        "#ifdef _DEBUG\n",
        "\tfreopen(\"input.txt\", \"r\", stdin);\n",
        "//\tfreopen(\"output.txt\", \"w\", stdout);\n",
        "#endif\n",
        "\n",
        "\tint t;\n",
        "\tcin >> t;\n",
        "\twhile (t--) {\n",
        "\t\tint n, k;\n",
        "\t\tcin >> n >> k;\n",
        "\t\tvector<int> a(n);\n",
        "\t\tfor (auto &it : a) cin >> it;\n",
        "\t\tmap<int, int> cnt;\n",
        "\t\tint mx = 0;\n",
        "\t\tfor (auto &it : a) {\n",
        "\t\t\tif (it % k == 0) continue;\n",
        "\t\t\t++cnt[k - it % k];\n",
        "\t\t\tmx = max(mx, cnt[k - it % k]);\n",
        "\t\t}\n",
        "\t\tlong long ans = 0;\n",
        "\t\tfor (auto [key, value] : cnt) {\n",
        "\t\t\tif (value == mx) {\n",
        "\t\t\t\tans = k * 1ll * (value - 1) + key + 1;\n",
        "\t\t\t}\n",
        "\t\t}\n",
        "\t\tcout << ans << endl;\n",
        "\t}\n",
        "\n",
        "\treturn 0;\n",
        "}"
      ],
      "metadata": {
        "id": "of1Ke0Iakdb_"
      },
      "execution_count": null,
      "outputs": []
    }
  ]
}