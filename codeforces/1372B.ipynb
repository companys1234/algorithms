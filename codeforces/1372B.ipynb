{
  "nbformat": 4,
  "nbformat_minor": 0,
  "metadata": {
    "colab": {
      "provenance": []
    },
    "kernelspec": {
      "name": "python3",
      "display_name": "Python 3"
    },
    "language_info": {
      "name": "python"
    }
  },
  "cells": [
    {
      "cell_type": "code",
      "execution_count": 18,
      "metadata": {
        "colab": {
          "base_uri": "https://localhost:8080/"
        },
        "id": "ER3EPaz7lDe7",
        "outputId": "7ef74f4a-82cc-4a66-e3db-d688b72ce0b4"
      },
      "outputs": [
        {
          "output_type": "stream",
          "name": "stdout",
          "text": [
            "3\n",
            "4\n",
            "2 2\n",
            "6\n",
            "3 3\n",
            "9\n",
            "3 6\n"
          ]
        }
      ],
      "source": [
        "t = int(input())\n",
        "import math\n",
        "for _ in range(t):\n",
        "  c = 10**50\n",
        "  n = int(input())\n",
        "  pairs = [(i, n-i) for i in range(n+1)]\n",
        "  mid =(len(pairs)//2)\n",
        "  for pair in pairs[1:mid+1]:\n",
        "      gcd_value = math.gcd(pair[0], pair[1])\n",
        "      lcm_value = abs(pair[0] * pair[1]) // gcd_value\n",
        "      if lcm_value < c:\n",
        "        c = lcm_value\n",
        "        a = pair[0]\n",
        "        b = pair[1]\n",
        "  print(a,b)\n"
      ]
    },
    {
      "cell_type": "code",
      "source": [
        "import sys\n",
        "import math\n",
        "\n",
        "#input_data = sys.stdin.buffer.read().split()\n",
        "t = int(input())\n",
        "pos = 1\n",
        "\n",
        "gcd = math.gcd  # локальное связывание ускоряет\n",
        "\n",
        "out_lines = []\n",
        "INF = 10**100  # просто большое число\n",
        "\n",
        "for _ in range(t):\n",
        "    n = int(input())\n",
        "    pos += 1\n",
        "\n",
        "    best_lcm = INF\n",
        "    best_a = 1\n",
        "    best_b = n - 1\n",
        "\n",
        "    # стартуем с середины\n",
        "    start = n // 2\n",
        "\n",
        "    # перебираем i = start ... 1\n",
        "    # b = n - i >= n//2\n",
        "    for a in range(start, 0, -1):\n",
        "        b = n - a\n",
        "        g = gcd(a, b)\n",
        "        lcm = (a // g) * b  # избегаем overflow (оно и так в Python не страшно, но быстрее)\n",
        "\n",
        "        if lcm < best_lcm:\n",
        "            best_lcm = lcm\n",
        "            best_a = a\n",
        "            best_b = b\n",
        "\n",
        "            # если удалось достичь самого лучшего теоретически возможного lcm=b\n",
        "            # (т.е. a|b), то это уже нижняя граница для текущего a\n",
        "            # но продолжаем — вдруг найдём ещё меньшее при меньшем a\n",
        "\n",
        "        # --- Досрочный выход ---\n",
        "        # Нижняя граница для всех будущих меньших a' будет >= n - a\n",
        "        # Если мы уже нашли LCM <= (n - a), то лучше не будет.\n",
        "        if best_lcm <= (n - a):\n",
        "            break\n",
        "\n",
        "    out_lines.append(f\"{best_a} {best_b}\")\n",
        "sys.stdout.write(\"\\n\".join(out_lines))\n",
        "\n",
        "\n"
      ],
      "metadata": {
        "colab": {
          "base_uri": "https://localhost:8080/"
        },
        "id": "TpOiIzsvqnRX",
        "outputId": "e700c19b-cda0-42e2-9c12-5d803385a4c7"
      },
      "execution_count": 30,
      "outputs": [
        {
          "output_type": "stream",
          "name": "stdout",
          "text": [
            "3\n",
            "4\n",
            "6\n",
            "9\n",
            "2 2\n",
            "3 3\n",
            "3 6"
          ]
        },
        {
          "output_type": "execute_result",
          "data": {
            "text/plain": [
              "11"
            ]
          },
          "metadata": {},
          "execution_count": 30
        }
      ]
    },
    {
      "cell_type": "code",
      "source": [
        "import sys\n",
        "import math\n",
        "\n",
        "def solve(n: int):\n",
        "    if n % 2 == 0:\n",
        "        return n // 2, n // 2\n",
        "    else:\n",
        "        div = []\n",
        "        i = 2\n",
        "        # перебор делителей до sqrt(n)\n",
        "        while i * i <= n:\n",
        "            if n % i == 0:\n",
        "                div.append(n // i)  # в C++ коде сохранялось n/i\n",
        "            i += 1\n",
        "        if not div:\n",
        "            return 1, n - 1\n",
        "        else:\n",
        "            a = div[0]\n",
        "            return a, n - a\n",
        "\n",
        "\n",
        "data = sys.stdin.buffer.read().split()\n",
        "t = int(data[0])\n",
        "out_lines = []\n",
        "idx = 1\n",
        "for _ in range(t):\n",
        "    n = int(data[idx]); idx += 1\n",
        "    a, b = solve(n)\n",
        "    out_lines.append(f\"{a} {b}\")\n",
        "sys.stdout.write(\"\\n\".join(out_lines))\n",
        "\n",
        "\n"
      ],
      "metadata": {
        "colab": {
          "base_uri": "https://localhost:8080/",
          "height": 219
        },
        "id": "6U-ItD1LyKBS",
        "outputId": "59cc12a3-d27b-42c8-b50b-cd6451da0699"
      },
      "execution_count": 32,
      "outputs": [
        {
          "output_type": "error",
          "ename": "IndexError",
          "evalue": "list index out of range",
          "traceback": [
            "\u001b[0;31m---------------------------------------------------------------------------\u001b[0m",
            "\u001b[0;31mIndexError\u001b[0m                                Traceback (most recent call last)",
            "\u001b[0;32m/tmp/ipython-input-32-1682431778.py\u001b[0m in \u001b[0;36m<cell line: 0>\u001b[0;34m()\u001b[0m\n\u001b[1;32m     21\u001b[0m \u001b[0;34m\u001b[0m\u001b[0m\n\u001b[1;32m     22\u001b[0m \u001b[0mdata\u001b[0m \u001b[0;34m=\u001b[0m \u001b[0msys\u001b[0m\u001b[0;34m.\u001b[0m\u001b[0mstdin\u001b[0m\u001b[0;34m.\u001b[0m\u001b[0mbuffer\u001b[0m\u001b[0;34m.\u001b[0m\u001b[0mread\u001b[0m\u001b[0;34m(\u001b[0m\u001b[0;34m)\u001b[0m\u001b[0;34m.\u001b[0m\u001b[0msplit\u001b[0m\u001b[0;34m(\u001b[0m\u001b[0;34m)\u001b[0m\u001b[0;34m\u001b[0m\u001b[0;34m\u001b[0m\u001b[0m\n\u001b[0;32m---> 23\u001b[0;31m \u001b[0mt\u001b[0m \u001b[0;34m=\u001b[0m \u001b[0mint\u001b[0m\u001b[0;34m(\u001b[0m\u001b[0mdata\u001b[0m\u001b[0;34m[\u001b[0m\u001b[0;36m0\u001b[0m\u001b[0;34m]\u001b[0m\u001b[0;34m)\u001b[0m\u001b[0;34m\u001b[0m\u001b[0;34m\u001b[0m\u001b[0m\n\u001b[0m\u001b[1;32m     24\u001b[0m \u001b[0mout_lines\u001b[0m \u001b[0;34m=\u001b[0m \u001b[0;34m[\u001b[0m\u001b[0;34m]\u001b[0m\u001b[0;34m\u001b[0m\u001b[0;34m\u001b[0m\u001b[0m\n\u001b[1;32m     25\u001b[0m \u001b[0midx\u001b[0m \u001b[0;34m=\u001b[0m \u001b[0;36m1\u001b[0m\u001b[0;34m\u001b[0m\u001b[0;34m\u001b[0m\u001b[0m\n",
            "\u001b[0;31mIndexError\u001b[0m: list index out of range"
          ]
        }
      ]
    }
  ]
}