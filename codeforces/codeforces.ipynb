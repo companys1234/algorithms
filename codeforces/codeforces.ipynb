{
  "cells": [
    {
      "cell_type": "code",
      "execution_count": null,
      "metadata": {
        "colab": {
          "base_uri": "https://localhost:8080/"
        },
        "id": "-YltKcfaw_iD",
        "outputId": "f739b40e-58aa-4e16-c940-0d64b29e4bc5"
      },
      "outputs": [
        {
          "name": "stdout",
          "output_type": "stream",
          "text": [
            "4\n",
            "word\n",
            "word\n",
            "localization\n",
            "l10n\n",
            "internationalization\n",
            "i18n\n",
            "pneumonoultramicroscopicsilicovolcanoconiosis\n",
            "p43s\n"
          ]
        }
      ],
      "source": [
        "n =  int(input())\n",
        "for _ in range(n):\n",
        "    s = []\n",
        "    n = input()\n",
        "    if len(n) < 10:\n",
        "      print(n)\n",
        "    if len(n) >= 10:\n",
        "      j = 0\n",
        "      for k in n:\n",
        "          j += 1\n",
        "          if j == 1 or j == len(n):\n",
        "            s.append(k)\n",
        "      a = len(n) - 2\n",
        "      s.insert(1,str(a))\n",
        "      res = ''.join(s)\n",
        "      print(res)"
      ]
    },
    {
      "cell_type": "code",
      "execution_count": null,
      "metadata": {
        "colab": {
          "base_uri": "https://localhost:8080/"
        },
        "id": "H9nkZZFVXbNH",
        "outputId": "80c23848-8341-4e2c-b4e6-db3f5b5c9937"
      },
      "outputs": [
        {
          "name": "stdout",
          "output_type": "stream",
          "text": [
            "2\n",
            "1 0 0\n",
            "[1, 0, 0]\n",
            "0 1 1\n",
            "[0, 1, 1]\n",
            "1\n"
          ]
        }
      ],
      "source": [
        "n = int(input())\n",
        "j = 0\n",
        "for _ in range(n):\n",
        "  a = list(map(int, input().split()))\n",
        "  k = sum(a)\n",
        "  if k >= 2:\n",
        "    j += 1\n",
        "print(j)"
      ]
    },
    {
      "cell_type": "code",
      "execution_count": null,
      "metadata": {
        "colab": {
          "base_uri": "https://localhost:8080/",
          "height": 425
        },
        "id": "PM46Ru7SckNe",
        "outputId": "7eac907e-4f8a-4b78-c6d7-5dd244e7a0dd"
      },
      "outputs": [
        {
          "name": "stdout",
          "output_type": "stream",
          "text": [
            "100\n",
            "1 1 1\n",
            "1 1 1\n",
            "1 1 1\n"
          ]
        },
        {
          "ename": "KeyboardInterrupt",
          "evalue": "Interrupted by user",
          "output_type": "error",
          "traceback": [
            "\u001b[0;31m---------------------------------------------------------------------------\u001b[0m",
            "\u001b[0;31mKeyboardInterrupt\u001b[0m                         Traceback (most recent call last)",
            "\u001b[0;32m<ipython-input-11-b75a8f3b0b21>\u001b[0m in \u001b[0;36m<cell line: 0>\u001b[0;34m()\u001b[0m\n\u001b[1;32m      2\u001b[0m \u001b[0ms\u001b[0m \u001b[0;34m=\u001b[0m \u001b[0;34m[\u001b[0m\u001b[0;34m]\u001b[0m\u001b[0;34m\u001b[0m\u001b[0;34m\u001b[0m\u001b[0m\n\u001b[1;32m      3\u001b[0m \u001b[0;32mfor\u001b[0m \u001b[0mk\u001b[0m \u001b[0;32min\u001b[0m \u001b[0mrange\u001b[0m\u001b[0;34m(\u001b[0m\u001b[0mn\u001b[0m\u001b[0;34m)\u001b[0m\u001b[0;34m:\u001b[0m\u001b[0;34m\u001b[0m\u001b[0;34m\u001b[0m\u001b[0m\n\u001b[0;32m----> 4\u001b[0;31m   \u001b[0ma\u001b[0m \u001b[0;34m=\u001b[0m \u001b[0mlist\u001b[0m\u001b[0;34m(\u001b[0m\u001b[0mmap\u001b[0m\u001b[0;34m(\u001b[0m\u001b[0mint\u001b[0m\u001b[0;34m,\u001b[0m \u001b[0minput\u001b[0m\u001b[0;34m(\u001b[0m\u001b[0;34m)\u001b[0m\u001b[0;34m.\u001b[0m\u001b[0msplit\u001b[0m\u001b[0;34m(\u001b[0m\u001b[0;34m)\u001b[0m\u001b[0;34m)\u001b[0m\u001b[0;34m)\u001b[0m\u001b[0;34m\u001b[0m\u001b[0;34m\u001b[0m\u001b[0m\n\u001b[0m\u001b[1;32m      5\u001b[0m   \u001b[0ms\u001b[0m\u001b[0;34m.\u001b[0m\u001b[0mappend\u001b[0m\u001b[0;34m(\u001b[0m\u001b[0msum\u001b[0m\u001b[0;34m(\u001b[0m\u001b[0ma\u001b[0m\u001b[0;34m)\u001b[0m\u001b[0;34m)\u001b[0m\u001b[0;34m\u001b[0m\u001b[0;34m\u001b[0m\u001b[0m\n\u001b[1;32m      6\u001b[0m   \u001b[0;32mif\u001b[0m \u001b[0mk\u001b[0m \u001b[0;34m==\u001b[0m \u001b[0mn\u001b[0m\u001b[0;34m-\u001b[0m\u001b[0;36m1\u001b[0m\u001b[0;34m:\u001b[0m\u001b[0;34m\u001b[0m\u001b[0;34m\u001b[0m\u001b[0m\n",
            "\u001b[0;32m/usr/local/lib/python3.11/dist-packages/ipykernel/kernelbase.py\u001b[0m in \u001b[0;36mraw_input\u001b[0;34m(self, prompt)\u001b[0m\n\u001b[1;32m   1175\u001b[0m                 \u001b[0;34m\"raw_input was called, but this frontend does not support input requests.\"\u001b[0m\u001b[0;34m\u001b[0m\u001b[0;34m\u001b[0m\u001b[0m\n\u001b[1;32m   1176\u001b[0m             )\n\u001b[0;32m-> 1177\u001b[0;31m         return self._input_request(\n\u001b[0m\u001b[1;32m   1178\u001b[0m             \u001b[0mstr\u001b[0m\u001b[0;34m(\u001b[0m\u001b[0mprompt\u001b[0m\u001b[0;34m)\u001b[0m\u001b[0;34m,\u001b[0m\u001b[0;34m\u001b[0m\u001b[0;34m\u001b[0m\u001b[0m\n\u001b[1;32m   1179\u001b[0m             \u001b[0mself\u001b[0m\u001b[0;34m.\u001b[0m\u001b[0m_parent_ident\u001b[0m\u001b[0;34m[\u001b[0m\u001b[0;34m\"shell\"\u001b[0m\u001b[0;34m]\u001b[0m\u001b[0;34m,\u001b[0m\u001b[0;34m\u001b[0m\u001b[0;34m\u001b[0m\u001b[0m\n",
            "\u001b[0;32m/usr/local/lib/python3.11/dist-packages/ipykernel/kernelbase.py\u001b[0m in \u001b[0;36m_input_request\u001b[0;34m(self, prompt, ident, parent, password)\u001b[0m\n\u001b[1;32m   1217\u001b[0m             \u001b[0;32mexcept\u001b[0m \u001b[0mKeyboardInterrupt\u001b[0m\u001b[0;34m:\u001b[0m\u001b[0;34m\u001b[0m\u001b[0;34m\u001b[0m\u001b[0m\n\u001b[1;32m   1218\u001b[0m                 \u001b[0;31m# re-raise KeyboardInterrupt, to truncate traceback\u001b[0m\u001b[0;34m\u001b[0m\u001b[0;34m\u001b[0m\u001b[0m\n\u001b[0;32m-> 1219\u001b[0;31m                 \u001b[0;32mraise\u001b[0m \u001b[0mKeyboardInterrupt\u001b[0m\u001b[0;34m(\u001b[0m\u001b[0;34m\"Interrupted by user\"\u001b[0m\u001b[0;34m)\u001b[0m \u001b[0;32mfrom\u001b[0m \u001b[0;32mNone\u001b[0m\u001b[0;34m\u001b[0m\u001b[0;34m\u001b[0m\u001b[0m\n\u001b[0m\u001b[1;32m   1220\u001b[0m             \u001b[0;32mexcept\u001b[0m \u001b[0mException\u001b[0m\u001b[0;34m:\u001b[0m\u001b[0;34m\u001b[0m\u001b[0;34m\u001b[0m\u001b[0m\n\u001b[1;32m   1221\u001b[0m                 \u001b[0mself\u001b[0m\u001b[0;34m.\u001b[0m\u001b[0mlog\u001b[0m\u001b[0;34m.\u001b[0m\u001b[0mwarning\u001b[0m\u001b[0;34m(\u001b[0m\u001b[0;34m\"Invalid Message:\"\u001b[0m\u001b[0;34m,\u001b[0m \u001b[0mexc_info\u001b[0m\u001b[0;34m=\u001b[0m\u001b[0;32mTrue\u001b[0m\u001b[0;34m)\u001b[0m\u001b[0;34m\u001b[0m\u001b[0;34m\u001b[0m\u001b[0m\n",
            "\u001b[0;31mKeyboardInterrupt\u001b[0m: Interrupted by user"
          ]
        }
      ],
      "source": [
        "n = int(input())\n",
        "s = []\n",
        "for k in range(n):\n",
        "  a = list(map(int, input().split()))\n",
        "  s.append(sum(a))\n",
        "  if k == n-1:\n",
        "    b = sum(s)\n",
        "    if b == 0:\n",
        "      print('YES')\n",
        "    elif b != 0:\n",
        "      print('NO')"
      ]
    },
    {
      "cell_type": "code",
      "execution_count": null,
      "metadata": {
        "colab": {
          "base_uri": "https://localhost:8080/"
        },
        "id": "DnNdNlIvj9Ir",
        "outputId": "538e348e-7bd6-4699-fb4e-27855f703c45"
      },
      "outputs": [
        {
          "name": "stdout",
          "output_type": "stream",
          "text": [
            "3\n",
            "3 -1 7\n",
            "-5 2 -4\n",
            "2 -1 -3\n",
            "YES\n"
          ]
        }
      ],
      "source": [
        "n = int(input())\n",
        "s = 0\n",
        "for k in range(n):\n",
        "  a = list(map(int, input().split()))\n",
        "  s += sum(a)\n",
        "if s == 0:\n",
        "  print('YES')\n",
        "else:\n",
        "  print('NO')"
      ]
    },
    {
      "cell_type": "markdown",
      "metadata": {
        "id": "Fs5DOMpGmlku"
      },
      "source": [
        "почти также\n"
      ]
    },
    {
      "cell_type": "code",
      "execution_count": null,
      "metadata": {
        "id": "boEl8_69mnhe"
      },
      "outputs": [],
      "source": [
        "n = int(input())\n",
        "sum_x = 0\n",
        "sum_y = 0\n",
        "sum_z = 0\n",
        "\n",
        "for _ in range(n):\n",
        "    x, y, z = map(int, input().split())\n",
        "    sum_x += x\n",
        "    sum_y += y\n",
        "    sum_z += z\n",
        "\n",
        "if sum_x == 0 and sum_y == 0 and sum_z == 0:\n",
        "    print(\"YES\")\n",
        "else:\n",
        "    print(\"NO\")"
      ]
    },
    {
      "cell_type": "code",
      "execution_count": null,
      "metadata": {
        "colab": {
          "base_uri": "https://localhost:8080/",
          "height": 211
        },
        "id": "dAOoNu2UpGR1",
        "outputId": "ebc12d1a-75cf-4fff-ec5a-75aa93ceaa0f"
      },
      "outputs": [
        {
          "ename": "IndexError",
          "evalue": "list index out of range",
          "output_type": "error",
          "traceback": [
            "\u001b[0;31m---------------------------------------------------------------------------\u001b[0m",
            "\u001b[0;31mIndexError\u001b[0m                                Traceback (most recent call last)",
            "\u001b[0;32m<ipython-input-9-1923933f60f7>\u001b[0m in \u001b[0;36m<cell line: 0>\u001b[0;34m()\u001b[0m\n\u001b[1;32m      1\u001b[0m \u001b[0;32mimport\u001b[0m \u001b[0mmath\u001b[0m\u001b[0;34m\u001b[0m\u001b[0;34m\u001b[0m\u001b[0m\n\u001b[1;32m      2\u001b[0m \u001b[0ma\u001b[0m \u001b[0;34m=\u001b[0m \u001b[0mlist\u001b[0m\u001b[0;34m(\u001b[0m\u001b[0mmap\u001b[0m\u001b[0;34m(\u001b[0m\u001b[0mint\u001b[0m\u001b[0;34m,\u001b[0m \u001b[0minput\u001b[0m\u001b[0;34m(\u001b[0m\u001b[0;34m)\u001b[0m\u001b[0;34m.\u001b[0m\u001b[0msplit\u001b[0m\u001b[0;34m(\u001b[0m\u001b[0;34m)\u001b[0m\u001b[0;34m)\u001b[0m\u001b[0;34m)\u001b[0m\u001b[0;34m\u001b[0m\u001b[0;34m\u001b[0m\u001b[0m\n\u001b[0;32m----> 3\u001b[0;31m \u001b[0mres1\u001b[0m \u001b[0;34m=\u001b[0m \u001b[0mmath\u001b[0m\u001b[0;34m.\u001b[0m\u001b[0mceil\u001b[0m\u001b[0;34m(\u001b[0m\u001b[0ma\u001b[0m\u001b[0;34m[\u001b[0m\u001b[0;36m0\u001b[0m\u001b[0;34m]\u001b[0m\u001b[0;34m/\u001b[0m\u001b[0ma\u001b[0m\u001b[0;34m[\u001b[0m\u001b[0;36m2\u001b[0m\u001b[0;34m]\u001b[0m\u001b[0;34m)\u001b[0m\u001b[0;34m\u001b[0m\u001b[0;34m\u001b[0m\u001b[0m\n\u001b[0m\u001b[1;32m      4\u001b[0m \u001b[0mres2\u001b[0m \u001b[0;34m=\u001b[0m \u001b[0mmath\u001b[0m\u001b[0;34m.\u001b[0m\u001b[0mceil\u001b[0m\u001b[0;34m(\u001b[0m\u001b[0ma\u001b[0m\u001b[0;34m[\u001b[0m\u001b[0;36m1\u001b[0m\u001b[0;34m]\u001b[0m\u001b[0;34m/\u001b[0m\u001b[0ma\u001b[0m\u001b[0;34m[\u001b[0m\u001b[0;36m2\u001b[0m\u001b[0;34m]\u001b[0m\u001b[0;34m)\u001b[0m\u001b[0;34m\u001b[0m\u001b[0;34m\u001b[0m\u001b[0m\n\u001b[1;32m      5\u001b[0m \u001b[0mprint\u001b[0m\u001b[0;34m(\u001b[0m\u001b[0mres1\u001b[0m \u001b[0;34m*\u001b[0m \u001b[0mres2\u001b[0m\u001b[0;34m)\u001b[0m\u001b[0;34m\u001b[0m\u001b[0;34m\u001b[0m\u001b[0m\n",
            "\u001b[0;31mIndexError\u001b[0m: list index out of range"
          ]
        }
      ],
      "source": [
        "\n",
        "import math\n",
        "a = list(map(int, input().split()))\n",
        "res1 = math.ceil(a[0]/a[2])\n",
        "res2 = math.ceil(a[1]/a[2])\n",
        "print(res1 * res2)"
      ]
    },
    {
      "cell_type": "markdown",
      "metadata": {
        "id": "QsjB0agQ9Icq"
      },
      "source": [
        "3\n",
        "0 1\n",
        "1 1\n",
        "2 -2\n",
        "\n",
        "\n",
        "\n",
        "5\n",
        "2 -10\n",
        "3 10\n",
        "0 5\n",
        "5 -5\n",
        "10 1\n"
      ]
    },
    {
      "cell_type": "code",
      "execution_count": null,
      "metadata": {
        "colab": {
          "base_uri": "https://localhost:8080/",
          "height": 211
        },
        "id": "SottQAqy6S6i",
        "outputId": "e1a94ad8-5032-467c-bca3-bf88a6f4ea1f"
      },
      "outputs": [
        {
          "ename": "ValueError",
          "evalue": "invalid literal for int() with base 10: ''",
          "output_type": "error",
          "traceback": [
            "\u001b[0;31m---------------------------------------------------------------------------\u001b[0m",
            "\u001b[0;31mValueError\u001b[0m                                Traceback (most recent call last)",
            "\u001b[0;32m<ipython-input-8-5ff63aef03a0>\u001b[0m in \u001b[0;36m<cell line: 0>\u001b[0;34m()\u001b[0m\n\u001b[1;32m      1\u001b[0m \u001b[0ms\u001b[0m \u001b[0;34m=\u001b[0m \u001b[0;34m[\u001b[0m\u001b[0;34m]\u001b[0m\u001b[0;34m\u001b[0m\u001b[0;34m\u001b[0m\u001b[0m\n\u001b[0;32m----> 2\u001b[0;31m \u001b[0mn\u001b[0m \u001b[0;34m=\u001b[0m \u001b[0mint\u001b[0m\u001b[0;34m(\u001b[0m\u001b[0minput\u001b[0m\u001b[0;34m(\u001b[0m\u001b[0;34m)\u001b[0m\u001b[0;34m)\u001b[0m\u001b[0;34m\u001b[0m\u001b[0;34m\u001b[0m\u001b[0m\n\u001b[0m\u001b[1;32m      3\u001b[0m \u001b[0;32mfor\u001b[0m \u001b[0m_\u001b[0m \u001b[0;32min\u001b[0m \u001b[0mrange\u001b[0m\u001b[0;34m(\u001b[0m\u001b[0mn\u001b[0m\u001b[0;34m)\u001b[0m\u001b[0;34m:\u001b[0m\u001b[0;34m\u001b[0m\u001b[0;34m\u001b[0m\u001b[0m\n\u001b[1;32m      4\u001b[0m   \u001b[0ma\u001b[0m \u001b[0;34m=\u001b[0m \u001b[0mlist\u001b[0m\u001b[0;34m(\u001b[0m\u001b[0mmap\u001b[0m\u001b[0;34m(\u001b[0m\u001b[0mint\u001b[0m\u001b[0;34m,\u001b[0m \u001b[0minput\u001b[0m\u001b[0;34m(\u001b[0m\u001b[0;34m)\u001b[0m\u001b[0;34m.\u001b[0m\u001b[0msplit\u001b[0m\u001b[0;34m(\u001b[0m\u001b[0;34m)\u001b[0m\u001b[0;34m)\u001b[0m\u001b[0;34m)\u001b[0m\u001b[0;34m\u001b[0m\u001b[0;34m\u001b[0m\u001b[0m\n\u001b[1;32m      5\u001b[0m   \u001b[0ms\u001b[0m\u001b[0;34m.\u001b[0m\u001b[0mappend\u001b[0m\u001b[0;34m(\u001b[0m\u001b[0msum\u001b[0m\u001b[0;34m(\u001b[0m\u001b[0ma\u001b[0m\u001b[0;34m)\u001b[0m\u001b[0;34m)\u001b[0m\u001b[0;34m\u001b[0m\u001b[0;34m\u001b[0m\u001b[0m\n",
            "\u001b[0;31mValueError\u001b[0m: invalid literal for int() with base 10: ''"
          ]
        }
      ],
      "source": [
        "s = []\n",
        "n = int(input())\n",
        "for _ in range(n):\n",
        "  a = list(map(int, input().split()))\n",
        "  s.append(sum(a))\n",
        "for n in range(len(s)):\n",
        "  if n != len(s)-1:\n",
        "    if s[n+1] == s[n]-1:\n",
        "      print('YES')\n",
        "      break\n",
        "print('NO')"
      ]
    },
    {
      "cell_type": "code",
      "execution_count": null,
      "metadata": {
        "colab": {
          "base_uri": "https://localhost:8080/",
          "height": 211
        },
        "id": "NG63UPdCQJY5",
        "outputId": "00305742-70b6-4228-b694-8f0608d6404c"
      },
      "outputs": [
        {
          "ename": "ValueError",
          "evalue": "invalid literal for int() with base 10: ''",
          "output_type": "error",
          "traceback": [
            "\u001b[0;31m---------------------------------------------------------------------------\u001b[0m",
            "\u001b[0;31mValueError\u001b[0m                                Traceback (most recent call last)",
            "\u001b[0;32m<ipython-input-7-9b448399590b>\u001b[0m in \u001b[0;36m<cell line: 0>\u001b[0;34m()\u001b[0m\n\u001b[0;32m----> 1\u001b[0;31m \u001b[0mt\u001b[0m \u001b[0;34m=\u001b[0m \u001b[0mint\u001b[0m\u001b[0;34m(\u001b[0m\u001b[0minput\u001b[0m\u001b[0;34m(\u001b[0m\u001b[0;34m)\u001b[0m\u001b[0;34m)\u001b[0m\u001b[0;34m\u001b[0m\u001b[0;34m\u001b[0m\u001b[0m\n\u001b[0m\u001b[1;32m      2\u001b[0m \u001b[0;32mfor\u001b[0m \u001b[0m_\u001b[0m \u001b[0;32min\u001b[0m \u001b[0mrange\u001b[0m\u001b[0;34m(\u001b[0m\u001b[0mt\u001b[0m\u001b[0;34m)\u001b[0m\u001b[0;34m:\u001b[0m\u001b[0;34m\u001b[0m\u001b[0;34m\u001b[0m\u001b[0m\n\u001b[1;32m      3\u001b[0m   \u001b[0ms\u001b[0m \u001b[0;34m=\u001b[0m \u001b[0;34m[\u001b[0m\u001b[0;34m]\u001b[0m\u001b[0;34m\u001b[0m\u001b[0;34m\u001b[0m\u001b[0m\n\u001b[1;32m      4\u001b[0m   \u001b[0mn\u001b[0m \u001b[0;34m=\u001b[0m \u001b[0mlist\u001b[0m\u001b[0;34m(\u001b[0m\u001b[0mmap\u001b[0m\u001b[0;34m(\u001b[0m\u001b[0mint\u001b[0m\u001b[0;34m,\u001b[0m \u001b[0minput\u001b[0m\u001b[0;34m(\u001b[0m\u001b[0;34m)\u001b[0m\u001b[0;34m.\u001b[0m\u001b[0msplit\u001b[0m\u001b[0;34m(\u001b[0m\u001b[0;34m)\u001b[0m\u001b[0;34m)\u001b[0m\u001b[0;34m)\u001b[0m\u001b[0;34m\u001b[0m\u001b[0;34m\u001b[0m\u001b[0m\n\u001b[1;32m      5\u001b[0m   \u001b[0mx\u001b[0m \u001b[0;34m=\u001b[0m \u001b[0mlist\u001b[0m\u001b[0;34m(\u001b[0m\u001b[0mmap\u001b[0m\u001b[0;34m(\u001b[0m\u001b[0mint\u001b[0m\u001b[0;34m,\u001b[0m \u001b[0minput\u001b[0m\u001b[0;34m(\u001b[0m\u001b[0;34m)\u001b[0m\u001b[0;34m.\u001b[0m\u001b[0msplit\u001b[0m\u001b[0;34m(\u001b[0m\u001b[0;34m)\u001b[0m\u001b[0;34m)\u001b[0m\u001b[0;34m)\u001b[0m\u001b[0;34m\u001b[0m\u001b[0;34m\u001b[0m\u001b[0m\n",
            "\u001b[0;31mValueError\u001b[0m: invalid literal for int() with base 10: ''"
          ]
        }
      ],
      "source": [
        "t = int(input())\n",
        "for _ in range(t):\n",
        "  s = []\n",
        "  n = list(map(int, input().split()))\n",
        "  x = list(map(int, input().split()))\n",
        "  for k in x:\n",
        "    s.append()"
      ]
    },
    {
      "cell_type": "code",
      "execution_count": null,
      "metadata": {
        "id": "q8V1LLyJ9bug"
      },
      "outputs": [],
      "source": [
        "t = (input())\n",
        "\n",
        "for _ in range(len(t)):\n",
        "  n = list(map(int, input().split()))\n",
        "  x = list(map(int, input().split()))\n",
        "  x.sort(reverse=True)\n",
        "  count = 0\n",
        "  team_size = 1\n",
        "\n",
        "  for i in range(len(x)):\n",
        "      # проверяем условие формирования сильной команды\n",
        "      if x[i] * team_size >= n[1]:\n",
        "          count += 1\n",
        "          team_size = 1  # формируем новую команду\n",
        "      else:\n",
        "          team_size += 1  # увеличиваем размер текущей команды\n",
        "\n",
        "  print(count)\n"
      ]
    },
    {
      "cell_type": "code",
      "execution_count": null,
      "metadata": {
        "colab": {
          "base_uri": "https://localhost:8080/"
        },
        "id": "xv9DzeFp_wnT",
        "outputId": "34894bde-14ee-4d73-e106-e9ba24e318a8"
      },
      "outputs": [
        {
          "name": "stdout",
          "output_type": "stream",
          "text": [
            "1\n",
            "5 2\n",
            "4 2 3 1 3\n",
            "10\n"
          ]
        }
      ],
      "source": [
        "t = int(input())\n",
        "for _ in range(t):\n",
        "  k = list(map(int,input().split()))\n",
        "  n = list(map(int,input().split()))\n",
        "  n.sort(reverse=True)\n",
        "  a = (n[:k[1]])\n",
        "  for i in range(len(a)):\n",
        "    n.pop(n.index(a[i]))\n",
        "  b = max(n)\n",
        "  su = sum(a) + b\n",
        "  print(su)"
      ]
    },
    {
      "cell_type": "code",
      "execution_count": null,
      "metadata": {
        "colab": {
          "base_uri": "https://localhost:8080/"
        },
        "id": "xzwHJYCUlQg_",
        "outputId": "d4aa82f9-54e9-408e-beae-a63529917bc2"
      },
      "outputs": [
        {
          "name": "stdout",
          "output_type": "stream",
          "text": [
            "1\n",
            "5 4 3\n",
            "1\n",
            "1\n",
            "[0]\n",
            "5 4\n",
            "0\n",
            "0\n"
          ]
        }
      ],
      "source": [
        "t = int(input())\n",
        "for _ in range(t):\n",
        "  s = []\n",
        "  k = list(map(int,input().split()))\n",
        "  a = list(map(int,input().split()))\n",
        "  a2 = a[:]\n",
        "  v = list(map(int,input().split()))\n",
        "  for i in range(len(a)):\n",
        "      c = a[i]\n",
        "      a.pop(i)\n",
        "      if a == v:\n",
        "        s.append(1)\n",
        "      else:\n",
        "        s.append(0)\n",
        "      a.insert(a2.index(c),c)\n",
        "      print(s)\n",
        "      print(k[0],k[1])\n",
        "  if k[0] != k[1]:\n",
        "    print(0000)\n",
        "    s.insert(0,0000)\n",
        "    print(s[0])\n",
        "  elif a == v:\n",
        "    print(1111)\n",
        "    break\n",
        "  if k[0] == k[1] and a!=v:\n",
        "    gh = int(''.join(map(str, s)))\n",
        "    print(gh)"
      ]
    },
    {
      "cell_type": "code",
      "execution_count": null,
      "metadata": {
        "colab": {
          "base_uri": "https://localhost:8080/",
          "height": 280
        },
        "id": "5Qq2r4-OBZl-",
        "outputId": "c7445029-bd93-49f1-ccc5-a7b061bbe744"
      },
      "outputs": [
        {
          "name": "stdout",
          "output_type": "stream",
          "text": [
            "1\n",
            "4 4 3\n",
            "1 2 3 4\n",
            "1 3 4\n"
          ]
        },
        {
          "ename": "IndexError",
          "evalue": "pop index out of range",
          "output_type": "error",
          "traceback": [
            "\u001b[0;31m---------------------------------------------------------------------------\u001b[0m",
            "\u001b[0;31mIndexError\u001b[0m                                Traceback (most recent call last)",
            "\u001b[0;32m<ipython-input-55-7a686974bb22>\u001b[0m in \u001b[0;36m<cell line: 0>\u001b[0;34m()\u001b[0m\n\u001b[1;32m     12\u001b[0m     \u001b[0ms\u001b[0m \u001b[0;34m=\u001b[0m \u001b[0;34m[\u001b[0m\u001b[0;34m]\u001b[0m\u001b[0;34m\u001b[0m\u001b[0;34m\u001b[0m\u001b[0m\n\u001b[1;32m     13\u001b[0m     \u001b[0;32mfor\u001b[0m \u001b[0mds\u001b[0m \u001b[0;32min\u001b[0m \u001b[0mrange\u001b[0m\u001b[0;34m(\u001b[0m\u001b[0mlen\u001b[0m\u001b[0;34m(\u001b[0m\u001b[0ma\u001b[0m\u001b[0;34m)\u001b[0m\u001b[0;34m)\u001b[0m\u001b[0;34m:\u001b[0m\u001b[0;34m\u001b[0m\u001b[0;34m\u001b[0m\u001b[0m\n\u001b[0;32m---> 14\u001b[0;31m       \u001b[0mnf\u001b[0m\u001b[0;34m.\u001b[0m\u001b[0mpop\u001b[0m\u001b[0;34m(\u001b[0m\u001b[0mds\u001b[0m\u001b[0;34m)\u001b[0m\u001b[0;34m\u001b[0m\u001b[0;34m\u001b[0m\u001b[0m\n\u001b[0m\u001b[1;32m     15\u001b[0m       \u001b[0;32mif\u001b[0m \u001b[0mv\u001b[0m \u001b[0;34m==\u001b[0m \u001b[0mn\u001b[0m\u001b[0;34m:\u001b[0m\u001b[0;34m\u001b[0m\u001b[0;34m\u001b[0m\u001b[0m\n\u001b[1;32m     16\u001b[0m         \u001b[0ms\u001b[0m\u001b[0;34m.\u001b[0m\u001b[0mappend\u001b[0m\u001b[0;34m(\u001b[0m\u001b[0;36m1\u001b[0m\u001b[0;34m)\u001b[0m\u001b[0;34m\u001b[0m\u001b[0;34m\u001b[0m\u001b[0m\n",
            "\u001b[0;31mIndexError\u001b[0m: pop index out of range"
          ]
        }
      ],
      "source": [
        "t = int(input())  # Количество тестов\n",
        "\n",
        "for _ in range(t):\n",
        "    # Читаем входные данные\n",
        "    n, m, k = map(int, input().split())  # n - количество вопросов, m - количество билетов, k - количество известных вопросов\n",
        "    a = list(map(int, input().split()))  # Массив пропущенных вопросов в билетах\n",
        "    v = list(map(int, input().split()))  # Массив известных вопросов\n",
        "    nf = []\n",
        "    for ks in range(n):\n",
        "      ks += 1\n",
        "      nf.append(ks)\n",
        "    s = []\n",
        "    for ds in range(len(a)):\n",
        "      nf= nf[:]\n",
        "      if v == nf:\n",
        "        s.append(1)\n",
        "      else:\n",
        "        s.append(0)\n",
        "    print(s)\n",
        "\"\"\"    # Создаём множество всех вопросов\n",
        "    questions = set(range(1, n + 1))\n",
        "\n",
        "    # Определяем неизвестные вопросы (все вопросы, кроме известных)\n",
        "    unknown_questions = questions - set(v)\n",
        "\n",
        "    # Проверяем каждый билет\n",
        "    result = []\n",
        "    for question in a:\n",
        "        # Если пропущенный вопрос билета входит в неизвестные вопросы, то Монокарп не сдаст экзамен\n",
        "        if question in unknown_questions:\n",
        "            result.append('0')\n",
        "        else:\n",
        "            result.append('1')\"\"\"\n",
        "\n",
        "    # Выводим результат\n",
        "    #print(''.join(result))"
      ]
    },
    {
      "cell_type": "code",
      "execution_count": null,
      "metadata": {
        "colab": {
          "base_uri": "https://localhost:8080/"
        },
        "id": "fp0R7AMiBy4v",
        "outputId": "86bbf549-e32b-4f10-cf7b-6a010d9d07c6"
      },
      "outputs": [
        {
          "name": "stdout",
          "output_type": "stream",
          "text": [
            "5 5\n",
            "-1 1 1 1 -1\n",
            "1 1\n",
            "0\n",
            "2 3\n",
            "0\n",
            "3 5\n",
            "1\n",
            "2 5\n",
            "1\n",
            "1 5\n",
            "0\n"
          ]
        }
      ],
      "source": [
        "n = list(map(int, input().split()))\n",
        "k = list(map(int, input().split()))\n",
        "for _ in range(n[1]):\n",
        "  s = []\n",
        "  m = list(map(int, input().split()))\n",
        "  for t in m:\n",
        "    sub = [subb-1 for subb in m]\n",
        "  for t in sub:\n",
        "    s.append(k[t])\n",
        "  if sum(s) == 0:\n",
        "    print(1)\n",
        "  else:\n",
        "    print(0)"
      ]
    },
    {
      "cell_type": "code",
      "execution_count": null,
      "metadata": {
        "colab": {
          "base_uri": "https://localhost:8080/"
        },
        "id": "wnk9z0JtLtur",
        "outputId": "53c88478-a73b-45e0-a90d-639dfa710f81"
      },
      "outputs": [
        {
          "name": "stdout",
          "output_type": "stream",
          "text": [
            "1000000001\n",
            "2 8\n",
            "YES\n"
          ]
        }
      ],
      "source": [
        "n =list(map(str, input().split()))\n",
        "digit = [d for d in n[0]]\n",
        "a1 = digit.count('1')\n",
        "a2 = digit.count('0')\n",
        "\n",
        "if a1 > 7:\n",
        "  print('YES')\n",
        "elif a2 > 7:\n",
        "  print('YES')\n",
        "else:\n",
        "  print('NO')"
      ]
    },
    {
      "cell_type": "code",
      "execution_count": null,
      "metadata": {
        "colab": {
          "base_uri": "https://localhost:8080/"
        },
        "id": "53LgReKfhe7X",
        "outputId": "43ab044b-a450-480b-93e6-6b36c2ea6c19"
      },
      "outputs": [
        {
          "name": "stdout",
          "output_type": "stream",
          "text": [
            "3\n",
            "2 1 2\n",
            "2\n"
          ]
        }
      ],
      "source": [
        "n = int(input())\n",
        "a = list(map(int, input().split()))\n",
        "a.sort(reverse=True)\n",
        "s = []\n",
        "while sum(s) <= sum(a):\n",
        "  s.append(a[0])\n",
        "  a.pop(0)\n",
        "print(len(s))"
      ]
    },
    {
      "cell_type": "code",
      "execution_count": null,
      "metadata": {
        "colab": {
          "base_uri": "https://localhost:8080/"
        },
        "id": "iq1vCKzZz-OD",
        "outputId": "b01db748-07de-46bb-d09d-a95c78ee5a8a"
      },
      "outputs": [
        {
          "name": "stdout",
          "output_type": "stream",
          "text": [
            "7 7\n",
            "6\n"
          ]
        }
      ],
      "source": [
        "n, k = map(int, input().split())\n",
        "\n",
        "# Calculate the number of odd numbers\n",
        "num_odds = (n + 1) // 2\n",
        "\n",
        "if k <= num_odds:\n",
        "    # The k-th element is an odd number\n",
        "    print(2 * k - 1)\n",
        "else:\n",
        "    # The k-th element is an even number\n",
        "    print(2 * (k - num_odds))"
      ]
    },
    {
      "cell_type": "code",
      "execution_count": null,
      "metadata": {
        "colab": {
          "base_uri": "https://localhost:8080/"
        },
        "id": "cmk7xDBtyEiP",
        "outputId": "8dbbae2b-dc5b-4037-b187-e4a764f62cfb"
      },
      "outputs": [
        {
          "name": "stdout",
          "output_type": "stream",
          "text": [
            "20 10 50\n",
            "50\n"
          ]
        }
      ],
      "source": [
        "n, x,y = map(int, input().split())\n",
        "n1 = x/n\n",
        "print(int(n1*100))\n",
        "if int(n1*100) == y:\n",
        "  print(0)\n"
      ]
    },
    {
      "cell_type": "code",
      "execution_count": null,
      "metadata": {
        "colab": {
          "base_uri": "https://localhost:8080/"
        },
        "id": "NGrsdRHKMdHj",
        "outputId": "efbb0461-0f93-4873-b6ef-c9a0e7a235d0"
      },
      "outputs": [
        {
          "name": "stdout",
          "output_type": "stream",
          "text": [
            "10 1 14\n",
            "0.14\n",
            "1\n"
          ]
        }
      ],
      "source": [
        "\n",
        "import math\n",
        "n, x, y = map(int, input().split())\n",
        "z = x\n",
        "n = n\n",
        "y = y/100\n",
        "x = (n * y) - z\n",
        "print(math.ceil(x))"
      ]
    },
    {
      "cell_type": "code",
      "execution_count": null,
      "metadata": {
        "id": "6k2iY0_GVFVR"
      },
      "outputs": [],
      "source": [
        "import math\n",
        "\n",
        "n, x, y = map(int, input().split())\n",
        "required = (y * n) / 100\n",
        "clones = max(0, math.ceil(required) - x)\n",
        "print(clones)"
      ]
    },
    {
      "cell_type": "code",
      "execution_count": null,
      "metadata": {
        "colab": {
          "base_uri": "https://localhost:8080/"
        },
        "id": "n36fLaD-x6U7",
        "outputId": "0917b2bb-68b8-4a25-f095-66af17135193"
      },
      "outputs": [
        {
          "name": "stdout",
          "output_type": "stream",
          "text": [
            "aBAcAba\n",
            ".b.c.b\n"
          ]
        }
      ],
      "source": [
        "b = [\"a\", \"o\", \"y\", \"e\", \"u\", \"i\"]\n",
        "user = str(input())\n",
        "a = user.lower()\n",
        "s = []\n",
        "for k in a:\n",
        "  s.append(k)\n",
        "for k in s:\n",
        "  if k in b:\n",
        "    s.pop(s.index(k))\n",
        "  for k in s:\n",
        "    if k in b:\n",
        "      s.pop(s.index(k))\n",
        "wi = ['.' + item for item in s]\n",
        "w = ''.join(wi)\n",
        "print(w)"
      ]
    },
    {
      "cell_type": "code",
      "execution_count": null,
      "metadata": {
        "colab": {
          "base_uri": "https://localhost:8080/"
        },
        "id": "2zvn512G9-Kh",
        "outputId": "fc7b63b2-3dc8-40a1-fd42-80e1fb9a6d7c"
      },
      "outputs": [
        {
          "name": "stdout",
          "output_type": "stream",
          "text": [
            "hlelo\n",
            "NO\n"
          ]
        }
      ],
      "source": [
        "\n",
        "def can_greet(word):\n",
        "    greeting = \"hello\"\n",
        "    j = 0  # Индекс в слове \"hello\"\n",
        "\n",
        "    for char in word:\n",
        "        if j < len(greeting) and char == greeting[j]:\n",
        "            j += 1\n",
        "\n",
        "    return \"YES\" if j == len(greeting) else \"NO\"\n",
        "\n",
        "# Чтение входных данных\n",
        "word = input().strip()\n",
        "\n",
        "# Проверка и вывод результата\n",
        "print(can_greet(word))"
      ]
    },
    {
      "cell_type": "code",
      "execution_count": null,
      "metadata": {
        "colab": {
          "base_uri": "https://localhost:8080/"
        },
        "id": "gdcN1PCwCtN_",
        "outputId": "1c136adb-e94f-4ed8-9dcf-5041fcf3922c"
      },
      "outputs": [
        {
          "name": "stdout",
          "output_type": "stream",
          "text": [
            "2\n",
            "X++\n",
            "--X\n",
            "0\n"
          ]
        }
      ],
      "source": [
        "x = 0\n",
        "n = int(input())\n",
        "for _ in range(n):\n",
        "  v = str(input())\n",
        "  if v == '++X' or v == 'X++':\n",
        "    x += 1\n",
        "  elif v == '--X' or v == 'X--':\n",
        "    x -= 1\n",
        "print(x)"
      ]
    },
    {
      "cell_type": "code",
      "execution_count": null,
      "metadata": {
        "colab": {
          "base_uri": "https://localhost:8080/"
        },
        "id": "guHBg0FCNA7T",
        "outputId": "a8002f37-fd63-4862-87a7-b6f1413d36ae"
      },
      "outputs": [
        {
          "name": "stdout",
          "output_type": "stream",
          "text": [
            "2\n",
            "10\n",
            "3\n",
            "60\n"
          ]
        }
      ],
      "source": [
        "a = int(input())\n",
        "b = int(input())\n",
        "c =int(input())\n",
        "s = []\n",
        "act1= a+b*c\n",
        "act2 = a*(b+c)\n",
        "act3 = a*b*c\n",
        "act4 = (a+b)*c\n",
        "s.append(act1)\n",
        "s.append(act2)\n",
        "s.append(act3)\n",
        "s.append(act4)\n",
        "print(max(s))"
      ]
    },
    {
      "cell_type": "code",
      "execution_count": null,
      "metadata": {
        "colab": {
          "base_uri": "https://localhost:8080/"
        },
        "id": "-4mDuIQdQ25d",
        "outputId": "cf2cf2e3-36d1-410a-9898-5ec04ef42513"
      },
      "outputs": [
        {
          "name": "stdout",
          "output_type": "stream",
          "text": [
            "2\n",
            "10\n",
            "3\n",
            "60\n"
          ]
        }
      ],
      "source": [
        "# Чтение входных данных\n",
        "a = int(input())\n",
        "b = int(input())\n",
        "c = int(input())\n",
        "\n",
        "# Рассматриваем все возможные варианты расстановки операций и скобок\n",
        "variants = [\n",
        "    a + b * c,      # a + b * c\n",
        "    a * (b + c),    # a * (b + c)\n",
        "    a * b * c,      # a * b * c\n",
        "    (a + b) * c     # (a + b) * c\n",
        "]\n",
        "\n",
        "# Находим и выводим максимальное значение\n",
        "print(max(variants))"
      ]
    },
    {
      "cell_type": "code",
      "execution_count": null,
      "metadata": {
        "colab": {
          "base_uri": "https://localhost:8080/"
        },
        "id": "ZqasN5GNaYwY",
        "outputId": "4727e731-3f80-4971-c130-7a15f0318f51"
      },
      "outputs": [
        {
          "name": "stdout",
          "output_type": "stream",
          "text": [
            "1\n",
            "1 2\n",
            "poor Alex\n"
          ]
        }
      ],
      "source": [
        "n = int(input())\n",
        "s = []\n",
        "for _ in range(n):\n",
        "  a = list(map(int, input().split()))\n",
        "  s.append(a)\n",
        "lst = sorted(s, key=lambda x: x[0])\n",
        "up = [sublist[1:] for sublist in lst]\n",
        "for k in range(len(up)):\n",
        "      result = any(up[k] > x for x in up[k:])\n",
        "      if result == True:\n",
        "        print('Happy Alex')\n",
        "        break\n",
        "      else:\n",
        "        print('Poor Alex')"
      ]
    },
    {
      "cell_type": "code",
      "execution_count": null,
      "metadata": {
        "colab": {
          "base_uri": "https://localhost:8080/"
        },
        "id": "JwjxMttgAJA9",
        "outputId": "ab64b9cc-0f93-4962-d51f-5a08c8eed17d"
      },
      "outputs": [
        {
          "name": "stdout",
          "output_type": "stream",
          "text": [
            "WUBWUBABCWUB\n",
            "ABC\n"
          ]
        }
      ],
      "source": [
        "s = str(input())\n",
        "for i in range(len(s)):\n",
        "  a = (s[i:i+3])\n",
        "  if a == 'WUB':\n",
        "    s = s.replace('WUB', \" \")\n",
        "s = s.strip()\n",
        "print(s)"
      ]
    },
    {
      "cell_type": "code",
      "execution_count": null,
      "metadata": {
        "colab": {
          "base_uri": "https://localhost:8080/"
        },
        "id": "iXZt2hanKfYg",
        "outputId": "9172bf6d-5567-4c71-ea0e-e1e1ea2db9fc"
      },
      "outputs": [
        {
          "name": "stdout",
          "output_type": "stream",
          "text": [
            "4\n",
            "1 2 1 1\n",
            "2\n"
          ]
        }
      ],
      "source": [
        "n= int(input())\n",
        "s = []\n",
        "i = list(map(int, input().split()))\n",
        "for t in i:\n",
        "  s.append(t%2)\n",
        "a = s.count(0)\n",
        "if a > 1:\n",
        "  for g in s:\n",
        "    if g%2 != 0:\n",
        "      print(s.index(g)+1)\n",
        "if a == 1:\n",
        "  for g in s:\n",
        "    if g%2 == 0:\n",
        "      print(s.index(g)+1)"
      ]
    },
    {
      "cell_type": "code",
      "execution_count": null,
      "metadata": {
        "colab": {
          "base_uri": "https://localhost:8080/"
        },
        "id": "JHyqphufwdcx",
        "outputId": "182ada25-80b4-4a4f-eb7c-850b8206d030"
      },
      "outputs": [
        {
          "name": "stdout",
          "output_type": "stream",
          "text": [
            "8\n",
            "1\n"
          ]
        }
      ],
      "source": [
        "x = int(input())\n",
        "star = 1\n",
        "s = []\n",
        "while star < x:\n",
        "  star *= 2\n",
        "  s.append(x-star)\n",
        "for k in s:\n",
        "  if k < 0:\n",
        "    s.pop(s.index(k))\n",
        "print(min(s)+1)"
      ]
    },
    {
      "cell_type": "code",
      "execution_count": null,
      "metadata": {
        "id": "EmcoARXp_svJ"
      },
      "outputs": [],
      "source": [
        "x = int(input())\n",
        "count = 0\n",
        "while x > 0:\n",
        "    if x % 2 == 1:\n",
        "        count += 1\n",
        "    x = x // 2\n",
        "print(count)"
      ]
    },
    {
      "cell_type": "code",
      "execution_count": null,
      "metadata": {
        "colab": {
          "base_uri": "https://localhost:8080/"
        },
        "id": "6NJ8-NTsDvFK",
        "outputId": "e091a792-3184-4f5e-9b1b-c5e85e24713c"
      },
      "outputs": [
        {
          "name": "stdout",
          "output_type": "stream",
          "text": [
            "3 3\n",
            "4\n"
          ]
        }
      ],
      "source": [
        "i = list(map(int, input().split()))\n",
        "c = i[0]*i[1]\n",
        "a = c/2\n",
        "print(int(a))"
      ]
    },
    {
      "cell_type": "code",
      "execution_count": null,
      "metadata": {
        "colab": {
          "base_uri": "https://localhost:8080/"
        },
        "id": "LDujrzlty8Xd",
        "outputId": "ac45e6cb-6cce-4299-fcdb-b31936d34625"
      },
      "outputs": [
        {
          "name": "stdout",
          "output_type": "stream",
          "text": [
            "27\n",
            "22\n"
          ]
        }
      ],
      "source": [
        "a = int(input())\n",
        "s = []\n",
        "a1 = str(a)\n",
        "for k in a1:\n",
        "  s.append(int(k))\n",
        "for t in range(len(s)):\n",
        "  if (t+1)%2==0:\n",
        "    po = int(s[t])\n",
        "    d = 9 - po\n",
        "    s.pop(t)\n",
        "    s.insert(t,d)\n",
        "z = int(''.join(map(str, s)))\n",
        "print(z)"
      ]
    },
    {
      "cell_type": "code",
      "execution_count": null,
      "metadata": {
        "colab": {
          "base_uri": "https://localhost:8080/"
        },
        "id": "aHKxtdf44CSa",
        "outputId": "653a34b4-2902-481f-bfb5-26cc2babf3e1"
      },
      "outputs": [
        {
          "name": "stdout",
          "output_type": "stream",
          "text": [
            "1\n",
            "5\n",
            "NO\n"
          ]
        }
      ],
      "source": [
        "\n",
        "n = int(input())\n",
        "i  = list(map(int, input().split()))\n",
        "for i in i:\n",
        "\n",
        "  for g in range(1,i+1):\n",
        "  j = 0\n",
        "    if (i%g) == 0:\n",
        "      j += 1\n",
        "  if j == 3:\n",
        "    print('YES')\n",
        "  else:\n",
        "    print('NO')"
      ]
    },
    {
      "cell_type": "code",
      "execution_count": null,
      "metadata": {
        "colab": {
          "base_uri": "https://localhost:8080/"
        },
        "id": "e5qp7aQK-VV7",
        "outputId": "71a382a4-a96d-48d5-bad2-a70fb3aaa34b"
      },
      "outputs": [
        {
          "name": "stdout",
          "output_type": "stream",
          "text": [
            "3\n",
            "4 5 6\n",
            "YES\n",
            "NO\n",
            "NO\n"
          ]
        }
      ],
      "source": [
        "limit = 1000000\n",
        "def calculate_prime_flag_for_each_number_upto_limit():\n",
        "    prime_flag = [True] * limit\n",
        "    prime_flag[0] = prime_flag[1] = False\n",
        "    for i in range(2,limit):\n",
        "        if prime_flag[i] == True:\n",
        "            for j in range(i*i, limit, i):\n",
        "                prime_flag[j] = False\n",
        "    return prime_flag\n",
        "\n",
        "def check_if_a_number_is_t_prime(n):\n",
        "    if n == 4:\n",
        "        return True\n",
        "    if n < 4 or n%2==0:\n",
        "        return False\n",
        "    sqrt_n = n**0.5\n",
        "    if sqrt_n==int(sqrt_n):\n",
        "        if prime_flag[int(sqrt_n)] == True:\n",
        "            return True\n",
        "    return False\n",
        "\n",
        "prime_flag = calculate_prime_flag_for_each_number_upto_limit()\n",
        "total_numbers = int(input())\n",
        "input_array = list(map(int,input().split()))\n",
        "for i in input_array:\n",
        "    if check_if_a_number_is_t_prime(i)==True:\n",
        "        print(\"YES\")\n",
        "    else:\n",
        "        print(\"NO\")"
      ]
    },
    {
      "cell_type": "code",
      "execution_count": null,
      "metadata": {
        "colab": {
          "base_uri": "https://localhost:8080/"
        },
        "id": "sU3WqEgOA1-T",
        "outputId": "7bd3ad43-33fb-48ac-bd47-6dd305c5be2c"
      },
      "outputs": [
        {
          "name": "stdout",
          "output_type": "stream",
          "text": [
            "5\n",
            "2 4 5 1 3\n",
            "YES\n",
            "YES\n",
            "YES\n",
            "NO\n"
          ]
        }
      ],
      "source": [
        "n = int(input())\n",
        "f = list(map(int, input().split()))\n",
        "f = [0] + f  # Чтобы индексы начинались с 1\n",
        "\n",
        "for i in range(1, n + 1):\n",
        "    a = i\n",
        "    b = f[a]\n",
        "    c = f[b]\n",
        "    if f[c] == a and a != b and b != c:\n",
        "        print(\"YES\")\n",
        "        exit()\n",
        "\n",
        "print(\"NO\")"
      ]
    },
    {
      "cell_type": "code",
      "execution_count": null,
      "metadata": {
        "colab": {
          "base_uri": "https://localhost:8080/"
        },
        "id": "Bw4rO3-6JGVS",
        "outputId": "647d8fd3-2502-47a2-8a67-27525b2c167d"
      },
      "outputs": [
        {
          "name": "stdout",
          "output_type": "stream",
          "text": [
            "abs\n",
            "Abz\n",
            "0\n"
          ]
        }
      ],
      "source": [
        "s1 = str(input())\n",
        "s2 = str(input())\n",
        "if len(s1) == len(s2):\n",
        "  print(0)\n",
        "elif len(s1) < len(s2):\n",
        "  print(-1)\n",
        "elif len(s1) > len(s2):\n",
        "  print(1)"
      ]
    },
    {
      "cell_type": "markdown",
      "metadata": {
        "id": "9duqVl54jkTh"
      },
      "source": [
        "139A"
      ]
    },
    {
      "cell_type": "code",
      "execution_count": null,
      "metadata": {
        "colab": {
          "base_uri": "https://localhost:8080/"
        },
        "id": "BdLlQ0AgvdNO",
        "outputId": "a83410c8-6092-4271-9acd-1adebd270498"
      },
      "outputs": [
        {
          "name": "stdout",
          "output_type": "stream",
          "text": [
            "100\n",
            "15 20 20 15 10 30 45\n",
            "6\n"
          ]
        }
      ],
      "source": [
        "n = int(input())\n",
        "s = list(map(int, input().split()))\n",
        "a = []\n",
        "for _ in range(n):\n",
        "  for i in range(len(s)):\n",
        "    n -= s[i]\n",
        "    if n <= 0:\n",
        "      if len(a) != 1:\n",
        "        a.append(i)\n",
        "z = a[0]\n",
        "print(z+1)\n"
      ]
    },
    {
      "cell_type": "code",
      "execution_count": null,
      "metadata": {
        "colab": {
          "base_uri": "https://localhost:8080/"
        },
        "id": "3QWycm9PjmCA",
        "outputId": "c23b4872-d20d-45ae-a184-ba85eb6b1ea7"
      },
      "outputs": [
        {
          "name": "stdout",
          "output_type": "stream",
          "text": [
            "3 3\n",
            "2 2 3\n",
            "1\n"
          ]
        }
      ],
      "source": [
        "n = list(map(int, input().split()))\n",
        "a = list(map(int, input().split()))\n",
        "s = []\n",
        "for i in range(len(a)):\n",
        "  j =0\n",
        "  k = 0\n",
        "  z = a[i:]\n",
        " # print(a[i:])\n",
        "  for kj in range(len(z)):\n",
        "    j += z[kj]\n",
        "    if j <= n[1]:\n",
        "      k += 1\n",
        "  s.append(k)\n",
        "print(max(s))"
      ]
    },
    {
      "cell_type": "code",
      "execution_count": null,
      "metadata": {
        "colab": {
          "base_uri": "https://localhost:8080/"
        },
        "id": "GfvSaC4g1p7h",
        "outputId": "58a459bc-8acf-405f-cc6f-a1861d2c443c"
      },
      "outputs": [
        {
          "name": "stdout",
          "output_type": "stream",
          "text": [
            "4 5\n",
            "3 1 2 1\n",
            "3\n"
          ]
        }
      ],
      "source": [
        "n = list(map(int, input().split()))\n",
        "a = list(map(int, input().split()))\n",
        "\n",
        "# Создаем массив накопительных сумм\n",
        "prefix_sums = [0] * (len(a) + 1)\n",
        "for i in range(len(a)):\n",
        "    prefix_sums[i + 1] = prefix_sums[i] + a[i]\n",
        "\n",
        "# Создаем список для хранения максимальных длин подпоследовательностей\n",
        "s = []\n",
        "\n",
        "# Для каждого элемента проверяем, сколько последовательных элементов не превышают n[1]\n",
        "for i in range(len(a)):\n",
        "    lo, hi = i, len(prefix_sums) - 1\n",
        "    ans = 0\n",
        "    # Бинарный поиск для нахождения максимальной длины подпоследовательности\n",
        "    while lo <= hi:\n",
        "        mid = (lo + hi) // 2\n",
        "        # Если сумма подпоследовательности не превышает n[1], двигаем нижнюю границу вправо\n",
        "        if prefix_sums[mid] - prefix_sums[i] <= n[1]:\n",
        "            ans = mid - i\n",
        "            lo = mid + 1\n",
        "        else:\n",
        "            hi = mid - 1\n",
        "    s.append(ans)\n",
        "\n",
        "# Выводим максимальное значение\n",
        "print(max(s))"
      ]
    },
    {
      "cell_type": "code",
      "execution_count": null,
      "metadata": {
        "colab": {
          "base_uri": "https://localhost:8080/",
          "height": 443
        },
        "id": "XnR2OFaY3Q_T",
        "outputId": "cf4deeb9-8bb8-4f5b-f3bc-5c430117acad"
      },
      "outputs": [
        {
          "name": "stdout",
          "output_type": "stream",
          "text": [
            "6\n",
            "first\n",
            "OK\n",
            "first\n",
            "first1\n"
          ]
        },
        {
          "ename": "KeyboardInterrupt",
          "evalue": "Interrupted by user",
          "output_type": "error",
          "traceback": [
            "\u001b[0;31m---------------------------------------------------------------------------\u001b[0m",
            "\u001b[0;31mKeyboardInterrupt\u001b[0m                         Traceback (most recent call last)",
            "\u001b[0;32m<ipython-input-22-12faacbf2998>\u001b[0m in \u001b[0;36m<cell line: 0>\u001b[0;34m()\u001b[0m\n\u001b[1;32m      2\u001b[0m \u001b[0ms\u001b[0m \u001b[0;34m=\u001b[0m \u001b[0;34m[\u001b[0m\u001b[0;34m]\u001b[0m\u001b[0;34m\u001b[0m\u001b[0;34m\u001b[0m\u001b[0m\n\u001b[1;32m      3\u001b[0m \u001b[0;32mfor\u001b[0m \u001b[0m_\u001b[0m \u001b[0;32min\u001b[0m \u001b[0mrange\u001b[0m\u001b[0;34m(\u001b[0m\u001b[0mn\u001b[0m\u001b[0;34m)\u001b[0m\u001b[0;34m:\u001b[0m\u001b[0;34m\u001b[0m\u001b[0;34m\u001b[0m\u001b[0m\n\u001b[0;32m----> 4\u001b[0;31m   \u001b[0ml\u001b[0m \u001b[0;34m=\u001b[0m \u001b[0mstr\u001b[0m\u001b[0;34m(\u001b[0m\u001b[0minput\u001b[0m\u001b[0;34m(\u001b[0m\u001b[0;34m)\u001b[0m\u001b[0;34m)\u001b[0m\u001b[0;34m\u001b[0m\u001b[0;34m\u001b[0m\u001b[0m\n\u001b[0m\u001b[1;32m      5\u001b[0m   \u001b[0;32mif\u001b[0m \u001b[0ml\u001b[0m \u001b[0;32mnot\u001b[0m \u001b[0;32min\u001b[0m \u001b[0ms\u001b[0m\u001b[0;34m:\u001b[0m\u001b[0;34m\u001b[0m\u001b[0;34m\u001b[0m\u001b[0m\n\u001b[1;32m      6\u001b[0m     \u001b[0ms\u001b[0m\u001b[0;34m.\u001b[0m\u001b[0mappend\u001b[0m\u001b[0;34m(\u001b[0m\u001b[0ml\u001b[0m\u001b[0;34m)\u001b[0m\u001b[0;34m\u001b[0m\u001b[0;34m\u001b[0m\u001b[0m\n",
            "\u001b[0;32m/usr/local/lib/python3.11/dist-packages/ipykernel/kernelbase.py\u001b[0m in \u001b[0;36mraw_input\u001b[0;34m(self, prompt)\u001b[0m\n\u001b[1;32m   1175\u001b[0m                 \u001b[0;34m\"raw_input was called, but this frontend does not support input requests.\"\u001b[0m\u001b[0;34m\u001b[0m\u001b[0;34m\u001b[0m\u001b[0m\n\u001b[1;32m   1176\u001b[0m             )\n\u001b[0;32m-> 1177\u001b[0;31m         return self._input_request(\n\u001b[0m\u001b[1;32m   1178\u001b[0m             \u001b[0mstr\u001b[0m\u001b[0;34m(\u001b[0m\u001b[0mprompt\u001b[0m\u001b[0;34m)\u001b[0m\u001b[0;34m,\u001b[0m\u001b[0;34m\u001b[0m\u001b[0;34m\u001b[0m\u001b[0m\n\u001b[1;32m   1179\u001b[0m             \u001b[0mself\u001b[0m\u001b[0;34m.\u001b[0m\u001b[0m_parent_ident\u001b[0m\u001b[0;34m[\u001b[0m\u001b[0;34m\"shell\"\u001b[0m\u001b[0;34m]\u001b[0m\u001b[0;34m,\u001b[0m\u001b[0;34m\u001b[0m\u001b[0;34m\u001b[0m\u001b[0m\n",
            "\u001b[0;32m/usr/local/lib/python3.11/dist-packages/ipykernel/kernelbase.py\u001b[0m in \u001b[0;36m_input_request\u001b[0;34m(self, prompt, ident, parent, password)\u001b[0m\n\u001b[1;32m   1217\u001b[0m             \u001b[0;32mexcept\u001b[0m \u001b[0mKeyboardInterrupt\u001b[0m\u001b[0;34m:\u001b[0m\u001b[0;34m\u001b[0m\u001b[0;34m\u001b[0m\u001b[0m\n\u001b[1;32m   1218\u001b[0m                 \u001b[0;31m# re-raise KeyboardInterrupt, to truncate traceback\u001b[0m\u001b[0;34m\u001b[0m\u001b[0;34m\u001b[0m\u001b[0m\n\u001b[0;32m-> 1219\u001b[0;31m                 \u001b[0;32mraise\u001b[0m \u001b[0mKeyboardInterrupt\u001b[0m\u001b[0;34m(\u001b[0m\u001b[0;34m\"Interrupted by user\"\u001b[0m\u001b[0;34m)\u001b[0m \u001b[0;32mfrom\u001b[0m \u001b[0;32mNone\u001b[0m\u001b[0;34m\u001b[0m\u001b[0;34m\u001b[0m\u001b[0m\n\u001b[0m\u001b[1;32m   1220\u001b[0m             \u001b[0;32mexcept\u001b[0m \u001b[0mException\u001b[0m\u001b[0;34m:\u001b[0m\u001b[0;34m\u001b[0m\u001b[0;34m\u001b[0m\u001b[0m\n\u001b[1;32m   1221\u001b[0m                 \u001b[0mself\u001b[0m\u001b[0;34m.\u001b[0m\u001b[0mlog\u001b[0m\u001b[0;34m.\u001b[0m\u001b[0mwarning\u001b[0m\u001b[0;34m(\u001b[0m\u001b[0;34m\"Invalid Message:\"\u001b[0m\u001b[0;34m,\u001b[0m \u001b[0mexc_info\u001b[0m\u001b[0;34m=\u001b[0m\u001b[0;32mTrue\u001b[0m\u001b[0;34m)\u001b[0m\u001b[0;34m\u001b[0m\u001b[0;34m\u001b[0m\u001b[0m\n",
            "\u001b[0;31mKeyboardInterrupt\u001b[0m: Interrupted by user"
          ]
        }
      ],
      "source": [
        "n =int(input())\n",
        "s = []\n",
        "for _ in range(n):\n",
        "  l = str(input())\n",
        "  if l not in s:\n",
        "    s.append(l)\n",
        "    print('OK')\n",
        "  else:\n",
        "    y = s.count(l)\n",
        "    z= str(y)\n",
        "    s.append(l)\n",
        "    print(l+z)\n"
      ]
    },
    {
      "cell_type": "code",
      "execution_count": null,
      "metadata": {
        "id": "zeQK9LY46jQN"
      },
      "outputs": [],
      "source": [
        "n = int(input())\n",
        "s = []\n",
        "count = {}\n",
        "\n",
        "for _ in range(n):\n",
        "    l = str(input())\n",
        "    if l not in count:\n",
        "        count[l] = 0\n",
        "        s.append(l)\n",
        "        print('OK')\n",
        "    else:\n",
        "        count[l] += 1\n",
        "        z = str(count[l])\n",
        "        s.append(l)\n",
        "        print(l + z)"
      ]
    },
    {
      "cell_type": "code",
      "execution_count": null,
      "metadata": {
        "colab": {
          "base_uri": "https://localhost:8080/",
          "height": 228
        },
        "id": "9ixjNvkhY8kX",
        "outputId": "e55b0421-2659-437d-cee7-308159099aff"
      },
      "outputs": [
        {
          "name": "stdout",
          "output_type": "stream",
          "text": [
            "1000000000\n"
          ]
        },
        {
          "ename": "KeyboardInterrupt",
          "evalue": "",
          "output_type": "error",
          "traceback": [
            "\u001b[0;31m---------------------------------------------------------------------------\u001b[0m",
            "\u001b[0;31mKeyboardInterrupt\u001b[0m                         Traceback (most recent call last)",
            "\u001b[0;32m<ipython-input-28-95c1260c1a55>\u001b[0m in \u001b[0;36m<cell line: 0>\u001b[0;34m()\u001b[0m\n\u001b[1;32m      8\u001b[0m   \u001b[0ms\u001b[0m\u001b[0;34m.\u001b[0m\u001b[0msort\u001b[0m\u001b[0;34m(\u001b[0m\u001b[0;34m)\u001b[0m\u001b[0;34m\u001b[0m\u001b[0;34m\u001b[0m\u001b[0m\n\u001b[1;32m      9\u001b[0m   \u001b[0mz\u001b[0m \u001b[0;34m=\u001b[0m \u001b[0mmin\u001b[0m\u001b[0;34m(\u001b[0m\u001b[0mx\u001b[0m \u001b[0;32mfor\u001b[0m \u001b[0mx\u001b[0m \u001b[0;32min\u001b[0m \u001b[0ms\u001b[0m \u001b[0;32mif\u001b[0m \u001b[0mx\u001b[0m \u001b[0;34m!=\u001b[0m \u001b[0;36m0\u001b[0m\u001b[0;34m)\u001b[0m\u001b[0;34m\u001b[0m\u001b[0;34m\u001b[0m\u001b[0m\n\u001b[0;32m---> 10\u001b[0;31m   \u001b[0mn\u001b[0m \u001b[0;34m-=\u001b[0m \u001b[0ma\u001b[0m\u001b[0;34m[\u001b[0m\u001b[0ms\u001b[0m\u001b[0;34m.\u001b[0m\u001b[0mindex\u001b[0m\u001b[0;34m(\u001b[0m\u001b[0mz\u001b[0m\u001b[0;34m)\u001b[0m\u001b[0;34m]\u001b[0m\u001b[0;34m\u001b[0m\u001b[0;34m\u001b[0m\u001b[0m\n\u001b[0m\u001b[1;32m     11\u001b[0m   \u001b[0mj\u001b[0m \u001b[0;34m+=\u001b[0m \u001b[0;36m1\u001b[0m\u001b[0;34m\u001b[0m\u001b[0;34m\u001b[0m\u001b[0m\n\u001b[1;32m     12\u001b[0m   \u001b[0;32mif\u001b[0m \u001b[0mn\u001b[0m \u001b[0;34m==\u001b[0m \u001b[0;36m0\u001b[0m\u001b[0;34m:\u001b[0m\u001b[0;34m\u001b[0m\u001b[0;34m\u001b[0m\u001b[0m\n",
            "\u001b[0;31mKeyboardInterrupt\u001b[0m: "
          ]
        }
      ],
      "source": [
        "n = int(input())\n",
        "a = [1,5,10,20,100]\n",
        "j = 0\n",
        "for _ in range(n):\n",
        "  s=[]\n",
        "  for i in a:\n",
        "    s.append((n//i))\n",
        "  z = min(x for x in s if x != 0)\n",
        "  n -= a[s.index(z)]\n",
        "  j += 1\n",
        "  if n == 0:\n",
        "    break\n",
        "print(j)"
      ]
    },
    {
      "cell_type": "code",
      "execution_count": null,
      "metadata": {
        "colab": {
          "base_uri": "https://localhost:8080/"
        },
        "id": "N0pplXALZO5A",
        "outputId": "5f17d80b-863b-4e2c-e042-f08d9f265a63"
      },
      "outputs": [
        {
          "name": "stdout",
          "output_type": "stream",
          "text": [
            "43\n",
            "5\n"
          ]
        }
      ],
      "source": [
        "n = int(input())\n",
        "a = [100, 20, 10, 5, 1]  # Изменили порядок для жадного алгоритма\n",
        "j = 0\n",
        "\n",
        "for i in a:\n",
        "    if n >= i:\n",
        "        count = n // i\n",
        "        j += count\n",
        "        n -= count * i\n",
        "    if n == 0:\n",
        "        break\n",
        "\n",
        "print(j)"
      ]
    },
    {
      "cell_type": "code",
      "execution_count": null,
      "metadata": {
        "colab": {
          "base_uri": "https://localhost:8080/"
        },
        "id": "2OGUbABXAOS7",
        "outputId": "e8e72127-a37d-4c52-90da-96cf656de2f9"
      },
      "outputs": [
        {
          "name": "stdout",
          "output_type": "stream",
          "text": [
            "4\n",
            "6 5 6 7\n",
            "2 3\n"
          ]
        }
      ],
      "source": [
        "n = int(input())\n",
        "a = list(map(int, input().split()))\n",
        "tower = {}\n",
        "for i in a:\n",
        "  if i not in tower.keys():\n",
        "    tower[i] = 1\n",
        "  elif i in tower.keys():\n",
        "    tower[i] += 1\n",
        "len(tower.keys())\n",
        "print(max(tower.values()),len(tower.keys()))"
      ]
    },
    {
      "cell_type": "code",
      "execution_count": null,
      "metadata": {
        "colab": {
          "base_uri": "https://localhost:8080/"
        },
        "id": "zn9J2Pk6nynU",
        "outputId": "0e320614-081d-42c1-fbe1-acb961756695"
      },
      "outputs": [
        {
          "name": "stdout",
          "output_type": "stream",
          "text": [
            "2 15\n",
            "69 96\n"
          ]
        }
      ],
      "source": [
        "n = list(map(int, input().split()))\n",
        "start = 10 ** (n[0] - 1)\n",
        "stop = 10 ** n[0]\n",
        "d = {}\n",
        "for num in range(start, stop):\n",
        "    dig = [int(d) for d in str(num)]\n",
        "    if sum(dig) == n[1]:\n",
        "      d[num] = 0\n",
        "if len(d.keys()) != 0:\n",
        "  print(min(d.keys()),max(d.keys()))\n",
        "else:\n",
        "  print(-1,-1)"
      ]
    },
    {
      "cell_type": "code",
      "execution_count": null,
      "metadata": {
        "id": "aeADmrXIuMsM"
      },
      "outputs": [],
      "source": [
        "m, s = map(int, input().split())\n",
        "if s == 0:\n",
        "    print('0 0\\n' if m == 1 else '-1 -1\\n')\n",
        "    exit()\n",
        "\n",
        "a = '9' * (s // 9)\n",
        "\n",
        "if s % 9:\n",
        "    a += f'{s % 9}'\n",
        "\n",
        "if len(a) > m:\n",
        "    print('-1 -1\\n')\n",
        "    exit()\n",
        "\n",
        "# Keep a copy before we start changing things in 'a'\n",
        "max_ans = a\n",
        "\n",
        "# Min\n",
        "while len(a) < m:\n",
        "    a = a[:-1] + f'{int(a[-1]) - 1}'\n",
        "    while len(a) < (m - 1):\n",
        "        a += '0'\n",
        "    a += '1'\n",
        "\n",
        "# Reverse the string\n",
        "# Slicing syntax is a[start_pos:end_pos:step], start_pos default 0, end_pos\n",
        "# default N-1, step default 1. But you can do a[::-1] to copy it in reverse,\n",
        "# pretty cool!\n",
        "min_ans = a[::-1]\n",
        "\n",
        "# Max\n",
        "while len(max_ans) < m:\n",
        "    max_ans += '0'\n",
        "\n",
        "# Print solution\n",
        "print(f'{min_ans} {max_ans}')"
      ]
    },
    {
      "cell_type": "markdown",
      "metadata": {
        "id": "WD5RUfhP26eq"
      },
      "source": [
        "939A"
      ]
    },
    {
      "cell_type": "code",
      "execution_count": null,
      "metadata": {
        "colab": {
          "base_uri": "https://localhost:8080/"
        },
        "id": "S4661N3K0ZDF",
        "outputId": "5a68c34e-a753-4d03-8851-9ff50d507865"
      },
      "outputs": [
        {
          "name": "stdout",
          "output_type": "stream",
          "text": [
            "5\n",
            "5 5 5 5 1\n",
            "[5, 5, 5, 5, 1]\n",
            "[0, 5, 5, 5, 5, 1]\n",
            "NO\n"
          ]
        }
      ],
      "source": [
        "n = int(input())\n",
        "f = list(map(int, input().split()))\n",
        "f = [0] +f\n",
        "j = 0\n",
        "for i in f:\n",
        "  a = i\n",
        "  b = f[a]\n",
        "  c = f[b]\n",
        "  if f[c] == a and a != b and b != c:\n",
        "      print(\"YES\")\n",
        "      j += 1\n",
        "      break\n",
        "if j == 0:\n",
        "  print('NO')"
      ]
    },
    {
      "cell_type": "markdown",
      "metadata": {
        "id": "CUUvT4LP5DEZ"
      },
      "source": [
        "466A"
      ]
    },
    {
      "cell_type": "code",
      "execution_count": null,
      "metadata": {
        "colab": {
          "base_uri": "https://localhost:8080/"
        },
        "id": "OVEj_bF53Id_",
        "outputId": "ac98b2ae-1015-440a-9a4f-57be467b29d5"
      },
      "outputs": [
        {
          "name": "stdout",
          "output_type": "stream",
          "text": [
            "6 2 1 2\n",
            "6\n"
          ]
        }
      ],
      "source": [
        "f = list(map(int, input().split()))\n",
        "s = []\n",
        "import math\n",
        "a = f[0]*f[2]\n",
        "x = math.ceil(f[0]/f[1])\n",
        "m = x * f[3]\n",
        "j = 0\n",
        "g = (f[0]//f[1])\n",
        "j += (g*f[3])\n",
        "n = f[0] - g\n",
        "a1 = math.ceil(n/f[2])\n",
        "j += a1\n",
        "s.append(j)\n",
        "s.append(a)\n",
        "s.append(m)\n",
        "print(min(s))"
      ]
    },
    {
      "cell_type": "code",
      "execution_count": null,
      "metadata": {
        "id": "nQh9qTASiB3z"
      },
      "outputs": [],
      "source": [
        "f = list(map(int, input().split()))\n",
        "s = []\n",
        "import math\n",
        "\n",
        "# Вариант 1: Только разовые билеты\n",
        "a = f[0] * f[2]\n",
        "\n",
        "# Вариант 2: Только абонементы\n",
        "x = math.ceil(f[0] / f[1])\n",
        "m = x * f[3]\n",
        "\n",
        "# Вариант 3: Комбинация абонементов и билетов\n",
        "g = f[0] // f[1]\n",
        "j = g * f[3]\n",
        "n = f[0] - g * f[1]\n",
        "a1 = n * f[2]\n",
        "j += a1\n",
        "\n",
        "# Вариант 4: На один абонемент больше, но меньше билетов\n",
        "if f[0] % f[1] != 0:\n",
        "    j2 = (g + 1) * f[3]\n",
        "    s.append(j2)\n",
        "\n",
        "s.append(j)\n",
        "s.append(a)\n",
        "s.append(m)\n",
        "\n",
        "print(min(s))"
      ]
    },
    {
      "cell_type": "markdown",
      "metadata": {
        "id": "GNxSZSdp7UvD"
      },
      "source": [
        "492B"
      ]
    },
    {
      "cell_type": "code",
      "execution_count": null,
      "metadata": {
        "colab": {
          "base_uri": "https://localhost:8080/",
          "height": 356
        },
        "id": "c4WyOn12nW_b",
        "outputId": "1066bfe9-2eb4-44a0-90c4-478af62962f5"
      },
      "outputs": [
        {
          "ename": "KeyboardInterrupt",
          "evalue": "Interrupted by user",
          "output_type": "error",
          "traceback": [
            "\u001b[0;31m---------------------------------------------------------------------------\u001b[0m",
            "\u001b[0;31mKeyboardInterrupt\u001b[0m                         Traceback (most recent call last)",
            "\u001b[0;32m<ipython-input-9-7cd714098ffd>\u001b[0m in \u001b[0;36m<cell line: 0>\u001b[0;34m()\u001b[0m\n\u001b[0;32m----> 1\u001b[0;31m \u001b[0mn\u001b[0m\u001b[0;34m,\u001b[0m \u001b[0ml\u001b[0m \u001b[0;34m=\u001b[0m \u001b[0mmap\u001b[0m\u001b[0;34m(\u001b[0m\u001b[0mint\u001b[0m\u001b[0;34m,\u001b[0m \u001b[0minput\u001b[0m\u001b[0;34m(\u001b[0m\u001b[0;34m)\u001b[0m\u001b[0;34m.\u001b[0m\u001b[0msplit\u001b[0m\u001b[0;34m(\u001b[0m\u001b[0;34m)\u001b[0m\u001b[0;34m)\u001b[0m\u001b[0;34m\u001b[0m\u001b[0;34m\u001b[0m\u001b[0m\n\u001b[0m\u001b[1;32m      2\u001b[0m \u001b[0ma\u001b[0m \u001b[0;34m=\u001b[0m \u001b[0mlist\u001b[0m\u001b[0;34m(\u001b[0m\u001b[0mmap\u001b[0m\u001b[0;34m(\u001b[0m\u001b[0mint\u001b[0m\u001b[0;34m,\u001b[0m \u001b[0minput\u001b[0m\u001b[0;34m(\u001b[0m\u001b[0;34m)\u001b[0m\u001b[0;34m.\u001b[0m\u001b[0msplit\u001b[0m\u001b[0;34m(\u001b[0m\u001b[0;34m)\u001b[0m\u001b[0;34m)\u001b[0m\u001b[0;34m)\u001b[0m\u001b[0;34m\u001b[0m\u001b[0;34m\u001b[0m\u001b[0m\n\u001b[1;32m      3\u001b[0m \u001b[0ma\u001b[0m\u001b[0;34m.\u001b[0m\u001b[0msort\u001b[0m\u001b[0;34m(\u001b[0m\u001b[0;34m)\u001b[0m\u001b[0;34m\u001b[0m\u001b[0;34m\u001b[0m\u001b[0m\n\u001b[1;32m      4\u001b[0m \u001b[0;34m\u001b[0m\u001b[0m\n\u001b[1;32m      5\u001b[0m \u001b[0mmax_gap\u001b[0m \u001b[0;34m=\u001b[0m \u001b[0;36m0\u001b[0m\u001b[0;34m\u001b[0m\u001b[0;34m\u001b[0m\u001b[0m\n",
            "\u001b[0;32m/usr/local/lib/python3.11/dist-packages/ipykernel/kernelbase.py\u001b[0m in \u001b[0;36mraw_input\u001b[0;34m(self, prompt)\u001b[0m\n\u001b[1;32m   1175\u001b[0m                 \u001b[0;34m\"raw_input was called, but this frontend does not support input requests.\"\u001b[0m\u001b[0;34m\u001b[0m\u001b[0;34m\u001b[0m\u001b[0m\n\u001b[1;32m   1176\u001b[0m             )\n\u001b[0;32m-> 1177\u001b[0;31m         return self._input_request(\n\u001b[0m\u001b[1;32m   1178\u001b[0m             \u001b[0mstr\u001b[0m\u001b[0;34m(\u001b[0m\u001b[0mprompt\u001b[0m\u001b[0;34m)\u001b[0m\u001b[0;34m,\u001b[0m\u001b[0;34m\u001b[0m\u001b[0;34m\u001b[0m\u001b[0m\n\u001b[1;32m   1179\u001b[0m             \u001b[0mself\u001b[0m\u001b[0;34m.\u001b[0m\u001b[0m_parent_ident\u001b[0m\u001b[0;34m[\u001b[0m\u001b[0;34m\"shell\"\u001b[0m\u001b[0;34m]\u001b[0m\u001b[0;34m,\u001b[0m\u001b[0;34m\u001b[0m\u001b[0;34m\u001b[0m\u001b[0m\n",
            "\u001b[0;32m/usr/local/lib/python3.11/dist-packages/ipykernel/kernelbase.py\u001b[0m in \u001b[0;36m_input_request\u001b[0;34m(self, prompt, ident, parent, password)\u001b[0m\n\u001b[1;32m   1217\u001b[0m             \u001b[0;32mexcept\u001b[0m \u001b[0mKeyboardInterrupt\u001b[0m\u001b[0;34m:\u001b[0m\u001b[0;34m\u001b[0m\u001b[0;34m\u001b[0m\u001b[0m\n\u001b[1;32m   1218\u001b[0m                 \u001b[0;31m# re-raise KeyboardInterrupt, to truncate traceback\u001b[0m\u001b[0;34m\u001b[0m\u001b[0;34m\u001b[0m\u001b[0m\n\u001b[0;32m-> 1219\u001b[0;31m                 \u001b[0;32mraise\u001b[0m \u001b[0mKeyboardInterrupt\u001b[0m\u001b[0;34m(\u001b[0m\u001b[0;34m\"Interrupted by user\"\u001b[0m\u001b[0;34m)\u001b[0m \u001b[0;32mfrom\u001b[0m \u001b[0;32mNone\u001b[0m\u001b[0;34m\u001b[0m\u001b[0;34m\u001b[0m\u001b[0m\n\u001b[0m\u001b[1;32m   1220\u001b[0m             \u001b[0;32mexcept\u001b[0m \u001b[0mException\u001b[0m\u001b[0;34m:\u001b[0m\u001b[0;34m\u001b[0m\u001b[0;34m\u001b[0m\u001b[0m\n\u001b[1;32m   1221\u001b[0m                 \u001b[0mself\u001b[0m\u001b[0;34m.\u001b[0m\u001b[0mlog\u001b[0m\u001b[0;34m.\u001b[0m\u001b[0mwarning\u001b[0m\u001b[0;34m(\u001b[0m\u001b[0;34m\"Invalid Message:\"\u001b[0m\u001b[0;34m,\u001b[0m \u001b[0mexc_info\u001b[0m\u001b[0;34m=\u001b[0m\u001b[0;32mTrue\u001b[0m\u001b[0;34m)\u001b[0m\u001b[0;34m\u001b[0m\u001b[0;34m\u001b[0m\u001b[0m\n",
            "\u001b[0;31mKeyboardInterrupt\u001b[0m: Interrupted by user"
          ]
        }
      ],
      "source": [
        "n, l = map(int, input().split())\n",
        "a = list(map(int, input().split()))\n",
        "a.sort()\n",
        "\n",
        "max_gap = 0\n",
        "for i in range(1, n):\n",
        "    gap = a[i] - a[i-1]\n",
        "    if gap > max_gap:\n",
        "        max_gap = gap\n",
        "\n",
        "# Учитываем начало и конец улицы\n",
        "d = max(a[0], l - a[-1], max_gap / 2)\n",
        "\n",
        "print(\"{0:.10f}\".format(d))"
      ]
    },
    {
      "cell_type": "markdown",
      "metadata": {
        "id": "gxsTJhBz998x"
      },
      "source": [
        "158B"
      ]
    },
    {
      "cell_type": "code",
      "execution_count": null,
      "metadata": {
        "colab": {
          "base_uri": "https://localhost:8080/"
        },
        "id": "hzKADL7K_ZIq",
        "outputId": "67931aea-b9ce-46b0-a3e1-5f60b0845bab"
      },
      "outputs": [
        {
          "name": "stdout",
          "output_type": "stream",
          "text": [
            "5\n",
            "1 2 4 3 3\n",
            "[0, 0, 0, 0, 0]\n",
            "[0, 1, 1, 2, 1]\n",
            "1\n",
            "4\n"
          ]
        }
      ],
      "source": [
        "n = int(input())\n",
        "groups = list(map(int, input().split()))\n",
        "count = [0] * 5\n",
        "print(count)\n",
        "for size in groups:\n",
        "    count[size] += 1\n",
        "print(count)\n",
        "taxis = count[4]  # Каждая группа из 4 требует отдельное такси\n",
        "print(taxis)\n",
        "# Группы из 3 и 1\n",
        "taxis += count[3]\n",
        "count[1] = max(0, count[1] - count[3])\n",
        "\n",
        "# Группы из 2\n",
        "taxis += count[2] // 2\n",
        "remaining_2 = count[2] % 2\n",
        "\n",
        "if remaining_2:\n",
        "    taxis += 1\n",
        "    count[1] = max(0, count[1] - 2)\n",
        "\n",
        "# Оставшиеся группы из 1\n",
        "taxis += (count[1] + 3) // 4\n",
        "\n",
        "print(taxis)"
      ]
    },
    {
      "cell_type": "markdown",
      "metadata": {
        "id": "1Vi6S6q2Bp29"
      },
      "source": [
        "339B"
      ]
    },
    {
      "cell_type": "code",
      "execution_count": null,
      "metadata": {
        "colab": {
          "base_uri": "https://localhost:8080/",
          "height": 245
        },
        "id": "oBGGkkUcBrRF",
        "outputId": "7934c818-f2e5-46d4-c089-7e3136ee76b3"
      },
      "outputs": [
        {
          "name": "stdout",
          "output_type": "stream",
          "text": [
            "4 3\n",
            "3 2 3\n"
          ]
        },
        {
          "ename": "TypeError",
          "evalue": "'list' object is not callable",
          "output_type": "error",
          "traceback": [
            "\u001b[0;31m---------------------------------------------------------------------------\u001b[0m",
            "\u001b[0;31mTypeError\u001b[0m                                 Traceback (most recent call last)",
            "\u001b[0;32m<ipython-input-37-c58ff4e87a8c>\u001b[0m in \u001b[0;36m<cell line: 0>\u001b[0;34m()\u001b[0m\n\u001b[1;32m      4\u001b[0m \u001b[0mlst\u001b[0m \u001b[0;34m=\u001b[0m \u001b[0mlst\u001b[0m \u001b[0;34m*\u001b[0m \u001b[0;36m10\u001b[0m\u001b[0;34m\u001b[0m\u001b[0;34m\u001b[0m\u001b[0m\n\u001b[1;32m      5\u001b[0m \u001b[0mj\u001b[0m \u001b[0;34m=\u001b[0m \u001b[0;36m0\u001b[0m\u001b[0;34m\u001b[0m\u001b[0;34m\u001b[0m\u001b[0m\n\u001b[0;32m----> 6\u001b[0;31m \u001b[0;32mfor\u001b[0m \u001b[0ma\u001b[0m \u001b[0;32min\u001b[0m \u001b[0mlst\u001b[0m\u001b[0;34m(\u001b[0m\u001b[0;36m0\u001b[0m\u001b[0;34m)\u001b[0m\u001b[0;34m:\u001b[0m\u001b[0;34m\u001b[0m\u001b[0;34m\u001b[0m\u001b[0m\n\u001b[0m\u001b[1;32m      7\u001b[0m   \u001b[0mj\u001b[0m \u001b[0;34m+=\u001b[0m \u001b[0;36m1\u001b[0m\u001b[0;34m\u001b[0m\u001b[0;34m\u001b[0m\u001b[0m\n\u001b[1;32m      8\u001b[0m \u001b[0;34m\u001b[0m\u001b[0m\n",
            "\u001b[0;31mTypeError\u001b[0m: 'list' object is not callable"
          ]
        }
      ],
      "source": [
        "n = list(map(int, input().split()))\n",
        "g = list(map(int, input().split()))\n",
        "lst = list(range(1, n[0] + 1))\n",
        "lst = lst * 10\n",
        "j = 0\n",
        "for a in lst:\n",
        "  j += 1\n",
        "\n",
        "  if len(g) == 0:\n",
        "    break\n",
        "  if lst[a] == g[0]:\n",
        "    g.pop(0)\n",
        "print(j)"
      ]
    },
    {
      "cell_type": "code",
      "execution_count": null,
      "metadata": {
        "colab": {
          "base_uri": "https://localhost:8080/"
        },
        "id": "aUaGNCfLMIwY",
        "outputId": "86f54c18-3733-4602-c689-d4436a5e1584"
      },
      "outputs": [
        {
          "name": "stdout",
          "output_type": "stream",
          "text": [
            "4 3\n",
            "3 2 3\n",
            "6\n"
          ]
        }
      ],
      "source": [
        "n, m = map(int, input().split())\n",
        "a = list(map(int, input().split()))\n",
        "\n",
        "current_pos = 1\n",
        "time = 0\n",
        "\n",
        "for target in a:\n",
        "    if target >= current_pos:\n",
        "        time += target - current_pos\n",
        "    else:\n",
        "        time += n - current_pos + target\n",
        "    current_pos = target\n",
        "\n",
        "print(time)"
      ]
    },
    {
      "cell_type": "markdown",
      "metadata": {
        "id": "9QKpLDdRogZ3"
      },
      "source": [
        "2A"
      ]
    },
    {
      "cell_type": "code",
      "execution_count": null,
      "metadata": {
        "id": "DcvRcjZpMnVI"
      },
      "outputs": [],
      "source": [
        "n = int(input())\n",
        "players = {}\n",
        "history = []\n",
        "\n",
        "# Считываем данные и заполняем статистику\n",
        "for _ in range(n):\n",
        "    name, score = input().split()\n",
        "    score = int(score)\n",
        "    history.append((name, score))\n",
        "    if name in players:\n",
        "        players[name] += score\n",
        "    else:\n",
        "        players[name] = score\n",
        "\n",
        "# Находим максимальный счет\n",
        "max_score = max(players.values())\n",
        "\n",
        "# Собираем всех игроков с максимальным счетом\n",
        "winners = [name for name, score in players.items() if score == max_score]\n",
        "\n",
        "# Если победитель один - выводим его\n",
        "if len(winners) == 1:\n",
        "    print(winners[0])\n",
        "else:\n",
        "    # Ищем, кто первым достиг max_score\n",
        "    temp_scores = {}\n",
        "    first_winner = None\n",
        "    for name, score in history:\n",
        "        if name not in temp_scores:\n",
        "            temp_scores[name] = 0\n",
        "        temp_scores[name] += score\n",
        "        # Проверяем, достиг ли текущий игрок max_score и является ли он потенциальным победителем\n",
        "        if temp_scores[name] >= max_score and name in winners:\n",
        "            first_winner = name\n",
        "            break\n",
        "    print(first_winner)"
      ]
    },
    {
      "cell_type": "markdown",
      "metadata": {
        "id": "6ZDRGuD0pnA2"
      },
      "source": [
        "519B"
      ]
    },
    {
      "cell_type": "code",
      "execution_count": null,
      "metadata": {
        "colab": {
          "base_uri": "https://localhost:8080/"
        },
        "id": "cenrYoK4ppq1",
        "outputId": "bc847fa8-354c-42d0-a3ce-34d5a4a8a8c0"
      },
      "outputs": [
        {
          "name": "stdout",
          "output_type": "stream",
          "text": [
            "1\n",
            "7\n"
          ]
        }
      ],
      "source": [
        "\n",
        "a = [1, 4, 3, 3, 5, 7]\n",
        "b = [3, 7, 5, 4, 3]\n",
        "\n",
        "c = [4, 3, 7, 5]\n",
        "z = a+b\n",
        "z2 = list(set(z))\n",
        "for t in z2:\n",
        "  if z.count(t) == 1:\n",
        "    break\n",
        "print(t)\n",
        "z = b+c\n",
        "z2 = list(set(z))\n",
        "for t in z2:\n",
        "  if z.count(t) == 1:\n",
        "    break\n",
        "print(t)"
      ]
    },
    {
      "cell_type": "code",
      "execution_count": null,
      "metadata": {
        "id": "_kv9wWVtONtI"
      },
      "outputs": [],
      "source": []
    },
    {
      "cell_type": "code",
      "execution_count": null,
      "metadata": {
        "id": "F-U9GpLRv3Fd"
      },
      "outputs": [],
      "source": [
        "if a in b:\n",
        "  print(a)"
      ]
    },
    {
      "cell_type": "markdown",
      "metadata": {
        "id": "UpP7d-PsKyFw"
      },
      "source": [
        "349A"
      ]
    },
    {
      "cell_type": "code",
      "execution_count": null,
      "metadata": {
        "id": "Ww2OfbXFK0Zf"
      },
      "outputs": [],
      "source": [
        "cash = 0\n",
        "j = 0\n",
        "n = int(input())\n",
        "a = list(map(int, input().split()))\n",
        "for k in a:\n",
        "  c = k - 25\n",
        "  cash -= c\n",
        "  if cash < 0:\n",
        "    j += 1\n",
        "    print('NO')\n",
        "    exit()\n",
        "  cash += k\n",
        "if j == 0:\n",
        "  print('YES')"
      ]
    },
    {
      "cell_type": "code",
      "execution_count": null,
      "metadata": {
        "id": "MmMAnMHiOOQH"
      },
      "outputs": [],
      "source": [
        "n = int(input())\n",
        "bills = list(map(int, input().split()))\n",
        "cash_25 = 0\n",
        "cash_50 = 0\n",
        "\n",
        "for bill in bills:\n",
        "    if bill == 25:\n",
        "        cash_25 += 1\n",
        "    elif bill == 50:\n",
        "        if cash_25 >= 1:\n",
        "            cash_25 -= 1\n",
        "            cash_50 += 1\n",
        "        else:\n",
        "            print(\"NO\")\n",
        "            exit()\n",
        "    elif bill == 100:\n",
        "        if cash_50 >= 1 and cash_25 >= 1:\n",
        "            cash_50 -= 1\n",
        "            cash_25 -= 1\n",
        "        elif cash_25 >= 3:\n",
        "            cash_25 -= 3\n",
        "        else:\n",
        "            print(\"NO\")\n",
        "            exit()\n",
        "\n",
        "print(\"YES\")"
      ]
    },
    {
      "cell_type": "markdown",
      "metadata": {
        "id": "ofXANk2vOgA-"
      },
      "source": [
        "459A"
      ]
    },
    {
      "cell_type": "code",
      "execution_count": null,
      "metadata": {
        "id": "IKzUjDN6QcfP"
      },
      "outputs": [],
      "source": [
        "b = list(map(int, input().split()))\n",
        "s = list(set(b))\n",
        "print(s[0],s[1])"
      ]
    },
    {
      "cell_type": "markdown",
      "metadata": {
        "id": "Agjcfi8z6Qo7"
      },
      "source": [
        "1873B"
      ]
    },
    {
      "cell_type": "code",
      "execution_count": null,
      "metadata": {
        "colab": {
          "base_uri": "https://localhost:8080/"
        },
        "id": "umvi2t5R6Ur7",
        "outputId": "771dd829-7069-4282-f801-95db5a5f1b78"
      },
      "outputs": [
        {
          "name": "stdout",
          "output_type": "stream",
          "text": [
            "3 1\n",
            "WB\n",
            "[]\n",
            "[]\n"
          ]
        }
      ],
      "source": [
        "n  = list(map(int, input().split()))\n",
        "a = str(input())\n",
        "b = [i2 for i2 in a]\n",
        "for k in b:\n",
        "  if k == 'B':\n",
        "    b = b[b.index(k):n[1]]\n",
        "    print(b)\n",
        "    for i in range(len(b)):\n",
        "      b[i] = 'W'\n",
        "print(b)"
      ]
    },
    {
      "cell_type": "markdown",
      "metadata": {
        "id": "ZVTta8xBAoxT"
      },
      "source": [
        "драконы"
      ]
    },
    {
      "cell_type": "code",
      "execution_count": null,
      "metadata": {
        "colab": {
          "base_uri": "https://localhost:8080/"
        },
        "id": "pLeq1B8W72Kh",
        "outputId": "a4c5aafe-415a-492d-daa6-7cac8cf0ae13"
      },
      "outputs": [
        {
          "name": "stdout",
          "output_type": "stream",
          "text": [
            "2 2\n",
            "1 99\n",
            "100 0\n",
            "YES\n"
          ]
        }
      ],
      "source": [
        "n  = list(map(int, input().split()))\n",
        "s = []\n",
        "for _ in range(n[1]):\n",
        "  a=list(map(int, input().split()))\n",
        "  s.append(a)\n",
        "s.sort()\n",
        "j = 0\n",
        "p = n[0]\n",
        "for y in s:\n",
        "  if p > y[0]:\n",
        "    p += y[1]\n",
        "  elif p < y[0]:\n",
        "    print('NO')\n",
        "    j += 1\n",
        "    exit()\n",
        "if j == 0:\n",
        "  print('YES')"
      ]
    },
    {
      "cell_type": "code",
      "execution_count": null,
      "metadata": {
        "id": "LaFR8_FjBksj"
      },
      "outputs": [],
      "source": [
        "s, n = map(int, input().split())\n",
        "dragons = []\n",
        "for _ in range(n):\n",
        "    x, y = map(int, input().split())\n",
        "    dragons.append((x, y))\n",
        "\n",
        "# Сортируем драконов по силе (x), а при равной силе - по бонусу (y) в убывающем порядке\n",
        "dragons.sort()\n",
        "\n",
        "for x, y in dragons:\n",
        "    if s > x:\n",
        "        s += y\n",
        "    else:\n",
        "        print(\"NO\")\n",
        "        exit()\n",
        "\n",
        "print(\"YES\")"
      ]
    },
    {
      "cell_type": "markdown",
      "metadata": {
        "id": "mljMiSNYH6aE"
      },
      "source": [
        "C. Произведение трех чисел"
      ]
    },
    {
      "cell_type": "code",
      "execution_count": null,
      "metadata": {
        "colab": {
          "base_uri": "https://localhost:8080/"
        },
        "id": "r5qZGaU2_u1K",
        "outputId": "f5869b4d-ccfa-4808-d7bb-8d6598319bb6"
      },
      "outputs": [
        {
          "name": "stdout",
          "output_type": "stream",
          "text": [
            "100\n"
          ]
        }
      ],
      "source": [
        "import math\n",
        "\n",
        "def solve():\n",
        "    t = int(input())\n",
        "    for _ in range(t):\n",
        "        n = int(input())\n",
        "        a = -1\n",
        "        b = -1\n",
        "        c = -1\n",
        "        # Ищем первый делитель a >= 2\n",
        "        for i in range(2, int(math.isqrt(n)) + 1):\n",
        "            if n % i == 0:\n",
        "                a = i\n",
        "                break\n",
        "        if a == -1:\n",
        "            print(\"NO\")\n",
        "            continue\n",
        "        # Делим n на a и ищем второй делитель b > a\n",
        "        remaining = n // a\n",
        "        for i in range(a + 1, int(math.isqrt(remaining)) + 1):\n",
        "            if remaining % i == 0:\n",
        "                b = i\n",
        "                break\n",
        "        if b == -1:\n",
        "            print(\"NO\")\n",
        "            continue\n",
        "        # Третий делитель c = remaining / b\n",
        "        c = remaining // b\n",
        "        if c >= 2 and c != a and c != b:\n",
        "            print(\"YES\")\n",
        "            print(a, b, c)\n",
        "        else:\n",
        "            print(\"NO\")\n",
        "\n",
        "solve()"
      ]
    },
    {
      "cell_type": "markdown",
      "metadata": {
        "id": "JKXjFIHAATY8"
      },
      "source": [
        "545D"
      ]
    },
    {
      "cell_type": "code",
      "execution_count": null,
      "metadata": {
        "colab": {
          "base_uri": "https://localhost:8080/"
        },
        "id": "jlOh76zXBZwS",
        "outputId": "afac31ec-d4c2-4445-8ad7-3887fde8d320"
      },
      "outputs": [
        {
          "name": "stdout",
          "output_type": "stream",
          "text": [
            "5\n",
            "15 2 1 5 3\n",
            "3\n"
          ]
        }
      ],
      "source": [
        "n = int(input())\n",
        "a = list(map(int, input().split()))\n",
        "a.sort()\n",
        "j = 0\n",
        "for i in range(len(a)):\n",
        "  if sum(a[:i]) <= a[i]:\n",
        "    j += 1\n",
        "print(j)"
      ]
    },
    {
      "cell_type": "code",
      "execution_count": null,
      "metadata": {
        "id": "KqConB3aDXeS"
      },
      "outputs": [],
      "source": [
        "n = int(input())\n",
        "a = list(map(int, input().split()))\n",
        "a.sort()\n",
        "count = 0\n",
        "total = 0\n",
        "for time in a:\n",
        "    if total <= time:\n",
        "        count += 1\n",
        "        total += time\n",
        "print(count)"
      ]
    },
    {
      "cell_type": "markdown",
      "metadata": {
        "id": "S-cpvr2nEmaJ"
      },
      "source": [
        "1256A"
      ]
    },
    {
      "cell_type": "code",
      "execution_count": null,
      "metadata": {
        "colab": {
          "base_uri": "https://localhost:8080/",
          "height": 88
        },
        "id": "_LgflRcnFNnb",
        "outputId": "0bf2352c-ee9b-45d9-ec09-53ff61001487"
      },
      "outputs": [
        {
          "name": "stdout",
          "output_type": "stream",
          "text": [
            "1\n",
            "1 2 3 6\n",
            "3\n"
          ]
        },
        {
          "data": {
            "application/vnd.google.colaboratory.intrinsic+json": {
              "type": "string"
            },
            "text/plain": [
              "\"  else:\\n    print('NO')\""
            ]
          },
          "execution_count": 2,
          "metadata": {},
          "output_type": "execute_result"
        }
      ],
      "source": [
        "q = int(input())\n",
        "for _ in range(q):\n",
        "  a = list(map(int, input().split()))\n",
        "  n1 = a[0]*a[2]\n",
        "  c = a[3]-n1\n",
        "  print(c)\n",
        "  if c<0:\n",
        "    print('NO')\n",
        "  if a[1]>= c and c>0:\n",
        "    print('YES')\n",
        "  else:\n",
        "    print('NO')"
      ]
    },
    {
      "cell_type": "markdown",
      "metadata": {
        "id": "Pzk-aqUmIzjS"
      },
      "source": [
        "276B"
      ]
    },
    {
      "cell_type": "code",
      "execution_count": null,
      "metadata": {
        "colab": {
          "base_uri": "https://localhost:8080/"
        },
        "id": "yY9yTA7yNafh",
        "outputId": "a8d77304-9b25-43e1-8ef4-6a42b696d886"
      },
      "outputs": [
        {
          "name": "stdout",
          "output_type": "stream",
          "text": [
            "abca\n",
            "Second\n"
          ]
        }
      ],
      "source": [
        "s = str(input())\n",
        "mid= len(s)//2\n",
        "j =0\n",
        "if len(s)%2!=0:\n",
        "  a = s[:mid+1]\n",
        "  b = s[mid:]\n",
        "elif len(s)%2==0:\n",
        "    a = s[:mid]\n",
        "    b = s[mid:]\n",
        "a = a[::-1]\n",
        "for i in range(len(a)):\n",
        "  if a[i]!=b[i]:\n",
        "    j += 1\n",
        "if j%2==0 :\n",
        "  print('First')\n",
        "else:\n",
        "  print('Second')"
      ]
    },
    {
      "cell_type": "code",
      "execution_count": null,
      "metadata": {
        "colab": {
          "base_uri": "https://localhost:8080/"
        },
        "id": "0ylK59zwVaPk",
        "outputId": "1e64ff66-56d0-40b0-b553-6074d2f62d52"
      },
      "outputs": [
        {
          "name": "stdout",
          "output_type": "stream",
          "text": [
            "aba\n",
            "First\n"
          ]
        }
      ],
      "source": [
        "from collections import Counter\n",
        "\n",
        "s = input().strip()\n",
        "count = Counter(s)\n",
        "odd_counts = sum(1 for cnt in count.values() if cnt % 2 != 0)\n",
        "\n",
        "if odd_counts == 0 or odd_counts == 1:\n",
        "    print(\"First\")\n",
        "else:\n",
        "    if (odd_counts - 1) % 2 == 0:\n",
        "        print(\"First\")\n",
        "    else:\n",
        "        print(\"Second\")"
      ]
    },
    {
      "cell_type": "markdown",
      "metadata": {
        "id": "nhS7Y2f8oSr5"
      },
      "source": [
        "451B"
      ]
    },
    {
      "cell_type": "code",
      "execution_count": null,
      "metadata": {
        "colab": {
          "base_uri": "https://localhost:8080/"
        },
        "id": "1_FlMNV9oUrV",
        "outputId": "cc878eed-aa08-4768-b022-278e1ec8d2e6"
      },
      "outputs": [
        {
          "name": "stdout",
          "output_type": "stream",
          "text": [
            "3\n",
            "3 2 1\n",
            "[1, 2, 3]\n",
            "3\n"
          ]
        }
      ],
      "source": [
        "n = int(input())\n",
        "a = list(map(int, input().split()))\n",
        "c = 0\n",
        "f = len(a)\n",
        "for i in range(f):\n",
        "  for j in range(0,f-i-1):\n",
        "    if a[j] > a[j+1]:\n",
        "      a[j],a[j+1]=a[j+1],a[j]\n",
        "      c += 1\n",
        "print(a)\n",
        "print(c)"
      ]
    },
    {
      "cell_type": "markdown",
      "metadata": {
        "id": "fZ2SwhTyppRA"
      },
      "source": [
        "1944A"
      ]
    },
    {
      "cell_type": "code",
      "execution_count": null,
      "metadata": {
        "colab": {
          "base_uri": "https://localhost:8080/"
        },
        "id": "Y19VdhT5pqw4",
        "outputId": "0d1ce484-a8bf-4f67-9948-94833563320c"
      },
      "outputs": [
        {
          "name": "stdout",
          "output_type": "stream",
          "text": [
            "2\n",
            "2 0\n",
            "2\n",
            "2 1\n",
            "1\n"
          ]
        }
      ],
      "source": [
        "t = int(input())\n",
        "for _ in range(t):\n",
        "  n = list(map(int, input().split()))\n",
        "  l = n[0]-1\n",
        "  if n[1]>l or n[1]==l:\n",
        "    print(1)\n",
        "  else:\n",
        "    print(n[0])"
      ]
    },
    {
      "cell_type": "markdown",
      "metadata": {
        "id": "VEQNswHVy21r"
      },
      "source": [
        "1632A"
      ]
    },
    {
      "cell_type": "code",
      "execution_count": null,
      "metadata": {
        "id": "rohl9ZMfy4S7"
      },
      "outputs": [],
      "source": []
    },
    {
      "cell_type": "markdown",
      "metadata": {
        "id": "K_Q9Hvyrp0bJ"
      },
      "source": [
        "546A"
      ]
    },
    {
      "cell_type": "code",
      "execution_count": null,
      "metadata": {
        "colab": {
          "base_uri": "https://localhost:8080/"
        },
        "id": "5GlNQISlp1f5",
        "outputId": "4679c7da-6f61-4d25-d5a4-fb66f04c3448"
      },
      "outputs": [
        {
          "name": "stdout",
          "output_type": "stream",
          "text": [
            "3 17 4\n",
            "13\n"
          ]
        }
      ],
      "source": [
        "k,n,w = (map(int, input().split()))\n",
        "j = 0\n",
        "for b in range(1,w+1):\n",
        "  j += (b*k)\n",
        "p = j-n\n",
        "if p<0 or p == 0:\n",
        "  print(0)\n",
        "else:\n",
        "  print(p)"
      ]
    },
    {
      "cell_type": "markdown",
      "metadata": {
        "id": "ADrHHNY3zURj"
      },
      "source": [
        "706B"
      ]
    },
    {
      "cell_type": "code",
      "execution_count": null,
      "metadata": {
        "colab": {
          "base_uri": "https://localhost:8080/"
        },
        "id": "r8GF3ukFzVfa",
        "outputId": "b3f3bd54-ddd8-427b-98a9-3931c6e64aff"
      },
      "outputs": [
        {
          "name": "stdout",
          "output_type": "stream",
          "text": [
            "1\n",
            "3 10 8 6 11\n",
            "4\n",
            "1\n",
            "0\n",
            "10\n",
            "4\n",
            "3\n",
            "1\n",
            "11\n",
            "5\n"
          ]
        }
      ],
      "source": [
        "\n",
        "n = int(input())\n",
        "l = list(map(int, input().split()))\n",
        "q = int(input())\n",
        "for _ in range(q):\n",
        "  k = int(input())\n",
        "  f= list(filter(lambda x: x<=k,l))\n",
        "  print(len(f))"
      ]
    },
    {
      "cell_type": "code",
      "execution_count": null,
      "metadata": {
        "id": "Z3JfFn0j-d-u"
      },
      "outputs": [],
      "source": [
        "import bisect\n",
        "\n",
        "n = int(input())\n",
        "prices = list(map(int, input().split()))\n",
        "prices.sort()  # Сортируем цены для бинарного поиска\n",
        "q = int(input())\n",
        "for _ in range(q):\n",
        "    m = int(input())\n",
        "    # Находим индекс первого элемента, большего m\n",
        "    count = bisect.bisect_right(prices, m)\n",
        "    print(count)"
      ]
    },
    {
      "cell_type": "markdown",
      "metadata": {
        "id": "63aIXIWpKElc"
      },
      "source": [
        "1915A"
      ]
    },
    {
      "cell_type": "code",
      "execution_count": null,
      "metadata": {
        "colab": {
          "base_uri": "https://localhost:8080/"
        },
        "id": "E5MtUMU-KYQf",
        "outputId": "10bb8bd2-85dd-47d1-f4d9-6fc55b323b79"
      },
      "outputs": [
        {
          "name": "stdout",
          "output_type": "stream",
          "text": [
            "10\n",
            "1 2 2\n",
            "1\n",
            "4 3 4\n",
            "3\n",
            "5 5 6\n",
            "6\n",
            "7 7 8\n",
            "8\n",
            "9 0 9\n",
            "0\n",
            "3 6 3\n",
            "6\n",
            "2 8 2\n",
            "8\n",
            "5 7 7\n",
            "5\n",
            "7 7 5\n",
            "5\n",
            "5 7 5\n",
            "7\n"
          ]
        }
      ],
      "source": [
        "t = int(input())\n",
        "for _ in range(t):\n",
        "  a = list(map(int, input().split()))\n",
        "  d = {}\n",
        "  for h in a:\n",
        "    if h in d:\n",
        "      d[h] += 1\n",
        "    elif h not in d:\n",
        "        d[h] = 1\n",
        "  k = next((key for key, value in d.items() if value == 1),None)\n",
        "  print(k)"
      ]
    },
    {
      "cell_type": "markdown",
      "metadata": {
        "id": "HcSm1efVP4El"
      },
      "source": [
        "455A"
      ]
    },
    {
      "cell_type": "code",
      "execution_count": null,
      "metadata": {
        "colab": {
          "base_uri": "https://localhost:8080/"
        },
        "id": "sDEYV7sGP7Mt",
        "outputId": "b8d3a206-01ae-464a-88fa-8d61c4e01733"
      },
      "outputs": [
        {
          "name": "stdout",
          "output_type": "stream",
          "text": [
            "10\n",
            "1 2 1 3 2 2 2 2 3\n",
            "[1, 2, 1, 3, 2, 2, 2, 2, 3]\n",
            "[1, 2, 2, 2, 2, 3]\n",
            "[1, 2, 2, 2]\n",
            "[2]\n",
            "10\n"
          ]
        }
      ],
      "source": [
        "n = int(input())\n",
        "a = list(map(int, input().split()))\n",
        "j = {}\n",
        "e = list(set(a))\n",
        "for h in e:\n",
        "  for  s in range(len(a)):\n",
        "    if a[s] == h:\n"
      ]
    },
    {
      "cell_type": "code",
      "execution_count": null,
      "metadata": {
        "colab": {
          "base_uri": "https://localhost:8080/"
        },
        "id": "_vJ7Zr3kUmY0",
        "outputId": "944bc287-a84b-45b8-e763-98794dd6aa29"
      },
      "outputs": [
        {
          "name": "stdout",
          "output_type": "stream",
          "text": [
            "1\n",
            "1 2 3\n",
            "[0, 0, 0, 0, 0]\n",
            "[0, 1, 2, 4, 0]\n",
            "4\n"
          ]
        }
      ],
      "source": [
        "from collections import Counter\n",
        "\n",
        "n = int(input())\n",
        "a = list(map(int, input().split()))\n",
        "count = Counter(a)\n",
        "max_num = max(count.keys())\n",
        "dp = [0] * (max_num + 2)\n",
        "\n",
        "for num in range(1, max_num + 1):\n",
        "    dp[num] = max(dp[num - 1], dp[num - 2] + num * count.get(num, 0))\n",
        "\n",
        "print(dp[max_num])"
      ]
    },
    {
      "cell_type": "markdown",
      "metadata": {
        "id": "sS827qA2cVwS"
      },
      "source": [
        "1201C"
      ]
    },
    {
      "cell_type": "markdown",
      "metadata": {
        "id": "BWPQmWyFjCEp"
      },
      "source": [
        "0.0076x2+0.3303x+0.3227"
      ]
    },
    {
      "cell_type": "code",
      "execution_count": null,
      "metadata": {
        "colab": {
          "base_uri": "https://localhost:8080/"
        },
        "id": "_YAieDgDcXvs",
        "outputId": "b4343c35-ca9a-4307-ed33-b0db650f4d58"
      },
      "outputs": [
        {
          "name": "stdout",
          "output_type": "stream",
          "text": [
            "4 1 2 4 3 4 4\n",
            "[1, 2, 3, 4, 4, 4, 4]\n"
          ]
        }
      ],
      "source": [
        "a = list(map(int, input().split()))\n",
        "a.sort()\n",
        "print(a)"
      ]
    },
    {
      "cell_type": "markdown",
      "metadata": {
        "id": "fXi8UlfLke2h"
      },
      "source": [
        "580A"
      ]
    },
    {
      "cell_type": "code",
      "execution_count": null,
      "metadata": {
        "colab": {
          "base_uri": "https://localhost:8080/"
        },
        "id": "bOpkL-Ypkrkn",
        "outputId": "9b7f4928-e7da-492c-d134-5e6b8d4c16bc"
      },
      "outputs": [
        {
          "name": "stdout",
          "output_type": "stream",
          "text": [
            "6\n",
            "2 2 1 3 4 1\n",
            "2\n"
          ]
        }
      ],
      "source": [
        "n = int(input())\n",
        "a = list(map(int, input().split()))\n",
        "j = 0\n",
        "s = []\n",
        "for g in range(len(a)):\n",
        "  if a[g-1]<a[g] or a[g-1]==a[g]:\n",
        "    j += 1\n",
        "  elif a[g-1]>a[g]:\n",
        "    s.append(j)\n",
        "    j = 0\n",
        "s.append(j)\n",
        "print(max(s)+1)"
      ]
    },
    {
      "cell_type": "code",
      "execution_count": null,
      "metadata": {
        "id": "HB5b9X2UvBHC"
      },
      "outputs": [],
      "source": [
        "n = int(input())\n",
        "a = list(map(int, input().split()))\n",
        "if n == 1:\n",
        "    print(1)\n",
        "else:\n",
        "    max_len = 1\n",
        "    current_len = 1\n",
        "    for i in range(1, n):\n",
        "        if a[i] >= a[i-1]:\n",
        "            current_len += 1\n",
        "            if current_len > max_len:\n",
        "                max_len = current_len\n",
        "        else:\n",
        "            current_len = 1\n",
        "    print(max_len)"
      ]
    },
    {
      "cell_type": "code",
      "execution_count": null,
      "metadata": {
        "id": "90NxV0tbpYQH"
      },
      "outputs": [],
      "source": [
        "\"\"\"  if g == 0:\n",
        "    j += 1\"\"\""
      ]
    },
    {
      "cell_type": "markdown",
      "metadata": {
        "id": "lBeCa4ETvpd5"
      },
      "source": [
        "34B"
      ]
    },
    {
      "cell_type": "code",
      "execution_count": null,
      "metadata": {
        "colab": {
          "base_uri": "https://localhost:8080/"
        },
        "id": "BQJgic9SvrDy",
        "outputId": "780665a7-f30e-445a-ebd6-2945ba3b1c32"
      },
      "outputs": [
        {
          "name": "stdout",
          "output_type": "stream",
          "text": [
            "4 2\n",
            "7 0 0 -7\n",
            "7\n"
          ]
        }
      ],
      "source": [
        "a = list(map(int, input().split()))\n",
        "b = list(map(int, input().split()))\n",
        "b.sort()\n",
        "neg = sorted([p for p in b if p < 0])\n",
        "c = (-sum(neg[:a[1]]))\n",
        "print(c)\n"
      ]
    },
    {
      "cell_type": "code",
      "execution_count": null,
      "metadata": {
        "colab": {
          "base_uri": "https://localhost:8080/"
        },
        "id": "tG9tpS9207mK",
        "outputId": "500ede0b-4c51-40e0-edbb-44f8d35fbd6c"
      },
      "outputs": [
        {
          "name": "stdout",
          "output_type": "stream",
          "text": [
            "5 3\n",
            "-6 0 35 -2 4\n",
            "-8\n"
          ]
        }
      ],
      "source": [
        "n, m = map(int, input().split())\n",
        "prices = list(map(int, input().split()))\n",
        "prices.sort()  # Сортируем цены от наименьшей к наибольшей\n",
        "max_sum = sum(prices[:m])  # Берем первые m самых \"дешевых\" (включая отрицательные)\n",
        "print(max_sum)"
      ]
    },
    {
      "cell_type": "markdown",
      "metadata": {
        "id": "dErpKqR37J_0"
      },
      "source": [
        "313A"
      ]
    },
    {
      "cell_type": "code",
      "execution_count": null,
      "metadata": {
        "colab": {
          "base_uri": "https://localhost:8080/"
        },
        "id": "ExpuFmE37K0U",
        "outputId": "3e2314b9-e585-419a-a842-f7fd0ec89a39"
      },
      "outputs": [
        {
          "name": "stdout",
          "output_type": "stream",
          "text": [
            "-100003\n",
            "-10000\n"
          ]
        }
      ],
      "source": [
        "g = []\n",
        "n = int(input())\n",
        "g.append(n)\n",
        "\n",
        "a = str(n)\n",
        "k = []\n",
        "for r in a:\n",
        "  k.append(r)\n",
        "k.pop(-1)\n",
        "a = ''.join(k)\n",
        "a = int(a)\n",
        "g.append(a)\n",
        "\n",
        "s = str(n)\n",
        "k = []\n",
        "for r in s:\n",
        "  k.append(r)\n",
        "k.pop(-2)\n",
        "s = ''.join(k)\n",
        "s = int(s)\n",
        "g.append(s)\n",
        "print(max(g))"
      ]
    },
    {
      "cell_type": "markdown",
      "metadata": {
        "id": "EZx8OSWoG3Eg"
      },
      "source": [
        "487С"
      ]
    },
    {
      "cell_type": "code",
      "execution_count": null,
      "metadata": {
        "colab": {
          "base_uri": "https://localhost:8080/"
        },
        "id": "WZSVHc0WHKyW",
        "outputId": "6ba18561-47f2-44da-87e9-61027e23aff8"
      },
      "outputs": [
        {
          "name": "stdout",
          "output_type": "stream",
          "text": [
            "2 3 3\n",
            "2\n"
          ]
        }
      ],
      "source": [
        "a = list(map(int, input().split()))\n",
        "j = 0\n",
        "for _ in range(1000000):\n",
        "  if a[0] == 0 or a[1] == 0 or a[2] == 0:\n",
        "    c = a[0]+a[1]+a[2]\n",
        "    j += (c//3)\n",
        "    break\n",
        "  else:\n",
        "    a[0] -= 1\n",
        "    a[1] -= 1\n",
        "    a[2] -= 1\n",
        "    j += 1\n",
        "print(j)"
      ]
    },
    {
      "cell_type": "code",
      "execution_count": null,
      "metadata": {
        "colab": {
          "base_uri": "https://localhost:8080/"
        },
        "id": "IWDdxiYmKbiC",
        "outputId": "a0ed5201-caaf-45a3-c839-55a0d76a899f"
      },
      "outputs": [
        {
          "name": "stdout",
          "output_type": "stream",
          "text": [
            "2 3 3\n",
            "2\n"
          ]
        }
      ],
      "source": [
        "a = list(map(int, input().split()))\n",
        "print(sum(a)//3)"
      ]
    },
    {
      "cell_type": "code",
      "execution_count": null,
      "metadata": {
        "colab": {
          "base_uri": "https://localhost:8080/"
        },
        "id": "05JZlt5eLFPb",
        "outputId": "617d0bf0-cab1-48bd-d08e-79fcd5f355be"
      },
      "outputs": [
        {
          "name": "stdout",
          "output_type": "stream",
          "text": [
            "5 4 3\n",
            "4\n"
          ]
        }
      ],
      "source": [
        "r, g, b = map(int, input().split())\n",
        "max_tables = min((r + g + b) // 3, r + g + b - max(r, g, b))\n",
        "print(max_tables)"
      ]
    },
    {
      "cell_type": "markdown",
      "metadata": {
        "id": "6EXswO6nL9jD"
      },
      "source": [
        "1398C"
      ]
    },
    {
      "cell_type": "code",
      "execution_count": null,
      "metadata": {
        "id": "Oo3dygRkMIh7"
      },
      "outputs": [],
      "source": [
        "t = int(input())\n",
        "for _ in range(t):\n",
        "  n = int(input())\n",
        "  a = list(map(int, input().split()))\n",
        "  j = 1\n",
        "  k = 0\n",
        "  for i in range(1,len(a)+1):\n",
        "    if"
      ]
    },
    {
      "cell_type": "markdown",
      "metadata": {
        "id": "pcFaazOOM4Ko"
      },
      "source": [
        "126B"
      ]
    },
    {
      "cell_type": "code",
      "execution_count": null,
      "metadata": {
        "colab": {
          "base_uri": "https://localhost:8080/"
        },
        "id": "Tu02dmoec_ce",
        "outputId": "bb41768c-e2b3-4896-dea8-110924d0dd1c"
      },
      "outputs": [
        {
          "name": "stdout",
          "output_type": "stream",
          "text": [
            "fixprefixsuffix\n",
            "fix\n"
          ]
        }
      ],
      "source": [
        "def compute_prefix_function(s):\n",
        "    n = len(s)\n",
        "    pi = [0] * n\n",
        "    for i in range(1, n):\n",
        "        j = pi[i - 1]\n",
        "        while j > 0 and s[i] != s[j]:\n",
        "            j = pi[j - 1]\n",
        "        if s[i] == s[j]:\n",
        "            j += 1\n",
        "        pi[i] = j\n",
        "    return pi\n",
        "\n",
        "s = input().strip()\n",
        "n = len(s)\n",
        "if n == 1:\n",
        "    print(\"Just a legend\")\n",
        "else:\n",
        "    pi = compute_prefix_function(s)\n",
        "    candidate = pi[-1]\n",
        "    found = False\n",
        "    # Проверяем, есть ли такой префикс где-то внутри строки\n",
        "    if candidate > 0:\n",
        "        # Проверяем, встречается ли префикс длины candidate внутри s[1..n-2]\n",
        "        for i in range(1, n - 1):\n",
        "            if pi[i] == candidate:\n",
        "                found = True\n",
        "                break\n",
        "        if found:\n",
        "            print(s[:candidate])\n",
        "        else:\n",
        "            # Проверяем префикс меньшей длины\n",
        "            candidate = pi[candidate - 1]\n",
        "            if candidate > 0:\n",
        "                # Проверяем, встречается ли префикс длины candidate внутри s[1..n-2]\n",
        "                for i in range(1, n - 1):\n",
        "                    if pi[i] == candidate:\n",
        "                        found = True\n",
        "                        break\n",
        "                if found:\n",
        "                    print(s[:candidate])\n",
        "                else:\n",
        "                    print(\"Just a legend\")\n",
        "            else:\n",
        "                print(\"Just a legend\")\n",
        "    else:\n",
        "        print(\"Just a legend\")"
      ]
    },
    {
      "cell_type": "markdown",
      "metadata": {
        "id": "78X_xEnCgnkr"
      },
      "source": [
        "363B"
      ]
    },
    {
      "cell_type": "code",
      "execution_count": null,
      "metadata": {
        "colab": {
          "base_uri": "https://localhost:8080/"
        },
        "id": "ZfTMMLOThW1b",
        "outputId": "a09393d4-cb13-49ff-b194-004456998dde"
      },
      "outputs": [
        {
          "name": "stdout",
          "output_type": "stream",
          "text": [
            "7 3\n",
            "1 2 6 1 1 7 1\n",
            "[1, 2, 6]\n",
            "[2, 6, 1]\n",
            "[6, 1, 1]\n",
            "[1, 1, 7]\n",
            "[8]\n"
          ]
        }
      ],
      "source": [
        "a = list(map(int, input().split()))\n",
        "b = list(map(int, input().split()))\n",
        "n = a[1]\n",
        "min = []\n",
        "for i in range(len(b)):\n",
        "  c = b[i:n]\n",
        "  print(c)\n",
        "  if n != (len(b)-1):\n",
        "    if i == 0 :\n",
        "      min.append(sum(c))\n",
        "    elif (sum(c)) < min[0]:\n",
        "      min.pop(0)\n",
        "      min.append(sum(c))\n",
        "  elif n == (len(b)-1):\n",
        "      if (sum(c)) < min[0]:\n",
        "        min.pop(0)\n",
        "        min.append(sum(c))\n",
        "      break\n",
        "  n += 1\n",
        "print(min)"
      ]
    },
    {
      "cell_type": "code",
      "execution_count": null,
      "metadata": {
        "id": "bdiYMJARtwcE"
      },
      "outputs": [],
      "source": [
        "n, k = map(int, input().split())\n",
        "h = list(map(int, input().split()))\n",
        "\n",
        "min_sum = float('inf')\n",
        "min_pos = 0\n",
        "current_sum = sum(h[:k])\n",
        "\n",
        "for i in range(len(h) - k + 1):\n",
        "    if i != 0:\n",
        "        current_sum = current_sum - h[i - 1] + h[i + k - 1]\n",
        "    if current_sum < min_sum:\n",
        "        min_sum = current_sum\n",
        "        min_pos = i\n",
        "\n",
        "print(min_pos + 1)  # +1, так как нумерация досок начинается с 1"
      ]
    },
    {
      "cell_type": "markdown",
      "metadata": {
        "id": "oqk9rzGtR6zZ"
      },
      "source": [
        "1327A"
      ]
    },
    {
      "cell_type": "code",
      "execution_count": null,
      "metadata": {
        "colab": {
          "base_uri": "https://localhost:8080/"
        },
        "id": "nJ7rw5SYR8XR",
        "outputId": "770e0751-f8d9-4c4d-90b0-18bcc78e7ecf"
      },
      "outputs": [
        {
          "name": "stdout",
          "output_type": "stream",
          "text": [
            "6\n",
            "3 1\n",
            "YES\n",
            "4 2\n",
            "YES\n",
            "10 3\n",
            "NO\n",
            "10 2\n",
            "YES\n",
            "16 4\n",
            "YES\n",
            "16 5\n",
            "NO\n"
          ]
        }
      ],
      "source": [
        "t = int(input())\n",
        "for _ in range(t):\n",
        "  n,x = map(int,input().split())\n",
        "  if n%x == 0:\n",
        "      print('YES')\n",
        "  else:\n",
        "      print('NO')"
      ]
    },
    {
      "cell_type": "code",
      "execution_count": null,
      "metadata": {
        "id": "QK4iwb4Sc6Od"
      },
      "outputs": [],
      "source": [
        "import sys\n",
        "\n",
        "def solve():\n",
        "    t = int(sys.stdin.readline())\n",
        "    for _ in range(t):\n",
        "        n, k = map(int, sys.stdin.readline().split())\n",
        "        if k * k > n:\n",
        "            print(\"NO\")\n",
        "        elif (n % 2) != (k % 2):\n",
        "            print(\"NO\")\n",
        "        else:\n",
        "            print(\"YES\")\n",
        "\n",
        "solve()"
      ]
    },
    {
      "cell_type": "markdown",
      "metadata": {
        "id": "K3AmiETSdHIi"
      },
      "source": [
        "189A"
      ]
    },
    {
      "cell_type": "code",
      "execution_count": null,
      "metadata": {
        "colab": {
          "base_uri": "https://localhost:8080/"
        },
        "id": "6vL2oZUVlwC_",
        "outputId": "7fe82466-5378-4bf2-ac00-e3097a8c7ca3"
      },
      "outputs": [
        {
          "name": "stdout",
          "output_type": "stream",
          "text": [
            "7 5 5 2\n",
            "2\n"
          ]
        }
      ],
      "source": [
        "n = list(map(int, input().split()))\n",
        "g = n[0]\n",
        "n.pop(0)\n",
        "n.sort()\n",
        "s = []\n",
        "for i in range(len(n)):\n",
        "  o = n[i]\n",
        "  n.pop(n.index(n[i]))\n",
        "  j = 1\n",
        "  for h in n:\n",
        "    if h + o <= g:\n",
        "      o += h\n",
        "      j += 1\n",
        "  n.insert(i,o)\n",
        "  s.append(j)\n",
        "print(max(s))"
      ]
    },
    {
      "cell_type": "markdown",
      "metadata": {
        "id": "i8HMjKQJuM9h"
      },
      "source": [
        "ОБЬЯСНЕНИЯ"
      ]
    },
    {
      "cell_type": "code",
      "execution_count": null,
      "metadata": {
        "colab": {
          "base_uri": "https://localhost:8080/"
        },
        "id": "ZpD5oEOzs5hq",
        "outputId": "fb9c67fd-9a60-4134-b9aa-aceb38f2f61a"
      },
      "outputs": [
        {
          "name": "stdout",
          "output_type": "stream",
          "text": [
            "5 5 3 2\n",
            "[0, -1, 1, 1, 2, 2]\n",
            "2\n"
          ]
        }
      ],
      "source": [
        "n, a, b, c = map(int, input().split())\n",
        "dp = [-1] * (n + 1)\n",
        "dp[0] = 0  # База: 0 кусочков для длины 0\n",
        "\n",
        "for i in range(1, n + 1):\n",
        "    max_pieces = -1\n",
        "    if i >= a and dp[i - a] != -1:\n",
        "        max_pieces = dp[i - a] + 1\n",
        "    if i >= b and dp[i - b] != -1:\n",
        "        if dp[i - b] + 1 > max_pieces:\n",
        "            max_pieces = dp[i - b] + 1\n",
        "    if i >= c and dp[i - c] != -1:\n",
        "        if dp[i - c] + 1 > max_pieces:\n",
        "            max_pieces = dp[i - c] + 1\n",
        "    dp[i] = max_pieces\n",
        "print(dp)\n",
        "print(dp[n])"
      ]
    },
    {
      "cell_type": "markdown",
      "metadata": {
        "id": "_JFTKQF45bp5"
      },
      "source": [
        "задача C. муниципальный этап ВСОШ"
      ]
    },
    {
      "cell_type": "code",
      "execution_count": null,
      "metadata": {
        "colab": {
          "base_uri": "https://localhost:8080/"
        },
        "id": "tspy88mw5l5x",
        "outputId": "54eaae81-910d-4f72-96eb-7aa628cd9abd"
      },
      "outputs": [
        {
          "name": "stdout",
          "output_type": "stream",
          "text": [
            "5\n",
            "2\n",
            "10\n",
            "3\n"
          ]
        }
      ],
      "source": [
        "A = int(input())\n",
        "B = int(input())\n",
        "C = int(input())\n",
        "j = 0\n",
        "k = 0\n",
        "for _ in range(10**18):\n",
        "\n",
        "  j += A\n",
        "  j -= B\n",
        "  if j > C:\n",
        "    break\n",
        "  k += 1\n",
        "print(k)"
      ]
    },
    {
      "cell_type": "markdown",
      "metadata": {
        "id": "VvRzaqum-FKz"
      },
      "source": [
        "1352С"
      ]
    },
    {
      "cell_type": "code",
      "execution_count": null,
      "metadata": {
        "colab": {
          "background_save": true,
          "base_uri": "https://localhost:8080/"
        },
        "id": "Q-QISWec-GYL",
        "outputId": "3f07ce16-b3e3-4d81-968c-b9b24964548d"
      },
      "outputs": [
        {
          "name": "stderr",
          "output_type": "stream",
          "text": [
            "ERROR:root:Internal Python error in the inspect module.\n",
            "Below is the traceback from this internal error.\n",
            "\n",
            "ERROR:root:Internal Python error in the inspect module.\n",
            "Below is the traceback from this internal error.\n",
            "\n",
            "ERROR:root:Internal Python error in the inspect module.\n",
            "Below is the traceback from this internal error.\n",
            "\n"
          ]
        },
        {
          "name": "stdout",
          "output_type": "stream",
          "text": [
            "Traceback (most recent call last):\n",
            "  File \"/usr/local/lib/python3.11/dist-packages/IPython/core/interactiveshell.py\", line 3553, in run_code\n",
            "    exec(code_obj, self.user_global_ns, self.user_ns)\n",
            "  File \"<ipython-input-4-4b575ba0b723>\", line None, in <cell line: 0>\n",
            "KeyboardInterrupt\n",
            "\n",
            "During handling of the above exception, another exception occurred:\n",
            "\n",
            "Traceback (most recent call last):\n",
            "  File \"/usr/local/lib/python3.11/dist-packages/IPython/core/interactiveshell.py\", line 2099, in showtraceback\n",
            "    stb = value._render_traceback_()\n",
            "          ^^^^^^^^^^^^^^^^^^^^^^^^\n",
            "AttributeError: 'KeyboardInterrupt' object has no attribute '_render_traceback_'\n",
            "\n",
            "During handling of the above exception, another exception occurred:\n",
            "\n",
            "Traceback (most recent call last):\n",
            "  File \"/usr/local/lib/python3.11/dist-packages/IPython/core/ultratb.py\", line 1101, in get_records\n",
            "    return _fixed_getinnerframes(etb, number_of_lines_of_context, tb_offset)\n",
            "           ^^^^^^^^^^^^^^^^^^^^^^^^^^^^^^^^^^^^^^^^^^^^^^^^^^^^^^^^^^^^^^^^^\n",
            "  File \"/usr/local/lib/python3.11/dist-packages/IPython/core/ultratb.py\", line 248, in wrapped\n",
            "    return f(*args, **kwargs)\n",
            "           ^^^^^^^^^^^^^^^^^^\n",
            "  File \"/usr/local/lib/python3.11/dist-packages/IPython/core/ultratb.py\", line 281, in _fixed_getinnerframes\n",
            "    records = fix_frame_records_filenames(inspect.getinnerframes(etb, context))\n",
            "                                          ^^^^^^^^^^^^^^^^^^^^^^^^^^^^^^^^^^^^\n",
            "  File \"/usr/lib/python3.11/inspect.py\", line 1739, in getinnerframes\n",
            "    traceback_info = getframeinfo(tb, context)\n",
            "                     ^^^^^^^^^^^^^^^^^^^^^^^^^\n",
            "  File \"/usr/lib/python3.11/inspect.py\", line 1686, in getframeinfo\n",
            "    start = lineno - 1 - context//2\n",
            "            ~~~~~~~^~~\n",
            "TypeError: unsupported operand type(s) for -: 'NoneType' and 'int'\n",
            "Traceback (most recent call last):\n",
            "  File \"/usr/local/lib/python3.11/dist-packages/IPython/core/interactiveshell.py\", line 3553, in run_code\n",
            "    exec(code_obj, self.user_global_ns, self.user_ns)\n",
            "  File \"<ipython-input-4-4b575ba0b723>\", line None, in <cell line: 0>\n",
            "KeyboardInterrupt\n",
            "\n",
            "During handling of the above exception, another exception occurred:\n",
            "\n",
            "Traceback (most recent call last):\n",
            "  File \"/usr/local/lib/python3.11/dist-packages/IPython/core/interactiveshell.py\", line 2099, in showtraceback\n",
            "    stb = value._render_traceback_()\n",
            "          ^^^^^^^^^^^^^^^^^^^^^^^^\n",
            "AttributeError: 'KeyboardInterrupt' object has no attribute '_render_traceback_'\n",
            "\n",
            "During handling of the above exception, another exception occurred:\n",
            "\n",
            "Traceback (most recent call last):\n",
            "  File \"/usr/local/lib/python3.11/dist-packages/IPython/core/interactiveshell.py\", line 3473, in run_ast_nodes\n",
            "    if (await self.run_code(code, result,  async_=asy)):\n",
            "        ^^^^^^^^^^^^^^^^^^^^^^^^^^^^^^^^^^^^^^^^^^^^^^\n",
            "  File \"/usr/local/lib/python3.11/dist-packages/IPython/core/interactiveshell.py\", line 3575, in run_code\n",
            "    self.showtraceback(running_compiled_code=True)\n",
            "  File \"/usr/local/lib/python3.11/dist-packages/IPython/core/interactiveshell.py\", line 2101, in showtraceback\n",
            "    stb = self.InteractiveTB.structured_traceback(etype,\n",
            "          ^^^^^^^^^^^^^^^^^^^^^^^^^^^^^^^^^^^^^^^^^^^^^^\n",
            "  File \"/usr/local/lib/python3.11/dist-packages/IPython/core/ultratb.py\", line 1367, in structured_traceback\n",
            "    return FormattedTB.structured_traceback(\n",
            "           ^^^^^^^^^^^^^^^^^^^^^^^^^^^^^^^^^\n",
            "  File \"/usr/local/lib/python3.11/dist-packages/IPython/core/ultratb.py\", line 1267, in structured_traceback\n",
            "    return VerboseTB.structured_traceback(\n",
            "           ^^^^^^^^^^^^^^^^^^^^^^^^^^^^^^^\n",
            "  File \"/usr/local/lib/python3.11/dist-packages/IPython/core/ultratb.py\", line 1124, in structured_traceback\n",
            "    formatted_exception = self.format_exception_as_a_whole(etype, evalue, etb, number_of_lines_of_context,\n",
            "                          ^^^^^^^^^^^^^^^^^^^^^^^^^^^^^^^^^^^^^^^^^^^^^^^^^^^^^^^^^^^^^^^^^^^^^^^^^^^^^^^^\n",
            "  File \"/usr/local/lib/python3.11/dist-packages/IPython/core/ultratb.py\", line 1082, in format_exception_as_a_whole\n",
            "    last_unique, recursion_repeat = find_recursion(orig_etype, evalue, records)\n",
            "                                    ^^^^^^^^^^^^^^^^^^^^^^^^^^^^^^^^^^^^^^^^^^^\n",
            "  File \"/usr/local/lib/python3.11/dist-packages/IPython/core/ultratb.py\", line 382, in find_recursion\n",
            "    return len(records), 0\n",
            "           ^^^^^^^^^^^^\n",
            "TypeError: object of type 'NoneType' has no len()\n",
            "\n",
            "During handling of the above exception, another exception occurred:\n",
            "\n",
            "Traceback (most recent call last):\n",
            "  File \"/usr/local/lib/python3.11/dist-packages/IPython/core/interactiveshell.py\", line 2099, in showtraceback\n",
            "    stb = value._render_traceback_()\n",
            "          ^^^^^^^^^^^^^^^^^^^^^^^^\n",
            "AttributeError: 'TypeError' object has no attribute '_render_traceback_'\n",
            "\n",
            "During handling of the above exception, another exception occurred:\n",
            "\n",
            "Traceback (most recent call last):\n",
            "  File \"/usr/local/lib/python3.11/dist-packages/IPython/core/ultratb.py\", line 1101, in get_records\n",
            "    return _fixed_getinnerframes(etb, number_of_lines_of_context, tb_offset)\n",
            "           ^^^^^^^^^^^^^^^^^^^^^^^^^^^^^^^^^^^^^^^^^^^^^^^^^^^^^^^^^^^^^^^^^\n",
            "  File \"/usr/local/lib/python3.11/dist-packages/IPython/core/ultratb.py\", line 248, in wrapped\n",
            "    return f(*args, **kwargs)\n",
            "           ^^^^^^^^^^^^^^^^^^\n",
            "  File \"/usr/local/lib/python3.11/dist-packages/IPython/core/ultratb.py\", line 281, in _fixed_getinnerframes\n",
            "    records = fix_frame_records_filenames(inspect.getinnerframes(etb, context))\n",
            "                                          ^^^^^^^^^^^^^^^^^^^^^^^^^^^^^^^^^^^^\n",
            "  File \"/usr/lib/python3.11/inspect.py\", line 1739, in getinnerframes\n",
            "    traceback_info = getframeinfo(tb, context)\n",
            "                     ^^^^^^^^^^^^^^^^^^^^^^^^^\n",
            "  File \"/usr/lib/python3.11/inspect.py\", line 1686, in getframeinfo\n",
            "    start = lineno - 1 - context//2\n",
            "            ~~~~~~~^~~\n",
            "TypeError: unsupported operand type(s) for -: 'NoneType' and 'int'\n",
            "Traceback (most recent call last):\n",
            "  File \"/usr/local/lib/python3.11/dist-packages/IPython/core/interactiveshell.py\", line 3553, in run_code\n",
            "    exec(code_obj, self.user_global_ns, self.user_ns)\n",
            "  File \"<ipython-input-4-4b575ba0b723>\", line None, in <cell line: 0>\n",
            "KeyboardInterrupt\n",
            "\n",
            "During handling of the above exception, another exception occurred:\n",
            "\n",
            "Traceback (most recent call last):\n",
            "  File \"/usr/local/lib/python3.11/dist-packages/IPython/core/interactiveshell.py\", line 2099, in showtraceback\n",
            "    stb = value._render_traceback_()\n",
            "          ^^^^^^^^^^^^^^^^^^^^^^^^\n",
            "AttributeError: 'KeyboardInterrupt' object has no attribute '_render_traceback_'\n",
            "\n",
            "During handling of the above exception, another exception occurred:\n",
            "\n",
            "Traceback (most recent call last):\n",
            "  File \"/usr/local/lib/python3.11/dist-packages/IPython/core/interactiveshell.py\", line 3473, in run_ast_nodes\n",
            "    if (await self.run_code(code, result,  async_=asy)):\n",
            "        ^^^^^^^^^^^^^^^^^^^^^^^^^^^^^^^^^^^^^^^^^^^^^^\n",
            "  File \"/usr/local/lib/python3.11/dist-packages/IPython/core/interactiveshell.py\", line 3575, in run_code\n",
            "    self.showtraceback(running_compiled_code=True)\n",
            "  File \"/usr/local/lib/python3.11/dist-packages/IPython/core/interactiveshell.py\", line 2101, in showtraceback\n",
            "    stb = self.InteractiveTB.structured_traceback(etype,\n",
            "          ^^^^^^^^^^^^^^^^^^^^^^^^^^^^^^^^^^^^^^^^^^^^^^\n",
            "  File \"/usr/local/lib/python3.11/dist-packages/IPython/core/ultratb.py\", line 1367, in structured_traceback\n",
            "    return FormattedTB.structured_traceback(\n",
            "           ^^^^^^^^^^^^^^^^^^^^^^^^^^^^^^^^^\n",
            "  File \"/usr/local/lib/python3.11/dist-packages/IPython/core/ultratb.py\", line 1267, in structured_traceback\n",
            "    return VerboseTB.structured_traceback(\n",
            "           ^^^^^^^^^^^^^^^^^^^^^^^^^^^^^^^\n",
            "  File \"/usr/local/lib/python3.11/dist-packages/IPython/core/ultratb.py\", line 1124, in structured_traceback\n",
            "    formatted_exception = self.format_exception_as_a_whole(etype, evalue, etb, number_of_lines_of_context,\n",
            "                          ^^^^^^^^^^^^^^^^^^^^^^^^^^^^^^^^^^^^^^^^^^^^^^^^^^^^^^^^^^^^^^^^^^^^^^^^^^^^^^^^\n",
            "  File \"/usr/local/lib/python3.11/dist-packages/IPython/core/ultratb.py\", line 1082, in format_exception_as_a_whole\n",
            "    last_unique, recursion_repeat = find_recursion(orig_etype, evalue, records)\n",
            "                                    ^^^^^^^^^^^^^^^^^^^^^^^^^^^^^^^^^^^^^^^^^^^\n",
            "  File \"/usr/local/lib/python3.11/dist-packages/IPython/core/ultratb.py\", line 382, in find_recursion\n",
            "    return len(records), 0\n",
            "           ^^^^^^^^^^^^\n",
            "TypeError: object of type 'NoneType' has no len()\n",
            "\n",
            "During handling of the above exception, another exception occurred:\n",
            "\n",
            "Traceback (most recent call last):\n",
            "  File \"/usr/local/lib/python3.11/dist-packages/IPython/core/interactiveshell.py\", line 2099, in showtraceback\n",
            "    stb = value._render_traceback_()\n",
            "          ^^^^^^^^^^^^^^^^^^^^^^^^\n",
            "AttributeError: 'TypeError' object has no attribute '_render_traceback_'\n",
            "\n",
            "During handling of the above exception, another exception occurred:\n",
            "\n",
            "Traceback (most recent call last):\n",
            "  File \"/usr/local/lib/python3.11/dist-packages/IPython/core/interactiveshell.py\", line 3030, in _run_cell\n",
            "    return runner(coro)\n",
            "           ^^^^^^^^^^^^\n",
            "  File \"/usr/local/lib/python3.11/dist-packages/IPython/core/async_helpers.py\", line 78, in _pseudo_sync_runner\n",
            "    coro.send(None)\n",
            "  File \"/usr/local/lib/python3.11/dist-packages/IPython/core/interactiveshell.py\", line 3257, in run_cell_async\n",
            "    has_raised = await self.run_ast_nodes(code_ast.body, cell_name,\n",
            "                 ^^^^^^^^^^^^^^^^^^^^^^^^^^^^^^^^^^^^^^^^^^^^^^^^^^\n",
            "  File \"/usr/local/lib/python3.11/dist-packages/IPython/core/interactiveshell.py\", line 3492, in run_ast_nodes\n",
            "    self.showtraceback()\n",
            "  File \"/usr/local/lib/python3.11/dist-packages/IPython/core/interactiveshell.py\", line 2101, in showtraceback\n",
            "    stb = self.InteractiveTB.structured_traceback(etype,\n",
            "          ^^^^^^^^^^^^^^^^^^^^^^^^^^^^^^^^^^^^^^^^^^^^^^\n",
            "  File \"/usr/local/lib/python3.11/dist-packages/IPython/core/ultratb.py\", line 1367, in structured_traceback\n",
            "    return FormattedTB.structured_traceback(\n",
            "           ^^^^^^^^^^^^^^^^^^^^^^^^^^^^^^^^^\n",
            "  File \"/usr/local/lib/python3.11/dist-packages/IPython/core/ultratb.py\", line 1267, in structured_traceback\n",
            "    return VerboseTB.structured_traceback(\n",
            "           ^^^^^^^^^^^^^^^^^^^^^^^^^^^^^^^\n",
            "  File \"/usr/local/lib/python3.11/dist-packages/IPython/core/ultratb.py\", line 1142, in structured_traceback\n",
            "    formatted_exceptions += self.format_exception_as_a_whole(etype, evalue, etb, lines_of_context,\n",
            "                            ^^^^^^^^^^^^^^^^^^^^^^^^^^^^^^^^^^^^^^^^^^^^^^^^^^^^^^^^^^^^^^^^^^^^^^\n",
            "  File \"/usr/local/lib/python3.11/dist-packages/IPython/core/ultratb.py\", line 1082, in format_exception_as_a_whole\n",
            "    last_unique, recursion_repeat = find_recursion(orig_etype, evalue, records)\n",
            "                                    ^^^^^^^^^^^^^^^^^^^^^^^^^^^^^^^^^^^^^^^^^^^\n",
            "  File \"/usr/local/lib/python3.11/dist-packages/IPython/core/ultratb.py\", line 382, in find_recursion\n",
            "    return len(records), 0\n",
            "           ^^^^^^^^^^^^\n",
            "TypeError: object of type 'NoneType' has no len()\n",
            "\n",
            "During handling of the above exception, another exception occurred:\n",
            "\n",
            "Traceback (most recent call last):\n",
            "  File \"/usr/local/lib/python3.11/dist-packages/IPython/core/interactiveshell.py\", line 2099, in showtraceback\n",
            "    stb = value._render_traceback_()\n",
            "          ^^^^^^^^^^^^^^^^^^^^^^^^\n",
            "AttributeError: 'TypeError' object has no attribute '_render_traceback_'\n",
            "\n",
            "During handling of the above exception, another exception occurred:\n",
            "\n",
            "Traceback (most recent call last):\n",
            "  File \"/usr/local/lib/python3.11/dist-packages/IPython/core/ultratb.py\", line 1101, in get_records\n",
            "    return _fixed_getinnerframes(etb, number_of_lines_of_context, tb_offset)\n",
            "           ^^^^^^^^^^^^^^^^^^^^^^^^^^^^^^^^^^^^^^^^^^^^^^^^^^^^^^^^^^^^^^^^^\n",
            "  File \"/usr/local/lib/python3.11/dist-packages/IPython/core/ultratb.py\", line 248, in wrapped\n",
            "    return f(*args, **kwargs)\n",
            "           ^^^^^^^^^^^^^^^^^^\n",
            "  File \"/usr/local/lib/python3.11/dist-packages/IPython/core/ultratb.py\", line 281, in _fixed_getinnerframes\n",
            "    records = fix_frame_records_filenames(inspect.getinnerframes(etb, context))\n",
            "                                          ^^^^^^^^^^^^^^^^^^^^^^^^^^^^^^^^^^^^\n",
            "  File \"/usr/lib/python3.11/inspect.py\", line 1739, in getinnerframes\n",
            "    traceback_info = getframeinfo(tb, context)\n",
            "                     ^^^^^^^^^^^^^^^^^^^^^^^^^\n",
            "  File \"/usr/lib/python3.11/inspect.py\", line 1686, in getframeinfo\n",
            "    start = lineno - 1 - context//2\n",
            "            ~~~~~~~^~~\n",
            "TypeError: unsupported operand type(s) for -: 'NoneType' and 'int'\n"
          ]
        }
      ],
      "source": [
        "t = int(input())\n",
        "for _ in range(t):\n",
        "  n = list(map(int,input().split()))\n",
        "  j = 0\n",
        "  k = 0\n",
        "  for i in range(1,10**9):\n",
        "    if j == n[1]:\n",
        "      break\n",
        "    if i%n[0]!=0:\n",
        "      j += 1\n",
        "      k = i\n",
        "  print(k)"
      ]
    },
    {
      "cell_type": "code",
      "source": [],
      "metadata": {
        "id": "ZQvOkZ5h15AD"
      },
      "execution_count": null,
      "outputs": []
    },
    {
      "cell_type": "markdown",
      "metadata": {
        "id": "PkCn4UnJOEem"
      },
      "source": [
        "43A"
      ]
    },
    {
      "cell_type": "code",
      "execution_count": null,
      "metadata": {
        "id": "CMbPULi3OHh1"
      },
      "outputs": [],
      "source": [
        "n = int(input())\n",
        "s = {}\n",
        "for _ in range(n):\n",
        "  l = str(input())\n",
        "  if l not in s.keys():\n",
        "    s[l] = 1\n",
        "  elif l in s.keys():\n",
        "    s[l] += 1\n",
        "print(s)"
      ]
    },
    {
      "cell_type": "markdown",
      "metadata": {
        "id": "3YbULZrIiyaJ"
      },
      "source": [
        "478B"
      ]
    },
    {
      "cell_type": "code",
      "execution_count": null,
      "metadata": {
        "colab": {
          "base_uri": "https://localhost:8080/"
        },
        "id": "QvTJdw-slv0w",
        "outputId": "f42fe09e-17d3-4389-895d-f4a47097f2be"
      },
      "outputs": [
        {
          "name": "stdout",
          "output_type": "stream",
          "text": [
            "6 3\n",
            "3 6\n"
          ]
        }
      ],
      "source": [
        "n, m = map(int, input().split())\n",
        "\n",
        "# Вычисление максимального количества пар (kmax)\n",
        "\n",
        "x = n - (m - 1)\n",
        "kmax = x * (x - 1) // 2\n",
        "\n",
        "# Вычисление минимального количества пар (kmin)\n",
        "q = n // m\n",
        "r = n % m\n",
        "kmin = r * q * (q + 1) // 2 + (m - r) * q * (q - 1) // 2\n",
        "\n",
        "print(kmin, kmax)"
      ]
    },
    {
      "cell_type": "markdown",
      "metadata": {
        "id": "Gz5ol-M4p9ah"
      },
      "source": [
        "1360B"
      ]
    },
    {
      "cell_type": "code",
      "execution_count": null,
      "metadata": {
        "colab": {
          "background_save": true,
          "base_uri": "https://localhost:8080/"
        },
        "id": "Ts7tjJ4zp-8z",
        "outputId": "e919cf54-3382-451c-cfb6-c4d8adb2724b"
      },
      "outputs": [
        {
          "name": "stderr",
          "output_type": "stream",
          "text": [
            "ERROR:root:Internal Python error in the inspect module.\n",
            "Below is the traceback from this internal error.\n",
            "\n",
            "ERROR:root:Internal Python error in the inspect module.\n",
            "Below is the traceback from this internal error.\n",
            "\n",
            "ERROR:root:Internal Python error in the inspect module.\n",
            "Below is the traceback from this internal error.\n",
            "\n"
          ]
        },
        {
          "name": "stdout",
          "output_type": "stream",
          "text": [
            "Traceback (most recent call last):\n",
            "  File \"/usr/local/lib/python3.11/dist-packages/IPython/core/interactiveshell.py\", line 3553, in run_code\n",
            "    exec(code_obj, self.user_global_ns, self.user_ns)\n",
            "  File \"<ipython-input-29-0883014275ea>\", line None, in <cell line: 0>\n",
            "KeyboardInterrupt\n",
            "\n",
            "During handling of the above exception, another exception occurred:\n",
            "\n",
            "Traceback (most recent call last):\n",
            "  File \"/usr/local/lib/python3.11/dist-packages/IPython/core/interactiveshell.py\", line 2099, in showtraceback\n",
            "    stb = value._render_traceback_()\n",
            "          ^^^^^^^^^^^^^^^^^^^^^^^^\n",
            "AttributeError: 'KeyboardInterrupt' object has no attribute '_render_traceback_'\n",
            "\n",
            "During handling of the above exception, another exception occurred:\n",
            "\n",
            "Traceback (most recent call last):\n",
            "  File \"/usr/local/lib/python3.11/dist-packages/IPython/core/ultratb.py\", line 1101, in get_records\n",
            "    return _fixed_getinnerframes(etb, number_of_lines_of_context, tb_offset)\n",
            "           ^^^^^^^^^^^^^^^^^^^^^^^^^^^^^^^^^^^^^^^^^^^^^^^^^^^^^^^^^^^^^^^^^\n",
            "  File \"/usr/local/lib/python3.11/dist-packages/IPython/core/ultratb.py\", line 248, in wrapped\n",
            "    return f(*args, **kwargs)\n",
            "           ^^^^^^^^^^^^^^^^^^\n",
            "  File \"/usr/local/lib/python3.11/dist-packages/IPython/core/ultratb.py\", line 281, in _fixed_getinnerframes\n",
            "    records = fix_frame_records_filenames(inspect.getinnerframes(etb, context))\n",
            "                                          ^^^^^^^^^^^^^^^^^^^^^^^^^^^^^^^^^^^^\n",
            "  File \"/usr/lib/python3.11/inspect.py\", line 1739, in getinnerframes\n",
            "    traceback_info = getframeinfo(tb, context)\n",
            "                     ^^^^^^^^^^^^^^^^^^^^^^^^^\n",
            "  File \"/usr/lib/python3.11/inspect.py\", line 1686, in getframeinfo\n",
            "    start = lineno - 1 - context//2\n",
            "            ~~~~~~~^~~\n",
            "TypeError: unsupported operand type(s) for -: 'NoneType' and 'int'\n",
            "Traceback (most recent call last):\n",
            "  File \"/usr/local/lib/python3.11/dist-packages/IPython/core/interactiveshell.py\", line 3553, in run_code\n",
            "    exec(code_obj, self.user_global_ns, self.user_ns)\n",
            "  File \"<ipython-input-29-0883014275ea>\", line None, in <cell line: 0>\n",
            "KeyboardInterrupt\n",
            "\n",
            "During handling of the above exception, another exception occurred:\n",
            "\n",
            "Traceback (most recent call last):\n",
            "  File \"/usr/local/lib/python3.11/dist-packages/IPython/core/interactiveshell.py\", line 2099, in showtraceback\n",
            "    stb = value._render_traceback_()\n",
            "          ^^^^^^^^^^^^^^^^^^^^^^^^\n",
            "AttributeError: 'KeyboardInterrupt' object has no attribute '_render_traceback_'\n",
            "\n",
            "During handling of the above exception, another exception occurred:\n",
            "\n",
            "Traceback (most recent call last):\n",
            "  File \"/usr/local/lib/python3.11/dist-packages/IPython/core/interactiveshell.py\", line 3473, in run_ast_nodes\n",
            "    if (await self.run_code(code, result,  async_=asy)):\n",
            "        ^^^^^^^^^^^^^^^^^^^^^^^^^^^^^^^^^^^^^^^^^^^^^^\n",
            "  File \"/usr/local/lib/python3.11/dist-packages/IPython/core/interactiveshell.py\", line 3575, in run_code\n",
            "    self.showtraceback(running_compiled_code=True)\n",
            "  File \"/usr/local/lib/python3.11/dist-packages/IPython/core/interactiveshell.py\", line 2101, in showtraceback\n",
            "    stb = self.InteractiveTB.structured_traceback(etype,\n",
            "          ^^^^^^^^^^^^^^^^^^^^^^^^^^^^^^^^^^^^^^^^^^^^^^\n",
            "  File \"/usr/local/lib/python3.11/dist-packages/IPython/core/ultratb.py\", line 1367, in structured_traceback\n",
            "    return FormattedTB.structured_traceback(\n",
            "           ^^^^^^^^^^^^^^^^^^^^^^^^^^^^^^^^^\n",
            "  File \"/usr/local/lib/python3.11/dist-packages/IPython/core/ultratb.py\", line 1267, in structured_traceback\n",
            "    return VerboseTB.structured_traceback(\n",
            "           ^^^^^^^^^^^^^^^^^^^^^^^^^^^^^^^\n",
            "  File \"/usr/local/lib/python3.11/dist-packages/IPython/core/ultratb.py\", line 1124, in structured_traceback\n",
            "    formatted_exception = self.format_exception_as_a_whole(etype, evalue, etb, number_of_lines_of_context,\n",
            "                          ^^^^^^^^^^^^^^^^^^^^^^^^^^^^^^^^^^^^^^^^^^^^^^^^^^^^^^^^^^^^^^^^^^^^^^^^^^^^^^^^\n",
            "  File \"/usr/local/lib/python3.11/dist-packages/IPython/core/ultratb.py\", line 1082, in format_exception_as_a_whole\n",
            "    last_unique, recursion_repeat = find_recursion(orig_etype, evalue, records)\n",
            "                                    ^^^^^^^^^^^^^^^^^^^^^^^^^^^^^^^^^^^^^^^^^^^\n",
            "  File \"/usr/local/lib/python3.11/dist-packages/IPython/core/ultratb.py\", line 382, in find_recursion\n",
            "    return len(records), 0\n",
            "           ^^^^^^^^^^^^\n",
            "TypeError: object of type 'NoneType' has no len()\n",
            "\n",
            "During handling of the above exception, another exception occurred:\n",
            "\n",
            "Traceback (most recent call last):\n",
            "  File \"/usr/local/lib/python3.11/dist-packages/IPython/core/interactiveshell.py\", line 2099, in showtraceback\n",
            "    stb = value._render_traceback_()\n",
            "          ^^^^^^^^^^^^^^^^^^^^^^^^\n",
            "AttributeError: 'TypeError' object has no attribute '_render_traceback_'\n",
            "\n",
            "During handling of the above exception, another exception occurred:\n",
            "\n",
            "Traceback (most recent call last):\n",
            "  File \"/usr/local/lib/python3.11/dist-packages/IPython/core/ultratb.py\", line 1101, in get_records\n",
            "    return _fixed_getinnerframes(etb, number_of_lines_of_context, tb_offset)\n",
            "           ^^^^^^^^^^^^^^^^^^^^^^^^^^^^^^^^^^^^^^^^^^^^^^^^^^^^^^^^^^^^^^^^^\n",
            "  File \"/usr/local/lib/python3.11/dist-packages/IPython/core/ultratb.py\", line 248, in wrapped\n",
            "    return f(*args, **kwargs)\n",
            "           ^^^^^^^^^^^^^^^^^^\n",
            "  File \"/usr/local/lib/python3.11/dist-packages/IPython/core/ultratb.py\", line 281, in _fixed_getinnerframes\n",
            "    records = fix_frame_records_filenames(inspect.getinnerframes(etb, context))\n",
            "                                          ^^^^^^^^^^^^^^^^^^^^^^^^^^^^^^^^^^^^\n",
            "  File \"/usr/lib/python3.11/inspect.py\", line 1739, in getinnerframes\n",
            "    traceback_info = getframeinfo(tb, context)\n",
            "                     ^^^^^^^^^^^^^^^^^^^^^^^^^\n",
            "  File \"/usr/lib/python3.11/inspect.py\", line 1686, in getframeinfo\n",
            "    start = lineno - 1 - context//2\n",
            "            ~~~~~~~^~~\n",
            "TypeError: unsupported operand type(s) for -: 'NoneType' and 'int'\n",
            "Traceback (most recent call last):\n",
            "  File \"/usr/local/lib/python3.11/dist-packages/IPython/core/interactiveshell.py\", line 3553, in run_code\n",
            "    exec(code_obj, self.user_global_ns, self.user_ns)\n",
            "  File \"<ipython-input-29-0883014275ea>\", line None, in <cell line: 0>\n",
            "KeyboardInterrupt\n",
            "\n",
            "During handling of the above exception, another exception occurred:\n",
            "\n",
            "Traceback (most recent call last):\n",
            "  File \"/usr/local/lib/python3.11/dist-packages/IPython/core/interactiveshell.py\", line 2099, in showtraceback\n",
            "    stb = value._render_traceback_()\n",
            "          ^^^^^^^^^^^^^^^^^^^^^^^^\n",
            "AttributeError: 'KeyboardInterrupt' object has no attribute '_render_traceback_'\n",
            "\n",
            "During handling of the above exception, another exception occurred:\n",
            "\n",
            "Traceback (most recent call last):\n",
            "  File \"/usr/local/lib/python3.11/dist-packages/IPython/core/interactiveshell.py\", line 3473, in run_ast_nodes\n",
            "    if (await self.run_code(code, result,  async_=asy)):\n",
            "        ^^^^^^^^^^^^^^^^^^^^^^^^^^^^^^^^^^^^^^^^^^^^^^\n",
            "  File \"/usr/local/lib/python3.11/dist-packages/IPython/core/interactiveshell.py\", line 3575, in run_code\n",
            "    self.showtraceback(running_compiled_code=True)\n",
            "  File \"/usr/local/lib/python3.11/dist-packages/IPython/core/interactiveshell.py\", line 2101, in showtraceback\n",
            "    stb = self.InteractiveTB.structured_traceback(etype,\n",
            "          ^^^^^^^^^^^^^^^^^^^^^^^^^^^^^^^^^^^^^^^^^^^^^^\n",
            "  File \"/usr/local/lib/python3.11/dist-packages/IPython/core/ultratb.py\", line 1367, in structured_traceback\n",
            "    return FormattedTB.structured_traceback(\n",
            "           ^^^^^^^^^^^^^^^^^^^^^^^^^^^^^^^^^\n",
            "  File \"/usr/local/lib/python3.11/dist-packages/IPython/core/ultratb.py\", line 1267, in structured_traceback\n",
            "    return VerboseTB.structured_traceback(\n",
            "           ^^^^^^^^^^^^^^^^^^^^^^^^^^^^^^^\n",
            "  File \"/usr/local/lib/python3.11/dist-packages/IPython/core/ultratb.py\", line 1124, in structured_traceback\n",
            "    formatted_exception = self.format_exception_as_a_whole(etype, evalue, etb, number_of_lines_of_context,\n",
            "                          ^^^^^^^^^^^^^^^^^^^^^^^^^^^^^^^^^^^^^^^^^^^^^^^^^^^^^^^^^^^^^^^^^^^^^^^^^^^^^^^^\n",
            "  File \"/usr/local/lib/python3.11/dist-packages/IPython/core/ultratb.py\", line 1082, in format_exception_as_a_whole\n",
            "    last_unique, recursion_repeat = find_recursion(orig_etype, evalue, records)\n",
            "                                    ^^^^^^^^^^^^^^^^^^^^^^^^^^^^^^^^^^^^^^^^^^^\n",
            "  File \"/usr/local/lib/python3.11/dist-packages/IPython/core/ultratb.py\", line 382, in find_recursion\n",
            "    return len(records), 0\n",
            "           ^^^^^^^^^^^^\n",
            "TypeError: object of type 'NoneType' has no len()\n",
            "\n",
            "During handling of the above exception, another exception occurred:\n",
            "\n",
            "Traceback (most recent call last):\n",
            "  File \"/usr/local/lib/python3.11/dist-packages/IPython/core/interactiveshell.py\", line 2099, in showtraceback\n",
            "    stb = value._render_traceback_()\n",
            "          ^^^^^^^^^^^^^^^^^^^^^^^^\n",
            "AttributeError: 'TypeError' object has no attribute '_render_traceback_'\n",
            "\n",
            "During handling of the above exception, another exception occurred:\n",
            "\n",
            "Traceback (most recent call last):\n",
            "  File \"/usr/local/lib/python3.11/dist-packages/IPython/core/interactiveshell.py\", line 3030, in _run_cell\n",
            "    return runner(coro)\n",
            "           ^^^^^^^^^^^^\n",
            "  File \"/usr/local/lib/python3.11/dist-packages/IPython/core/async_helpers.py\", line 78, in _pseudo_sync_runner\n",
            "    coro.send(None)\n",
            "  File \"/usr/local/lib/python3.11/dist-packages/IPython/core/interactiveshell.py\", line 3257, in run_cell_async\n",
            "    has_raised = await self.run_ast_nodes(code_ast.body, cell_name,\n",
            "                 ^^^^^^^^^^^^^^^^^^^^^^^^^^^^^^^^^^^^^^^^^^^^^^^^^^\n",
            "  File \"/usr/local/lib/python3.11/dist-packages/IPython/core/interactiveshell.py\", line 3492, in run_ast_nodes\n",
            "    self.showtraceback()\n",
            "  File \"/usr/local/lib/python3.11/dist-packages/IPython/core/interactiveshell.py\", line 2101, in showtraceback\n",
            "    stb = self.InteractiveTB.structured_traceback(etype,\n",
            "          ^^^^^^^^^^^^^^^^^^^^^^^^^^^^^^^^^^^^^^^^^^^^^^\n",
            "  File \"/usr/local/lib/python3.11/dist-packages/IPython/core/ultratb.py\", line 1367, in structured_traceback\n",
            "    return FormattedTB.structured_traceback(\n",
            "           ^^^^^^^^^^^^^^^^^^^^^^^^^^^^^^^^^\n",
            "  File \"/usr/local/lib/python3.11/dist-packages/IPython/core/ultratb.py\", line 1267, in structured_traceback\n",
            "    return VerboseTB.structured_traceback(\n",
            "           ^^^^^^^^^^^^^^^^^^^^^^^^^^^^^^^\n",
            "  File \"/usr/local/lib/python3.11/dist-packages/IPython/core/ultratb.py\", line 1142, in structured_traceback\n",
            "    formatted_exceptions += self.format_exception_as_a_whole(etype, evalue, etb, lines_of_context,\n",
            "                            ^^^^^^^^^^^^^^^^^^^^^^^^^^^^^^^^^^^^^^^^^^^^^^^^^^^^^^^^^^^^^^^^^^^^^^\n",
            "  File \"/usr/local/lib/python3.11/dist-packages/IPython/core/ultratb.py\", line 1082, in format_exception_as_a_whole\n",
            "    last_unique, recursion_repeat = find_recursion(orig_etype, evalue, records)\n",
            "                                    ^^^^^^^^^^^^^^^^^^^^^^^^^^^^^^^^^^^^^^^^^^^\n",
            "  File \"/usr/local/lib/python3.11/dist-packages/IPython/core/ultratb.py\", line 382, in find_recursion\n",
            "    return len(records), 0\n",
            "           ^^^^^^^^^^^^\n",
            "TypeError: object of type 'NoneType' has no len()\n",
            "\n",
            "During handling of the above exception, another exception occurred:\n",
            "\n",
            "Traceback (most recent call last):\n",
            "  File \"/usr/local/lib/python3.11/dist-packages/IPython/core/interactiveshell.py\", line 2099, in showtraceback\n",
            "    stb = value._render_traceback_()\n",
            "          ^^^^^^^^^^^^^^^^^^^^^^^^\n",
            "AttributeError: 'TypeError' object has no attribute '_render_traceback_'\n",
            "\n",
            "During handling of the above exception, another exception occurred:\n",
            "\n",
            "Traceback (most recent call last):\n",
            "  File \"/usr/local/lib/python3.11/dist-packages/IPython/core/ultratb.py\", line 1101, in get_records\n",
            "    return _fixed_getinnerframes(etb, number_of_lines_of_context, tb_offset)\n",
            "           ^^^^^^^^^^^^^^^^^^^^^^^^^^^^^^^^^^^^^^^^^^^^^^^^^^^^^^^^^^^^^^^^^\n",
            "  File \"/usr/local/lib/python3.11/dist-packages/IPython/core/ultratb.py\", line 248, in wrapped\n",
            "    return f(*args, **kwargs)\n",
            "           ^^^^^^^^^^^^^^^^^^\n",
            "  File \"/usr/local/lib/python3.11/dist-packages/IPython/core/ultratb.py\", line 281, in _fixed_getinnerframes\n",
            "    records = fix_frame_records_filenames(inspect.getinnerframes(etb, context))\n",
            "                                          ^^^^^^^^^^^^^^^^^^^^^^^^^^^^^^^^^^^^\n",
            "  File \"/usr/lib/python3.11/inspect.py\", line 1739, in getinnerframes\n",
            "    traceback_info = getframeinfo(tb, context)\n",
            "                     ^^^^^^^^^^^^^^^^^^^^^^^^^\n",
            "  File \"/usr/lib/python3.11/inspect.py\", line 1686, in getframeinfo\n",
            "    start = lineno - 1 - context//2\n",
            "            ~~~~~~~^~~\n",
            "TypeError: unsupported operand type(s) for -: 'NoneType' and 'int'\n"
          ]
        }
      ],
      "source": [
        "n, k = map(int, input().split())\n",
        "min = 10**2\n",
        "for i in range(1,k+1):\n",
        "  if n%i == 0:\n",
        "    if n//i < min:\n",
        "      min = n//i\n",
        "print(min)"
      ]
    },
    {
      "cell_type": "markdown",
      "metadata": {
        "id": "4LWRvoWrogtq"
      },
      "source": [
        "школ этап всош 2024-2025 9-11 класс"
      ]
    },
    {
      "cell_type": "markdown",
      "metadata": {
        "id": "2VKPbDHpurLP"
      },
      "source": [
        "задача 1"
      ]
    },
    {
      "cell_type": "code",
      "execution_count": null,
      "metadata": {
        "id": "LH8jMCHAok8H"
      },
      "outputs": [],
      "source": [
        "n = int(input())\n",
        "a = n//2\n",
        "c = n-a\n",
        "c = c*c\n",
        "print(c)"
      ]
    },
    {
      "cell_type": "markdown",
      "source": [
        "задача 2"
      ],
      "metadata": {
        "id": "WImvCWmbx4_k"
      }
    },
    {
      "cell_type": "code",
      "source": [],
      "metadata": {
        "id": "vwJb-vTAx6jz"
      },
      "execution_count": null,
      "outputs": []
    },
    {
      "cell_type": "markdown",
      "source": [
        "550A"
      ],
      "metadata": {
        "id": "l0r9_3TC3yMb"
      }
    },
    {
      "cell_type": "code",
      "source": [
        "s = input().strip()\n",
        "n = len(s)\n",
        "ab_indices = []\n",
        "ba_indices = []\n",
        "\n",
        "# Собираем индексы всех вхождений \"AB\" и \"BA\"\n",
        "for i in range(n - 1):\n",
        "    if s[i] == 'A' and s[i+1] == 'B':\n",
        "        ab_indices.append(i)\n",
        "    if s[i] == 'B' and s[i+1] == 'A':\n",
        "        ba_indices.append(i)\n",
        "\n",
        "# Проверяем, есть ли хотя бы одна пара непересекающихся \"AB\" и \"BA\"\n",
        "if ab_indices and ba_indices:\n",
        "    # Проверяем, есть ли \"BA\" после какого-то \"AB\"\n",
        "    if ba_indices[-1] > ab_indices[0] + 1:\n",
        "        print(\"YES\")\n",
        "    # Проверяем, есть ли \"AB\" после какого-то \"BA\"\n",
        "    elif ab_indices[-1] > ba_indices[0] + 1:\n",
        "        print(\"YES\")\n",
        "    else:\n",
        "        print(\"NO\")\n",
        "else:\n",
        "    print(\"NO\")"
      ],
      "metadata": {
        "colab": {
          "base_uri": "https://localhost:8080/"
        },
        "id": "qLTNgpsK3zXk",
        "outputId": "7aa77aa6-2164-4ff8-b18e-7b291bcb961a"
      },
      "execution_count": null,
      "outputs": [
        {
          "output_type": "stream",
          "name": "stdout",
          "text": [
            "ABA\n",
            "NO\n"
          ]
        }
      ]
    },
    {
      "cell_type": "markdown",
      "source": [
        "1133C"
      ],
      "metadata": {
        "id": "K3FROIbC-US4"
      }
    },
    {
      "cell_type": "code",
      "source": [
        "n  = int(input())\n",
        "a = list(map(int,input().split()))\n",
        "a.sort(reverse=True)\n",
        "j = []\n",
        "if max(a)==min(a):\n",
        "  print(len(a))\n",
        "z = 0\n",
        "t = 0\n",
        "if max(a)!=min(a):\n",
        "  for k in range(1,len(a)):\n",
        "    if (a[t]-a[k]) <= 5 and t<=len(a) :\n",
        "      z += 1\n",
        "    else:\n",
        "      j.append(z)\n",
        "      z = 0\n",
        "      t += 1\n",
        "  print(max(j)+1)"
      ],
      "metadata": {
        "colab": {
          "base_uri": "https://localhost:8080/"
        },
        "id": "E5AgBrhd-V43",
        "outputId": "d0b92eb6-ab33-41ee-bd97-861f69d5fb0e"
      },
      "execution_count": null,
      "outputs": [
        {
          "output_type": "stream",
          "name": "stdout",
          "text": [
            "6\n",
            "1 10 17 12 15 2\n",
            "3\n"
          ]
        }
      ]
    },
    {
      "cell_type": "code",
      "source": [
        "n = int(input())\n",
        "a = list(map(int, input().split()))\n",
        "a.sort()\n",
        "\n",
        "left = 0\n",
        "max_team = 1\n",
        "\n",
        "for right in range(n):\n",
        "    while a[right] - a[left] > 5:\n",
        "        left += 1\n",
        "    max_team = max(max_team, right - left + 1)\n",
        "\n",
        "print(max_team)"
      ],
      "metadata": {
        "id": "LO1R8HP2v5BV",
        "outputId": "7da866b6-207b-4e81-c3ad-b59c86090dc0",
        "colab": {
          "base_uri": "https://localhost:8080/"
        }
      },
      "execution_count": null,
      "outputs": [
        {
          "output_type": "stream",
          "name": "stdout",
          "text": [
            "6\n",
            "1 10 17 12 15 2\n",
            "3\n"
          ]
        }
      ]
    },
    {
      "cell_type": "markdown",
      "source": [
        "1367C"
      ],
      "metadata": {
        "id": "VNj5FpcJPpDe"
      }
    },
    {
      "cell_type": "code",
      "source": [
        "t = int(input())\n",
        "for _ in range(t):\n",
        "  n,k = map(int,input().split())\n",
        "  s = str(input())\n",
        "  for g in range(len(s)):\n",
        "    print(n,s[g])\n",
        "    if s[g] == '1' and s[g]!=0 and s[g] != len(s)-1:\n",
        "      n -= 1+(k*2)\n",
        "    elif s[g] == '1' and s[g]==0 or s[g] == len(s)-1:\n",
        "      n -= 2\n",
        "  print(n)"
      ],
      "metadata": {
        "colab": {
          "base_uri": "https://localhost:8080/"
        },
        "id": "ozNNr3JmPrJP",
        "outputId": "9149d39d-f822-41b9-949a-fd05e2dceeb4"
      },
      "execution_count": null,
      "outputs": [
        {
          "output_type": "stream",
          "name": "stdout",
          "text": [
            "1\n",
            "6 1\n",
            "100010\n",
            "6 1\n",
            "3 0\n",
            "3 0\n",
            "3 0\n",
            "3 1\n",
            "0 0\n",
            "0\n"
          ]
        }
      ]
    },
    {
      "cell_type": "markdown",
      "source": [
        "131A"
      ],
      "metadata": {
        "id": "olXQQqGtVZ4P"
      }
    },
    {
      "cell_type": "code",
      "source": [
        "s = str(input().strip())\n",
        "up = 0\n",
        "low =0\n",
        "for k in s:\n",
        "    if k.isupper():\n",
        "      up += 1\n",
        "    else:\n",
        "      low += 1\n",
        "if up == len(s):\n",
        "  print('Caps')\n",
        "elif"
      ],
      "metadata": {
        "colab": {
          "base_uri": "https://localhost:8080/"
        },
        "id": "UhBRC8oUYqdf",
        "outputId": "d34386f9-0362-426a-ea3d-48d56462073f"
      },
      "execution_count": null,
      "outputs": [
        {
          "output_type": "stream",
          "name": "stdout",
          "text": [
            "Lock\n",
            "Lock\n"
          ]
        }
      ]
    },
    {
      "cell_type": "code",
      "source": [
        "x = str(input())\n",
        "upp = 0\n",
        "low = 0\n",
        "for i in x:\n",
        "    if i.isupper():\n",
        "        upp += 1\n",
        "    else:\n",
        "        low += 1\n",
        "\n",
        "if (x[0].islower() and upp == len(x)-1):\n",
        "    for i in range(len(x)):\n",
        "        if i == 0:\n",
        "            print(x[i].upper(), end=\"\")\n",
        "        else:\n",
        "            print(x[i].lower(), end=\"\")\n",
        "elif upp == len(x):\n",
        "    for i in range(len(x)):\n",
        "        print(x[i].lower(),end=\"\")\n",
        "else:\n",
        "    print(x)"
      ],
      "metadata": {
        "colab": {
          "base_uri": "https://localhost:8080/"
        },
        "id": "PRM-qhE1JIBo",
        "outputId": "fdafec17-6123-4436-cedd-7e4f5745b4d9"
      },
      "execution_count": null,
      "outputs": [
        {
          "output_type": "stream",
          "name": "stdout",
          "text": [
            "cAPS\n",
            "Caps"
          ]
        }
      ]
    },
    {
      "cell_type": "markdown",
      "source": [
        "476B"
      ],
      "metadata": {
        "id": "4c1fxmq0SFFx"
      }
    },
    {
      "cell_type": "code",
      "source": [
        "\n",
        "b = 0\n",
        "s1 = str(input())\n",
        "s2 = str(input())\n",
        "s11 = [j for j in s1]\n",
        "s2 = [j for j in s2]\n",
        "for y in s2:\n",
        "  if y in s11:\n",
        "    b += 1\n",
        "    s11.pop(s11.index(y))\n",
        "print(b/len(s1))"
      ],
      "metadata": {
        "colab": {
          "base_uri": "https://localhost:8080/"
        },
        "id": "ZHdNBXZASGVf",
        "outputId": "35e02919-cef2-4259-a9cb-1bcfc651c6f7"
      },
      "execution_count": null,
      "outputs": [
        {
          "output_type": "stream",
          "name": "stdout",
          "text": [
            "+++\n",
            "??-\n",
            "0.0\n"
          ]
        }
      ]
    },
    {
      "cell_type": "markdown",
      "source": [
        "1883B"
      ],
      "metadata": {
        "id": "buws3aPB47xq"
      }
    },
    {
      "cell_type": "code",
      "source": [
        "import sys\n",
        "from collections import defaultdict\n",
        "\n",
        "def solve():\n",
        "    t = int(sys.stdin.readline())\n",
        "    for _ in range(t):\n",
        "        n, k = map(int, sys.stdin.readline().split())\n",
        "        s = sys.stdin.readline().strip()\n",
        "        freq = defaultdict(int)\n",
        "        for c in s:\n",
        "            freq[c] += 1\n",
        "        remaining = n - k\n",
        "        if remaining == 1:\n",
        "            print(\"YES\")\n",
        "            continue\n",
        "        # Подсчитываем количество букв с нечётным количеством\n",
        "        odd = 0\n",
        "        for count in freq.values():\n",
        "            if count % 2 != 0:\n",
        "                odd += 1\n",
        "        # Максимально возможное количество нечётных букв для палиндрома: 1\n",
        "        if odd <= k + 1:\n",
        "            print(\"YES\")\n",
        "        else:\n",
        "            print(\"NO\")\n",
        "\n",
        "solve()"
      ],
      "metadata": {
        "id": "UnSM-44S5boK"
      },
      "execution_count": null,
      "outputs": []
    },
    {
      "cell_type": "markdown",
      "source": [
        "514A"
      ],
      "metadata": {
        "id": "B2-qfSYsiKDE"
      }
    },
    {
      "cell_type": "code",
      "source": [],
      "metadata": {
        "id": "_X5O7eg7iLTc"
      },
      "execution_count": null,
      "outputs": []
    },
    {
      "cell_type": "markdown",
      "source": [
        "489B"
      ],
      "metadata": {
        "id": "vMxhInUbjVc7"
      }
    },
    {
      "cell_type": "code",
      "source": [
        "n = int(input())\n",
        "a = list(map(int,input().split()))\n",
        "m = int(input())\n",
        "b = list(map(int,input().split()))\n",
        "c = 0\n",
        "a.sort()\n",
        "b.sort()\n",
        "if len(a)<len(b):\n",
        "  for i in range(len(a)):\n",
        "    if a[i] in b:\n",
        "      b.pop(b.index(a[i]))\n",
        "      c += 1\n",
        "    elif a[i]-1 in b:\n",
        "      b.pop(b.index(a[i]-1))\n",
        "      c += 1\n",
        "    elif a[i]+1 in b:\n",
        "      b.pop(b.index(a[i]+1))\n",
        "      c += 1\n",
        "else:\n",
        "  for i in range(len(b)):\n",
        "    if b[i] in a:\n",
        "      a.pop(a.index(b[i]))\n",
        "      c += 1\n",
        "    elif b[i]-1 in a:\n",
        "      a.pop(a.index(b[i]-1))\n",
        "      c += 1\n",
        "    elif b[i]+1 in a:\n",
        "      a.pop(a.index(b[i]+1))\n",
        "      c += 1\n",
        "print(c)"
      ],
      "metadata": {
        "colab": {
          "base_uri": "https://localhost:8080/"
        },
        "id": "qLKlJ2_cjWjV",
        "outputId": "9bf60561-ce52-4309-8d8f-90ca40673936"
      },
      "execution_count": null,
      "outputs": [
        {
          "output_type": "stream",
          "name": "stdout",
          "text": [
            "4\n",
            "1 4 6 2\n",
            "5\n",
            "5 1 5 7 9\n",
            "3\n"
          ]
        }
      ]
    },
    {
      "cell_type": "code",
      "source": [
        "n = int(input())\n",
        "a = list(map(int, input().split()))\n",
        "m = int(input())\n",
        "b = list(map(int, input().split()))\n",
        "\n",
        "a.sort()\n",
        "b.sort()\n",
        "\n",
        "i = j = count = 0\n",
        "while i < n and j < m:\n",
        "    if abs(a[i] - b[j]) <= 1:\n",
        "        count += 1\n",
        "        i += 1\n",
        "        j += 1\n",
        "    elif a[i] < b[j]:\n",
        "        i += 1\n",
        "    else:\n",
        "        j += 1\n",
        "\n",
        "print(count)"
      ],
      "metadata": {
        "id": "jJCoLbo4-IqX"
      },
      "execution_count": null,
      "outputs": []
    },
    {
      "cell_type": "markdown",
      "source": [
        "1520D"
      ],
      "metadata": {
        "id": "_0kb3pYPlls-"
      }
    },
    {
      "cell_type": "code",
      "source": [
        "t = int(input())\n",
        "for _ in range(t):\n",
        "  c = {}\n",
        "  n = int(input())\n",
        "  a = list(map(int, input().split()))\n",
        "  for i in range(len(a)):\n",
        "    c[]\n",
        "    \"\"\"for j in range(len(a[:(i+1)*-1])):\"\"\"\n",
        "    if a[j] - a[(i+1)*-1] == (j+1) - (n-i):\n",
        "\n",
        "  print(c)"
      ],
      "metadata": {
        "colab": {
          "base_uri": "https://localhost:8080/"
        },
        "id": "MvgtRKGUlnWg",
        "outputId": "21823a56-6340-45af-b603-83b97ba60f74"
      },
      "execution_count": null,
      "outputs": [
        {
          "output_type": "stream",
          "name": "stdout",
          "text": [
            "1\n",
            "6\n",
            "3 5 1 4 6 6\n",
            "1\n"
          ]
        }
      ]
    },
    {
      "cell_type": "code",
      "source": [
        "import sys\n",
        "from collections import defaultdict\n",
        "\n",
        "def solve():\n",
        "    input = sys.stdin.read().split()\n",
        "    ptr = 0\n",
        "    t = int(input[ptr])\n",
        "    ptr += 1\n",
        "    for _ in range(t):\n",
        "        n = int(input[ptr])\n",
        "        ptr += 1\n",
        "        a = list(map(int, input[ptr:ptr + n]))\n",
        "        ptr += n\n",
        "        freq = defaultdict(int)\n",
        "        count = 0\n",
        "        for i in range(n):\n",
        "            key = a[i] - i\n",
        "            count += freq[key]\n",
        "            freq[key] += 1\n",
        "        print(count)\n",
        "\n",
        "solve()"
      ],
      "metadata": {
        "id": "sYjb_dNOw9av"
      },
      "execution_count": null,
      "outputs": []
    },
    {
      "cell_type": "markdown",
      "source": [
        "467B"
      ],
      "metadata": {
        "id": "VeLK69_3yZe4"
      }
    },
    {
      "cell_type": "code",
      "source": [
        "a = list(map(int,input().split()))\n",
        "s = []\n",
        "c = 0\n",
        "\n",
        "for _ in range(a[1]+1):\n",
        "  i = int(input())\n",
        "  s.append(i)\n",
        "z = s[-1]\n",
        "s.pop(-1)\n",
        "for r in s:\n",
        "  if abs(r-z) <= a[2]:\n",
        "    c += 1\n",
        "print(c)"
      ],
      "metadata": {
        "colab": {
          "base_uri": "https://localhost:8080/"
        },
        "id": "VSJFUW16w1bT",
        "outputId": "f57f2f63-d206-4944-ab5f-74556889ba1e"
      },
      "execution_count": null,
      "outputs": [
        {
          "output_type": "stream",
          "name": "stdout",
          "text": [
            "7 3 1\n",
            "8\n",
            "5\n",
            "111\n",
            "17\n",
            "0\n"
          ]
        }
      ]
    },
    {
      "cell_type": "code",
      "source": [
        "n, m, k = map(int, input().split())\n",
        "armies = [int(input()) for _ in range(m + 1)]\n",
        "fedor = armies[-1]\n",
        "count = 0\n",
        "\n",
        "for army in armies[:-1]:\n",
        "    xor = army ^ fedor\n",
        "    diff_bits = bin(xor).count('1')\n",
        "    if diff_bits <= k:\n",
        "        count += 1\n",
        "\n",
        "print(count)"
      ],
      "metadata": {
        "colab": {
          "base_uri": "https://localhost:8080/"
        },
        "id": "x7Qqg5RG8XDd",
        "outputId": "e42eca51-6afe-4214-bb01-99d7908732d9"
      },
      "execution_count": null,
      "outputs": [
        {
          "output_type": "stream",
          "name": "stdout",
          "text": [
            "3 3 3\n",
            "1\n",
            "2\n",
            "3\n",
            "4\n",
            "5\n",
            "6\n",
            "7\n",
            "3\n"
          ]
        }
      ]
    },
    {
      "cell_type": "markdown",
      "source": [
        "1363A"
      ],
      "metadata": {
        "id": "2IWZ3uE2Aeif"
      }
    },
    {
      "cell_type": "code",
      "source": [
        "t = int(input())\n",
        "for _ in range(t):\n",
        "  ch=0\n",
        "  nch = 0\n",
        "  n,x = map(int,input().split())\n",
        "  a = list(map(int,input().split()))\n",
        "  for z in a:\n",
        "    if z%2 == 0:\n",
        "      ch += 1\n",
        "    else:\n",
        "      nch += 1\n",
        "  if x%2 !=0:\n",
        "    if nch > 0 and ch >= x-1:\n",
        "      print('YES')\n",
        "    else:\n",
        "        print('NO')\n",
        "  elif x%2 == 0:\n",
        "    if ch > 0 and nch> 0 and ch-1 >= x-2 or nch-1 >= x-2 :\n",
        "      print('YES')\n",
        "    else:\n",
        "      print('NO')"
      ],
      "metadata": {
        "colab": {
          "base_uri": "https://localhost:8080/"
        },
        "id": "gau8VnGlAfqc",
        "outputId": "74b8c648-5dd7-4e04-a72e-ca8afc9d8ebf"
      },
      "execution_count": null,
      "outputs": [
        {
          "output_type": "stream",
          "name": "stdout",
          "text": [
            "1\n",
            "3 3\n",
            "101 102 103\n",
            "NO\n"
          ]
        }
      ]
    },
    {
      "cell_type": "code",
      "source": [
        "t = int(input())\n",
        "for _ in range(t):\n",
        "    n, x = map(int, input().split())\n",
        "    a = list(map(int, input().split()))\n",
        "    even = 0\n",
        "    odd = 0\n",
        "    for num in a:\n",
        "        if num % 2 == 0:\n",
        "            even += 1\n",
        "        else:\n",
        "            odd += 1\n",
        "    possible = False\n",
        "    if x % 2 == 1:\n",
        "        # Нужно хотя бы один нечетный и в сумме x элементов\n",
        "        if odd >= 1 and (even + odd) >= x:\n",
        "            possible = True\n",
        "    else:\n",
        "        # Нужно хотя бы один нечетный и хотя бы один четный\n",
        "        if odd >= 1 and even >= 1 and (even + odd) >= x:\n",
        "            possible = True\n",
        "    # Проверка случая, когда x == n (нужно выбрать все элементы)\n",
        "    if x == n:\n",
        "        if odd % 2 == 1:\n",
        "            possible = True\n",
        "        else:\n",
        "            possible = False\n",
        "    print(\"Yes\" if possible else \"No\")"
      ],
      "metadata": {
        "colab": {
          "base_uri": "https://localhost:8080/"
        },
        "id": "9rgxf4M2CGUm",
        "outputId": "773943db-b569-437e-e7a6-4622649fa160"
      },
      "execution_count": null,
      "outputs": [
        {
          "output_type": "stream",
          "name": "stdout",
          "text": [
            "0\n"
          ]
        }
      ]
    },
    {
      "cell_type": "markdown",
      "source": [
        "520B"
      ],
      "metadata": {
        "id": "9wqdThRA7m0W"
      }
    },
    {
      "cell_type": "code",
      "source": [
        "n,m = map(int,input().split())\n",
        "if n > m:\n",
        "  print(abs(m-n))\n",
        "if n < m:\n",
        "  if m%2 == 0 and n > m//2:\n",
        "    c = n-(m//2)\n",
        "    print(c+1)\n",
        "  elif m%2 != 0:\n",
        "    while n < m:\n",
        "      n *= 2\n",
        "    print(abs(n-m))\n",
        "if n == m:\n",
        "  print(0)"
      ],
      "metadata": {
        "colab": {
          "base_uri": "https://localhost:8080/"
        },
        "id": "saWXxZl07n_e",
        "outputId": "007d4b0c-7961-441f-830a-664d58b8a5d1"
      },
      "execution_count": null,
      "outputs": [
        {
          "name": "stdout",
          "output_type": "stream",
          "text": [
            "1 1\n"
          ]
        }
      ]
    },
    {
      "cell_type": "code",
      "source": [
        "from collections import deque\n",
        "\n",
        "n, m = map(int, input().split())\n",
        "\n",
        "if n == m:\n",
        "    print(0)\n",
        "elif n > m:\n",
        "    print(n - m)\n",
        "else:\n",
        "    visited = {}\n",
        "    queue = deque()\n",
        "    queue.append((n, 0))\n",
        "    visited[n] = True\n",
        "    found = False\n",
        "    answer = 0\n",
        "    while queue and not found:\n",
        "        current, steps = queue.popleft()\n",
        "        if current == m:\n",
        "            answer = steps\n",
        "            found = True\n",
        "            break\n",
        "        # Красная кнопка: умножить на 2\n",
        "        next_num = current * 2\n",
        "        if next_num <= 2 * m and next_num not in visited:\n",
        "            visited[next_num] = True\n",
        "            queue.append((next_num, steps + 1))\n",
        "        # Синяя кнопка: вычесть 1\n",
        "        next_num = current - 1\n",
        "        if next_num > 0 and next_num not in visited:\n",
        "            visited[next_num] = True\n",
        "            queue.append((next_num, steps + 1))\n",
        "    print(answer)"
      ],
      "metadata": {
        "id": "nODEeg_kDqtv"
      },
      "execution_count": null,
      "outputs": []
    },
    {
      "cell_type": "markdown",
      "source": [
        "1195с"
      ],
      "metadata": {
        "id": "JgZCFe97GSwC"
      }
    },
    {
      "cell_type": "code",
      "source": [
        "import sys\n",
        "\n",
        "def solve():\n",
        "    n = int(sys.stdin.readline())\n",
        "    h1 = list(map(int, sys.stdin.readline().split()))\n",
        "    h2 = list(map(int, sys.stdin.readline().split()))\n",
        "\n",
        "    dp1 = [0] * n\n",
        "    dp2 = [0] * n\n",
        "    dp1[0] = h1[0]\n",
        "    dp2[0] = h2[0]\n",
        "\n",
        "    max_dp1 = dp1[0]\n",
        "    max_dp2 = dp2[0]\n",
        "\n",
        "    for i in range(1, n):\n",
        "        dp1[i] = h1[i] + max_dp2\n",
        "        dp2[i] = h2[i] + max_dp1\n",
        "        if dp1[i] > max_dp1:\n",
        "            max_dp1 = dp1[i]\n",
        "        if dp2[i] > max_dp2:\n",
        "            max_dp2 = dp2[i]\n",
        "\n",
        "    print(max(max_dp1, max_dp2))\n",
        "\n",
        "solve()"
      ],
      "metadata": {
        "id": "A4iMMSxWGU7v"
      },
      "execution_count": null,
      "outputs": []
    },
    {
      "cell_type": "markdown",
      "source": [
        "459B"
      ],
      "metadata": {
        "id": "uX6fAPU4N8Mo"
      }
    },
    {
      "cell_type": "code",
      "source": [
        "import sys\n",
        "\n",
        "def solve():\n",
        "    n = int(sys.stdin.readline())\n",
        "    b = list(map(int, sys.stdin.readline().split()))\n",
        "    min_b = min(b)\n",
        "    max_b = max(b)\n",
        "\n",
        "    if min_b == max_b:\n",
        "        # Все элементы одинаковы, количество способов — C(n, 2)\n",
        "        ways = n * (n - 1) // 2\n",
        "    else:\n",
        "        count_min = b.count(min_b)\n",
        "        count_max = b.count(max_b)\n",
        "        ways = count_min * count_max\n",
        "\n",
        "    print(max_b - min_b, ways)\n",
        "\n",
        "solve()"
      ],
      "metadata": {
        "id": "r_I0g75tN-UP"
      },
      "execution_count": null,
      "outputs": []
    },
    {
      "cell_type": "markdown",
      "source": [
        "1526B"
      ],
      "metadata": {
        "id": "X0ZO4NjSeBsa"
      }
    },
    {
      "cell_type": "code",
      "source": [
        "t = int(input())\n",
        "for _ in range(t):\n",
        "  x = int(input())\n",
        "  x = str(x)\n",
        "  if x[-1] == x[-2]:\n",
        "    print('YES')\n",
        "  else:\n",
        "    print('NO')"
      ],
      "metadata": {
        "colab": {
          "base_uri": "https://localhost:8080/"
        },
        "id": "BeQ1u5AvfLF5",
        "outputId": "0f1a5859-f19d-4e45-9ad7-50fea39d20e6"
      },
      "execution_count": null,
      "outputs": [
        {
          "output_type": "stream",
          "name": "stdout",
          "text": [
            "3\n",
            "33\n",
            "YES\n",
            "144\n",
            "YES\n",
            "69\n",
            "NO\n"
          ]
        }
      ]
    },
    {
      "cell_type": "code",
      "source": [
        "t = int(input())\n",
        "for _ in range(t):\n",
        "    x = int(input())\n",
        "    possible = False\n",
        "    # Перебираем возможное количество 111\n",
        "    max_b = x // 111\n",
        "    for b in range(max_b + 1):\n",
        "        remaining = x - 111 * b\n",
        "        if remaining >= 0 and remaining % 11 == 0:\n",
        "            possible = True\n",
        "            break\n",
        "    print(\"YES\" if possible else \"NO\")"
      ],
      "metadata": {
        "id": "9OKj8AD5jTa7"
      },
      "execution_count": null,
      "outputs": []
    },
    {
      "cell_type": "markdown",
      "source": [
        "698A"
      ],
      "metadata": {
        "id": "Tn0RHOU7jpxq"
      }
    },
    {
      "cell_type": "code",
      "source": [
        "n = int(input())\n",
        "a = list(map(int, input().split()))\n",
        "\n",
        "# Инициализация DP: dp[i][last_activity], где last_activity: 0 - отдых, 1 - контест, 2 - спорт\n",
        "# Изначально все значения бесконечны, кроме начальных\n",
        "INF = float('inf')\n",
        "dp = [[INF] * 3 for _ in range(n + 1)]\n",
        "dp[0][0] = 0  # Перед первым днем можно считать, что последняя активность - отдых\n",
        "\n",
        "for i in range(1, n + 1):\n",
        "    current_day = a[i - 1]\n",
        "\n",
        "    # Варианты активности для текущего дня\n",
        "    for last in range(3):\n",
        "        if dp[i - 1][last] == INF:\n",
        "            continue\n",
        "\n",
        "        # Отдых\n",
        "        if dp[i][0] > dp[i - 1][last] + 1:\n",
        "            dp[i][0] = dp[i - 1][last] + 1\n",
        "\n",
        "        # Контест (если возможен и не повторяет предыдущую активность)\n",
        "        if (current_day == 1 or current_day == 3) and last != 1:\n",
        "            if dp[i][1] > dp[i - 1][last]:\n",
        "                dp[i][1] = dp[i - 1][last]\n",
        "\n",
        "        # Спорт (если возможен и не повторяет предыдущую активность)\n",
        "        if (current_day == 2 or current_day == 3) and last != 2:\n",
        "            if dp[i][2] > dp[i - 1][last]:\n",
        "                dp[i][2] = dp[i - 1][last]\n",
        "\n",
        "# Ответ - минимальное количество дней отдыха среди всех возможных последних активностей\n",
        "print(min(dp[n][0], dp[n][1], dp[n][2]))"
      ],
      "metadata": {
        "id": "d1Vee_5fjrch"
      },
      "execution_count": null,
      "outputs": []
    },
    {
      "cell_type": "markdown",
      "source": [
        "451B\n"
      ],
      "metadata": {
        "id": "NaiwEojTfaTN"
      }
    },
    {
      "cell_type": "code",
      "source": [
        "n = int(input())\n",
        "a = list(map(int, input().split()))\n",
        "sorted_a = sorted(a)\n",
        "\n",
        "if a == sorted_a:\n",
        "    print(\"yes\")\n",
        "    print(1, 1)\n",
        "else:\n",
        "    l = 0\n",
        "    while l < n and a[l] == sorted_a[l]:\n",
        "        l += 1\n",
        "    r = n - 1\n",
        "    while r >= 0 and a[r] == sorted_a[r]:\n",
        "        r -= 1\n",
        "    # Переворачиваем подотрезок a[l..r]\n",
        "    reversed_segment = a[l:r+1][::-1]\n",
        "    new_a = a[:l] + reversed_segment + a[r+1:]\n",
        "    if new_a == sorted_a:\n",
        "        print(\"yes\")\n",
        "        print(l + 1, r + 1)  # Перевод в 1-индексацию\n",
        "    else:\n",
        "        print(\"no\")"
      ],
      "metadata": {
        "id": "F2lqcFN-hdfE"
      },
      "execution_count": null,
      "outputs": []
    },
    {
      "cell_type": "markdown",
      "source": [
        "1352D"
      ],
      "metadata": {
        "id": "EtJjGB6Rj4GX"
      }
    },
    {
      "cell_type": "code",
      "source": [
        "\n",
        "t = int(input())\n",
        "for _ in range(t):\n",
        "    al = 0\n",
        "    bob = 0\n",
        "    c = 0\n",
        "    n = int(input())\n",
        "    a = list(map(int,input().split()))\n",
        "    while len(a) != 0:\n",
        "      while al < bob:\n",
        "        al += a[0]\n",
        "        c += 1\n",
        "        a.pop(0)\n",
        "      while bob < al:\n",
        "        bob += a[-1]\n",
        "        c += 1\n",
        "        a.pop(-1)\n",
        "    print(c,al,bob)"
      ],
      "metadata": {
        "colab": {
          "base_uri": "https://localhost:8080/",
          "height": 263
        },
        "id": "bQGFkjW1j4-6",
        "outputId": "39d92b7a-d1aa-4e9e-fdfb-eaa5f6f0d4c2"
      },
      "execution_count": null,
      "outputs": [
        {
          "name": "stdout",
          "output_type": "stream",
          "text": [
            "1\n",
            "1\n",
            "1\n"
          ]
        },
        {
          "output_type": "error",
          "ename": "KeyboardInterrupt",
          "evalue": "",
          "traceback": [
            "\u001b[0;31m---------------------------------------------------------------------------\u001b[0m",
            "\u001b[0;31mKeyboardInterrupt\u001b[0m                         Traceback (most recent call last)",
            "\u001b[0;32m<ipython-input-2-3763925905>\u001b[0m in \u001b[0;36m<cell line: 0>\u001b[0;34m()\u001b[0m\n\u001b[1;32m      6\u001b[0m     \u001b[0mn\u001b[0m \u001b[0;34m=\u001b[0m \u001b[0mint\u001b[0m\u001b[0;34m(\u001b[0m\u001b[0minput\u001b[0m\u001b[0;34m(\u001b[0m\u001b[0;34m)\u001b[0m\u001b[0;34m)\u001b[0m\u001b[0;34m\u001b[0m\u001b[0;34m\u001b[0m\u001b[0m\n\u001b[1;32m      7\u001b[0m     \u001b[0ma\u001b[0m \u001b[0;34m=\u001b[0m \u001b[0mlist\u001b[0m\u001b[0;34m(\u001b[0m\u001b[0mmap\u001b[0m\u001b[0;34m(\u001b[0m\u001b[0mint\u001b[0m\u001b[0;34m,\u001b[0m\u001b[0minput\u001b[0m\u001b[0;34m(\u001b[0m\u001b[0;34m)\u001b[0m\u001b[0;34m.\u001b[0m\u001b[0msplit\u001b[0m\u001b[0;34m(\u001b[0m\u001b[0;34m)\u001b[0m\u001b[0;34m)\u001b[0m\u001b[0;34m)\u001b[0m\u001b[0;34m\u001b[0m\u001b[0;34m\u001b[0m\u001b[0m\n\u001b[0;32m----> 8\u001b[0;31m     \u001b[0;32mwhile\u001b[0m \u001b[0mlen\u001b[0m\u001b[0;34m(\u001b[0m\u001b[0ma\u001b[0m\u001b[0;34m)\u001b[0m \u001b[0;34m!=\u001b[0m \u001b[0;36m0\u001b[0m\u001b[0;34m:\u001b[0m\u001b[0;34m\u001b[0m\u001b[0;34m\u001b[0m\u001b[0m\n\u001b[0m\u001b[1;32m      9\u001b[0m       \u001b[0;32mwhile\u001b[0m \u001b[0mal\u001b[0m \u001b[0;34m<\u001b[0m \u001b[0mbob\u001b[0m\u001b[0;34m:\u001b[0m\u001b[0;34m\u001b[0m\u001b[0;34m\u001b[0m\u001b[0m\n\u001b[1;32m     10\u001b[0m         \u001b[0mal\u001b[0m \u001b[0;34m+=\u001b[0m \u001b[0ma\u001b[0m\u001b[0;34m[\u001b[0m\u001b[0;36m0\u001b[0m\u001b[0;34m]\u001b[0m\u001b[0;34m\u001b[0m\u001b[0;34m\u001b[0m\u001b[0m\n",
            "\u001b[0;31mKeyboardInterrupt\u001b[0m: "
          ]
        }
      ]
    },
    {
      "cell_type": "code",
      "source": [
        "t = int(input())\n",
        "for _ in range(t):\n",
        "    n = int(input())\n",
        "    a = list(map(int, input().split()))\n",
        "    left = 0\n",
        "    right = n - 1\n",
        "    alice_total = 0\n",
        "    bob_total = 0\n",
        "    moves = 0\n",
        "    last_move_sum = 0\n",
        "    current_move_sum = 0\n",
        "    turn = 0  # 0 - Alice, 1 - Bob\n",
        "\n",
        "    while left <= right:\n",
        "        if turn == 0:\n",
        "            current_move_sum = 0\n",
        "            while left <= right and current_move_sum <= last_move_sum:\n",
        "                current_move_sum += a[left]\n",
        "                left += 1\n",
        "            alice_total += current_move_sum\n",
        "        else:\n",
        "            current_move_sum = 0\n",
        "            while left <= right and current_move_sum <= last_move_sum:\n",
        "                current_move_sum += a[right]\n",
        "                right -= 1\n",
        "            bob_total += current_move_sum\n",
        "        last_move_sum = current_move_sum\n",
        "        moves += 1\n",
        "        turn ^= 1  # Switch turn\n",
        "\n",
        "    print(moves, alice_total, bob_total)"
      ],
      "metadata": {
        "id": "r8zm2MsBoLO1"
      },
      "execution_count": null,
      "outputs": []
    },
    {
      "cell_type": "markdown",
      "source": [
        "1354B"
      ],
      "metadata": {
        "id": "Ez7ASPxFjZg8"
      }
    },
    {
      "cell_type": "code",
      "source": [],
      "metadata": {
        "id": "vWzjNQAkkj0U"
      },
      "execution_count": null,
      "outputs": []
    },
    {
      "cell_type": "markdown",
      "source": [
        "514A"
      ],
      "metadata": {
        "id": "F0jzYeBEkn_0"
      }
    },
    {
      "cell_type": "code",
      "source": [
        "x = input().strip()\n",
        "result = []\n",
        "\n",
        "for i, digit in enumerate(x):\n",
        "    original = int(digit)\n",
        "    inverted = 9 - original\n",
        "    if i == 0:\n",
        "        # Первая цифра не может быть 0\n",
        "        if original == 0:\n",
        "            # По условию x положительное, поэтому такого не будет\n",
        "            pass\n",
        "        else:\n",
        "            # Выбираем минимальное между original и inverted, но не 0\n",
        "            if inverted == 0:\n",
        "                result.append(str(original))\n",
        "            else:\n",
        "                result.append(str(min(original, inverted)))\n",
        "    else:\n",
        "        # Для остальных цифр выбираем минимальное\n",
        "        result.append(str(min(original, inverted)))\n",
        "\n",
        "# Объединяем цифры в число\n",
        "min_number = ''.join(result)\n",
        "print(min_number)2"
      ],
      "metadata": {
        "id": "TSpQT88vkr57"
      },
      "execution_count": null,
      "outputs": []
    },
    {
      "cell_type": "markdown",
      "source": [
        "445A"
      ],
      "metadata": {
        "id": "Kci543C2oHZ1"
      }
    },
    {
      "cell_type": "code",
      "source": [
        "n,m = map(int,input().split())\n",
        "k = []\n",
        "z = []\n",
        "for _ in range(n):\n",
        "  s = ((input().split()))\n",
        "  k.append(s)\n",
        "for i in range(k):\n",
        "  g = k[i]\n",
        "  for c in range(g):\n",
        "    if c == '.':\n",
        "\n",
        "    else:\n",
        "      pass\n"
      ],
      "metadata": {
        "id": "vUxZj5ThoIRi",
        "colab": {
          "base_uri": "https://localhost:8080/"
        },
        "outputId": "f1493201-ec1d-497a-e110-5a18e5beeb55"
      },
      "execution_count": null,
      "outputs": [
        {
          "output_type": "stream",
          "name": "stdout",
          "text": [
            "2 2\n",
            "..\n",
            "..\n",
            "[['..'], ['..']]\n"
          ]
        }
      ]
    },
    {
      "cell_type": "markdown",
      "source": [
        "474B"
      ],
      "metadata": {
        "id": "rMvkEw_oM_RS"
      }
    },
    {
      "cell_type": "code",
      "source": [
        "import bisect\n",
        "\n",
        "n = int(input())\n",
        "a = list(map(int, input().split()))\n",
        "m = int(input())\n",
        "queries = list(map(int, input().split()))\n",
        "\n",
        "# Строим массив префиксных сумм\n",
        "prefix = [0] * n\n",
        "prefix[0] = a[0]\n",
        "for i in range(1, n):\n",
        "    prefix[i] = prefix[i-1] + a[i]\n",
        "\n",
        "# Обрабатываем каждый запрос\n",
        "for q in queries:\n",
        "    # Используем bisect для бинарного поиска\n",
        "    pos = bisect.bisect_left(prefix, q)\n",
        "    print(pos + 1)"
      ],
      "metadata": {
        "id": "LwSjZQeXM2Kc"
      },
      "execution_count": null,
      "outputs": []
    },
    {
      "cell_type": "markdown",
      "source": [
        "545C"
      ],
      "metadata": {
        "id": "5UZ4qyG0PN-c"
      }
    },
    {
      "cell_type": "code",
      "source": [
        "n = int(input())\n",
        "c = 0\n",
        "z = []\n",
        "for _ in range(n):\n",
        "  v = map(int,input().split())\n",
        "  z.append(v)\n",
        "for i in range(n):\n",
        "  k = z[i]\n",
        "  if k[0]-k[1] < z"
      ],
      "metadata": {
        "id": "tE51HK_qPPAM"
      },
      "execution_count": null,
      "outputs": []
    },
    {
      "cell_type": "markdown",
      "source": [
        "459A"
      ],
      "metadata": {
        "id": "jcSsZJAzob20"
      }
    },
    {
      "cell_type": "code",
      "source": [
        "x = list(map(int,input().split()))\n",
        "z = []\n",
        "if max(x)-min(x) >= 2:\n",
        "  print(-1)\n",
        "  exit()\n",
        "m1 = min(x),min(x)\n",
        "m2 = max(x),max(x)\n",
        "m3 = max(x),min(x)\n",
        "m4 = min(x),max(x)\n",
        "for m in [m1, m2, m3, m4]:\n",
        "    if list(m) not in [x[:2], x[2:]]:\n",
        "        z.extend(list(m))\n",
        "\n",
        "print(*z[:4])"
      ],
      "metadata": {
        "colab": {
          "base_uri": "https://localhost:8080/"
        },
        "id": "w5g2jMBTodgT",
        "outputId": "81687161-0924-4865-b572-9f58debf508d"
      },
      "execution_count": null,
      "outputs": [
        {
          "output_type": "stream",
          "name": "stdout",
          "text": [
            "0 0 1 1\n",
            "1 0 0 1\n"
          ]
        }
      ]
    },
    {
      "cell_type": "code",
      "source": [
        "x1, y1, x2, y2 = map(int, input().split())\n",
        "\n",
        "# Проверяем, лежат ли точки на одной вертикальной или горизонтальной линии\n",
        "if x1 == x2:\n",
        "    side = abs(y2 - y1)\n",
        "    x3 = x1 + side\n",
        "    y3 = y1\n",
        "    x4 = x2 + side\n",
        "    y4 = y2\n",
        "    print(x3, y3, x4, y4)\n",
        "elif y1 == y2:\n",
        "    side = abs(x2 - x1)\n",
        "    y3 = y1 + side\n",
        "    x3 = x1\n",
        "    y4 = y2 + side\n",
        "    x4 = x2\n",
        "    print(x3, y3, x4, y4)\n",
        "else:\n",
        "    # Проверяем, являются ли точки диагональными вершинами квадрата\n",
        "    if abs(x2 - x1) == abs(y2 - y1):\n",
        "        x3 = x1\n",
        "        y3 = y2\n",
        "        x4 = x2\n",
        "        y4 = y1\n",
        "        print(x3, y3, x4, y4)\n",
        "    else:\n",
        "        print(-1)"
      ],
      "metadata": {
        "id": "zSZJnl5VuZ0k"
      },
      "execution_count": null,
      "outputs": []
    },
    {
      "cell_type": "markdown",
      "source": [
        "Школьный этап ВcОШ по информатике 9-11 класс 2024 (1 группа регионов)"
      ],
      "metadata": {
        "id": "M7k76cn3y_DW"
      }
    },
    {
      "cell_type": "code",
      "source": [
        "a = int(input())\n",
        "b = int(input())\n",
        "c = int(input())\n",
        "d = int(input())\n",
        "if abs(max(a,b,c)-((a+b+c)-max(a,b,c))) <= d:\n",
        "  print(0)\n",
        "else:\n",
        "  print(abs(max(a,b,c)-((a+b+c)-max(a,b,c)))-d)"
      ],
      "metadata": {
        "colab": {
          "base_uri": "https://localhost:8080/"
        },
        "id": "HiNFSfvhzBrr",
        "outputId": "82e7ced5-04c0-4fa2-fcde-ed68005500b1"
      },
      "execution_count": null,
      "outputs": [
        {
          "output_type": "stream",
          "name": "stdout",
          "text": [
            "30\n",
            "20\n",
            "45\n",
            "10\n",
            "0\n"
          ]
        }
      ]
    },
    {
      "cell_type": "markdown",
      "source": [
        "112A"
      ],
      "metadata": {
        "id": "dHPSx6ig6zTt"
      }
    },
    {
      "cell_type": "code",
      "source": [
        "x = str(input())\n",
        "y= str(input())\n",
        "alphabet_dict = {chr(i): i - 96 for i in range(97, 123)}\n",
        "x = x.lower()\n",
        "y = y.lower()\n",
        "x1 = 0\n",
        "x2 = 0\n",
        "for z in x:\n",
        "  x1 += alphabet_dict.get(z)\n",
        "for z in y:\n",
        "  x2 += alphabet_dict.get(z)\n",
        "if x1 == x2:\n",
        "  print(0)\n",
        "elif x1> x2:\n",
        "  print(1)\n",
        "elif x1<x2:\n",
        "  print(-1)"
      ],
      "metadata": {
        "colab": {
          "base_uri": "https://localhost:8080/"
        },
        "id": "ytq0vsST60iF",
        "outputId": "c9f609a4-cb74-40f0-9da2-5fbe24f948b0"
      },
      "execution_count": null,
      "outputs": [
        {
          "output_type": "stream",
          "name": "stdout",
          "text": [
            "abcdefg\n",
            "AbCdEfF\n",
            "abcdefg abcdeff\n",
            "1\n"
          ]
        }
      ]
    },
    {
      "cell_type": "code",
      "source": [
        "s1 = input().lower()\n",
        "s2 = input().lower()\n",
        "\n",
        "if s1 == s2:\n",
        "    print(0)\n",
        "elif s1 < s2:\n",
        "    print(-1)\n",
        "else:\n",
        "    print(1)"
      ],
      "metadata": {
        "id": "I4COPj-G9HMN"
      },
      "execution_count": null,
      "outputs": []
    },
    {
      "cell_type": "markdown",
      "source": [
        "задача 2"
      ],
      "metadata": {
        "id": "dooLY0VZZmfn"
      }
    },
    {
      "cell_type": "code",
      "source": [
        "n = int(input())\n",
        "a = int(input())\n",
        "x = int(input())\n",
        "b = int(input())\n",
        "y = int(input())\n",
        "z = x\n",
        "c = y\n",
        "d = {}\n",
        "x *= 2\n",
        "x += 1\n",
        "y *= 2\n",
        "y += 1\n",
        "if (a*x) + (y*b) < n:\n",
        "  print(-1)\n",
        "  exit()\n",
        "while n > 0:\n",
        "  mid = n // 2\n",
        "  mid2 = mid // 2\n",
        "  mid3 = mid2 + mid\n",
        "  if x > y:\n",
        "    n -= x\n",
        "    d[mid] = z\n",
        "  else:\n",
        "    n -= y\n",
        "    d[mid] = c\n",
        "  if x > y:\n",
        "    n -= x\n",
        "    d[mid2] = z\n",
        "  else:\n",
        "    n -= y\n",
        "    d[mid2] = c\n",
        "  if x > y:\n",
        "    n -= x\n",
        "    d[mid3] = z\n",
        "  else:\n",
        "    n -= y\n",
        "    d[mid3] = c\n",
        "for i,m in d.items():\n",
        "  print(i,m)"
      ],
      "metadata": {
        "colab": {
          "base_uri": "https://localhost:8080/"
        },
        "id": "B5DySUbpZo_f",
        "outputId": "6d5e3912-bba8-40b7-f45e-5cb076e7a904"
      },
      "execution_count": null,
      "outputs": [
        {
          "output_type": "stream",
          "name": "stdout",
          "text": [
            "10\n",
            "3\n",
            "1\n",
            "1\n",
            "2\n",
            "5 2\n",
            "2 2\n",
            "7 2\n"
          ]
        }
      ]
    },
    {
      "cell_type": "code",
      "source": [
        "n = int (input ( ) )\n",
        "a = int (input ( ) )\n",
        "x = int (input ( ) )\n",
        "b = int (input ( ) )\n",
        "y = int (input ( ) )\n",
        "if a * (2 * x + 1 ) + b * (2 * y + 1 ) < n :\n",
        "  print(-1)\n",
        "else:\n",
        "  if x < y :\n",
        "    x,y = y , x\n",
        "    a ,b = b , a\n",
        "    last_lighted = 0\n",
        "  while last_lighted < n :\n",
        "    if a > 0 :\n",
        "      print(min(n , last_lighted + x + 1 ), x )\n",
        "      last_lighted += 2 * x + 1\n",
        "      a-= 1\n",
        "    else:\n",
        "      print(min(n ,last_lighted + y + 1 ) , y )\n",
        "      last_lighted += 2 * y + 1\n",
        "      b -= 1\n"
      ],
      "metadata": {
        "colab": {
          "base_uri": "https://localhost:8080/",
          "height": 356
        },
        "id": "vVclGYbHjvrf",
        "outputId": "5ce3e5b7-b88b-4680-97bc-afdb637ac864"
      },
      "execution_count": null,
      "outputs": [
        {
          "output_type": "error",
          "ename": "KeyboardInterrupt",
          "evalue": "Interrupted by user",
          "traceback": [
            "\u001b[0;31m---------------------------------------------------------------------------\u001b[0m",
            "\u001b[0;31mKeyboardInterrupt\u001b[0m                         Traceback (most recent call last)",
            "\u001b[0;32m/tmp/ipython-input-4-2495995131.py\u001b[0m in \u001b[0;36m<cell line: 0>\u001b[0;34m()\u001b[0m\n\u001b[0;32m----> 1\u001b[0;31m \u001b[0mn\u001b[0m \u001b[0;34m=\u001b[0m \u001b[0mint\u001b[0m \u001b[0;34m(\u001b[0m\u001b[0minput\u001b[0m \u001b[0;34m(\u001b[0m \u001b[0;34m)\u001b[0m \u001b[0;34m)\u001b[0m\u001b[0;34m\u001b[0m\u001b[0;34m\u001b[0m\u001b[0m\n\u001b[0m\u001b[1;32m      2\u001b[0m \u001b[0ma\u001b[0m \u001b[0;34m=\u001b[0m \u001b[0mint\u001b[0m \u001b[0;34m(\u001b[0m\u001b[0minput\u001b[0m \u001b[0;34m(\u001b[0m \u001b[0;34m)\u001b[0m \u001b[0;34m)\u001b[0m\u001b[0;34m\u001b[0m\u001b[0;34m\u001b[0m\u001b[0m\n\u001b[1;32m      3\u001b[0m \u001b[0mx\u001b[0m \u001b[0;34m=\u001b[0m \u001b[0mint\u001b[0m \u001b[0;34m(\u001b[0m\u001b[0minput\u001b[0m \u001b[0;34m(\u001b[0m \u001b[0;34m)\u001b[0m \u001b[0;34m)\u001b[0m\u001b[0;34m\u001b[0m\u001b[0;34m\u001b[0m\u001b[0m\n\u001b[1;32m      4\u001b[0m \u001b[0mb\u001b[0m \u001b[0;34m=\u001b[0m \u001b[0mint\u001b[0m \u001b[0;34m(\u001b[0m\u001b[0minput\u001b[0m \u001b[0;34m(\u001b[0m \u001b[0;34m)\u001b[0m \u001b[0;34m)\u001b[0m\u001b[0;34m\u001b[0m\u001b[0;34m\u001b[0m\u001b[0m\n\u001b[1;32m      5\u001b[0m \u001b[0my\u001b[0m \u001b[0;34m=\u001b[0m \u001b[0mint\u001b[0m \u001b[0;34m(\u001b[0m\u001b[0minput\u001b[0m \u001b[0;34m(\u001b[0m \u001b[0;34m)\u001b[0m \u001b[0;34m)\u001b[0m\u001b[0;34m\u001b[0m\u001b[0;34m\u001b[0m\u001b[0m\n",
            "\u001b[0;32m/usr/local/lib/python3.11/dist-packages/ipykernel/kernelbase.py\u001b[0m in \u001b[0;36mraw_input\u001b[0;34m(self, prompt)\u001b[0m\n\u001b[1;32m   1175\u001b[0m                 \u001b[0;34m\"raw_input was called, but this frontend does not support input requests.\"\u001b[0m\u001b[0;34m\u001b[0m\u001b[0;34m\u001b[0m\u001b[0m\n\u001b[1;32m   1176\u001b[0m             )\n\u001b[0;32m-> 1177\u001b[0;31m         return self._input_request(\n\u001b[0m\u001b[1;32m   1178\u001b[0m             \u001b[0mstr\u001b[0m\u001b[0;34m(\u001b[0m\u001b[0mprompt\u001b[0m\u001b[0;34m)\u001b[0m\u001b[0;34m,\u001b[0m\u001b[0;34m\u001b[0m\u001b[0;34m\u001b[0m\u001b[0m\n\u001b[1;32m   1179\u001b[0m             \u001b[0mself\u001b[0m\u001b[0;34m.\u001b[0m\u001b[0m_parent_ident\u001b[0m\u001b[0;34m[\u001b[0m\u001b[0;34m\"shell\"\u001b[0m\u001b[0;34m]\u001b[0m\u001b[0;34m,\u001b[0m\u001b[0;34m\u001b[0m\u001b[0;34m\u001b[0m\u001b[0m\n",
            "\u001b[0;32m/usr/local/lib/python3.11/dist-packages/ipykernel/kernelbase.py\u001b[0m in \u001b[0;36m_input_request\u001b[0;34m(self, prompt, ident, parent, password)\u001b[0m\n\u001b[1;32m   1217\u001b[0m             \u001b[0;32mexcept\u001b[0m \u001b[0mKeyboardInterrupt\u001b[0m\u001b[0;34m:\u001b[0m\u001b[0;34m\u001b[0m\u001b[0;34m\u001b[0m\u001b[0m\n\u001b[1;32m   1218\u001b[0m                 \u001b[0;31m# re-raise KeyboardInterrupt, to truncate traceback\u001b[0m\u001b[0;34m\u001b[0m\u001b[0;34m\u001b[0m\u001b[0m\n\u001b[0;32m-> 1219\u001b[0;31m                 \u001b[0;32mraise\u001b[0m \u001b[0mKeyboardInterrupt\u001b[0m\u001b[0;34m(\u001b[0m\u001b[0;34m\"Interrupted by user\"\u001b[0m\u001b[0;34m)\u001b[0m \u001b[0;32mfrom\u001b[0m \u001b[0;32mNone\u001b[0m\u001b[0;34m\u001b[0m\u001b[0;34m\u001b[0m\u001b[0m\n\u001b[0m\u001b[1;32m   1220\u001b[0m             \u001b[0;32mexcept\u001b[0m \u001b[0mException\u001b[0m\u001b[0;34m:\u001b[0m\u001b[0;34m\u001b[0m\u001b[0;34m\u001b[0m\u001b[0m\n\u001b[1;32m   1221\u001b[0m                 \u001b[0mself\u001b[0m\u001b[0;34m.\u001b[0m\u001b[0mlog\u001b[0m\u001b[0;34m.\u001b[0m\u001b[0mwarning\u001b[0m\u001b[0;34m(\u001b[0m\u001b[0;34m\"Invalid Message:\"\u001b[0m\u001b[0;34m,\u001b[0m \u001b[0mexc_info\u001b[0m\u001b[0;34m=\u001b[0m\u001b[0;32mTrue\u001b[0m\u001b[0;34m)\u001b[0m\u001b[0;34m\u001b[0m\u001b[0;34m\u001b[0m\u001b[0m\n",
            "\u001b[0;31mKeyboardInterrupt\u001b[0m: Interrupted by user"
          ]
        }
      ]
    },
    {
      "cell_type": "markdown",
      "source": [
        "задача 3"
      ],
      "metadata": {
        "id": "agokgrx2pm_Y"
      }
    },
    {
      "cell_type": "code",
      "source": [
        "e = int(input())\n",
        "n = int(input())\n",
        "i = 0\n",
        "z = []\n",
        "for _ in range(n):\n",
        "  y = int(input())\n",
        "  z.append(y)\n",
        "z.append(10)\n",
        "u = 0\n",
        "for _ in range(10**2):\n",
        "  if i == len(z)-1:\n",
        "    break\n",
        "  ez = z[e:]\n",
        "  #print(ez)\n",
        "  l = max(ez)\n",
        "  e -= z.index(l)+1\n",
        "  if e < 0:\n",
        "    print(-1)\n",
        "    exit()\n",
        "  e += z.index(l)+1\n",
        "  u += e\n",
        "  i = z.index(l)+1\n",
        "print(e-10)"
      ],
      "metadata": {
        "colab": {
          "base_uri": "https://localhost:8080/"
        },
        "id": "dBB6N84BpoSR",
        "outputId": "063eac4a-2715-4927-b159-f1bfa1223529"
      },
      "execution_count": null,
      "outputs": [
        {
          "output_type": "stream",
          "name": "stdout",
          "text": [
            "2\n",
            "3\n",
            "1\n",
            "-1\n",
            "1\n",
            "-1\n",
            "-1\n",
            "-1\n",
            "-1\n",
            "-1\n",
            "-1\n",
            "-1\n",
            "-1\n",
            "-1\n",
            "-1\n",
            "-1\n",
            "-1\n",
            "-1\n",
            "-1\n",
            "-1\n",
            "-1\n",
            "-1\n",
            "-1\n",
            "-1\n",
            "-1\n",
            "-1\n",
            "-1\n",
            "-1\n",
            "-1\n",
            "-1\n",
            "-1\n",
            "-1\n",
            "-1\n",
            "-1\n",
            "-1\n",
            "-1\n",
            "-1\n",
            "-1\n",
            "-1\n",
            "-1\n",
            "-1\n",
            "-1\n",
            "-1\n",
            "-1\n",
            "-1\n",
            "-1\n",
            "-1\n",
            "-1\n",
            "-1\n",
            "-1\n",
            "-1\n",
            "-1\n",
            "-1\n",
            "-1\n",
            "-1\n",
            "-1\n",
            "-1\n",
            "-1\n",
            "-1\n",
            "-1\n",
            "-1\n",
            "-1\n",
            "-1\n",
            "-1\n",
            "-1\n",
            "-1\n",
            "-1\n",
            "-1\n",
            "-1\n",
            "-1\n",
            "-1\n",
            "-1\n",
            "-1\n",
            "-1\n",
            "-1\n",
            "-1\n",
            "-1\n",
            "-1\n",
            "-1\n",
            "-1\n",
            "-1\n",
            "-1\n",
            "-1\n",
            "-1\n",
            "-1\n",
            "-1\n",
            "-1\n",
            "-1\n",
            "-1\n",
            "-1\n",
            "-1\n",
            "-1\n",
            "-1\n",
            "-1\n",
            "-1\n",
            "-1\n",
            "-1\n",
            "-1\n",
            "-1\n",
            "-1\n",
            "-1\n",
            "-1\n",
            "-1\n",
            "-1\n",
            "-1\n",
            "-8\n"
          ]
        }
      ]
    },
    {
      "cell_type": "markdown",
      "source": [
        "519B"
      ],
      "metadata": {
        "id": "CUbxpXBTxHRh"
      }
    },
    {
      "cell_type": "code",
      "source": [
        "from collections import Counter\n",
        "\n",
        "n = int(input())\n",
        "a = list(map(int, input().split()))\n",
        "b = list(map(int, input().split()))\n",
        "c = list(map(int, input().split()))\n",
        "\n",
        "# Находим первую исправленную ошибку (есть в 'a', но нет в 'b')\n",
        "count_a = Counter(a)\n",
        "count_b = Counter(b)\n",
        "first_error = (count_a - count_b).most_common(1)[0][0]\n",
        "\n",
        "# Находим вторую исправленную ошибку (есть в 'b', но нет в 'c')\n",
        "count_b = Counter(b)\n",
        "count_c = Counter(c)\n",
        "second_error = (count_b - count_c).most_common(1)[0][0]\n",
        "\n",
        "print(first_error)\n",
        "print(second_error)"
      ],
      "metadata": {
        "id": "-TtR7rez3-XS"
      },
      "execution_count": null,
      "outputs": []
    },
    {
      "cell_type": "markdown",
      "source": [
        "задача 4"
      ],
      "metadata": {
        "id": "L5g8dmGH6FeJ"
      }
    },
    {
      "cell_type": "code",
      "source": [
        "m =int(input())\n",
        "n = int(input())\n",
        "k = int(input())\n",
        "m1 = m\n",
        "n1 = n\n",
        "c = 0\n",
        "z = 0\n",
        "while c < k:\n",
        "  c += m1\n",
        "  m -= 1\n",
        "while z < k:\n",
        "  z += n1\n",
        "  n -= 1\n",
        "print((n1*m1)-min(c,z))"
      ],
      "metadata": {
        "colab": {
          "base_uri": "https://localhost:8080/",
          "height": 356
        },
        "id": "gIvO17cX6G-J",
        "outputId": "781877eb-ceea-4e05-c6a7-3bcd69da80d4"
      },
      "execution_count": null,
      "outputs": [
        {
          "output_type": "error",
          "ename": "KeyboardInterrupt",
          "evalue": "Interrupted by user",
          "traceback": [
            "\u001b[0;31m---------------------------------------------------------------------------\u001b[0m",
            "\u001b[0;31mKeyboardInterrupt\u001b[0m                         Traceback (most recent call last)",
            "\u001b[0;32m/tmp/ipython-input-36-3494458287.py\u001b[0m in \u001b[0;36m<cell line: 0>\u001b[0;34m()\u001b[0m\n\u001b[0;32m----> 1\u001b[0;31m \u001b[0mm\u001b[0m \u001b[0;34m=\u001b[0m\u001b[0mint\u001b[0m\u001b[0;34m(\u001b[0m\u001b[0minput\u001b[0m\u001b[0;34m(\u001b[0m\u001b[0;34m)\u001b[0m\u001b[0;34m)\u001b[0m\u001b[0;34m\u001b[0m\u001b[0;34m\u001b[0m\u001b[0m\n\u001b[0m\u001b[1;32m      2\u001b[0m \u001b[0mn\u001b[0m \u001b[0;34m=\u001b[0m \u001b[0mint\u001b[0m\u001b[0;34m(\u001b[0m\u001b[0minput\u001b[0m\u001b[0;34m(\u001b[0m\u001b[0;34m)\u001b[0m\u001b[0;34m)\u001b[0m\u001b[0;34m\u001b[0m\u001b[0;34m\u001b[0m\u001b[0m\n\u001b[1;32m      3\u001b[0m \u001b[0mk\u001b[0m \u001b[0;34m=\u001b[0m \u001b[0mint\u001b[0m\u001b[0;34m(\u001b[0m\u001b[0minput\u001b[0m\u001b[0;34m(\u001b[0m\u001b[0;34m)\u001b[0m\u001b[0;34m)\u001b[0m\u001b[0;34m\u001b[0m\u001b[0;34m\u001b[0m\u001b[0m\n\u001b[1;32m      4\u001b[0m \u001b[0mm1\u001b[0m \u001b[0;34m=\u001b[0m \u001b[0mm\u001b[0m\u001b[0;34m\u001b[0m\u001b[0;34m\u001b[0m\u001b[0m\n\u001b[1;32m      5\u001b[0m \u001b[0mn1\u001b[0m \u001b[0;34m=\u001b[0m \u001b[0mn\u001b[0m\u001b[0;34m\u001b[0m\u001b[0;34m\u001b[0m\u001b[0m\n",
            "\u001b[0;32m/usr/local/lib/python3.11/dist-packages/ipykernel/kernelbase.py\u001b[0m in \u001b[0;36mraw_input\u001b[0;34m(self, prompt)\u001b[0m\n\u001b[1;32m   1175\u001b[0m                 \u001b[0;34m\"raw_input was called, but this frontend does not support input requests.\"\u001b[0m\u001b[0;34m\u001b[0m\u001b[0;34m\u001b[0m\u001b[0m\n\u001b[1;32m   1176\u001b[0m             )\n\u001b[0;32m-> 1177\u001b[0;31m         return self._input_request(\n\u001b[0m\u001b[1;32m   1178\u001b[0m             \u001b[0mstr\u001b[0m\u001b[0;34m(\u001b[0m\u001b[0mprompt\u001b[0m\u001b[0;34m)\u001b[0m\u001b[0;34m,\u001b[0m\u001b[0;34m\u001b[0m\u001b[0;34m\u001b[0m\u001b[0m\n\u001b[1;32m   1179\u001b[0m             \u001b[0mself\u001b[0m\u001b[0;34m.\u001b[0m\u001b[0m_parent_ident\u001b[0m\u001b[0;34m[\u001b[0m\u001b[0;34m\"shell\"\u001b[0m\u001b[0;34m]\u001b[0m\u001b[0;34m,\u001b[0m\u001b[0;34m\u001b[0m\u001b[0;34m\u001b[0m\u001b[0m\n",
            "\u001b[0;32m/usr/local/lib/python3.11/dist-packages/ipykernel/kernelbase.py\u001b[0m in \u001b[0;36m_input_request\u001b[0;34m(self, prompt, ident, parent, password)\u001b[0m\n\u001b[1;32m   1217\u001b[0m             \u001b[0;32mexcept\u001b[0m \u001b[0mKeyboardInterrupt\u001b[0m\u001b[0;34m:\u001b[0m\u001b[0;34m\u001b[0m\u001b[0;34m\u001b[0m\u001b[0m\n\u001b[1;32m   1218\u001b[0m                 \u001b[0;31m# re-raise KeyboardInterrupt, to truncate traceback\u001b[0m\u001b[0;34m\u001b[0m\u001b[0;34m\u001b[0m\u001b[0m\n\u001b[0;32m-> 1219\u001b[0;31m                 \u001b[0;32mraise\u001b[0m \u001b[0mKeyboardInterrupt\u001b[0m\u001b[0;34m(\u001b[0m\u001b[0;34m\"Interrupted by user\"\u001b[0m\u001b[0;34m)\u001b[0m \u001b[0;32mfrom\u001b[0m \u001b[0;32mNone\u001b[0m\u001b[0;34m\u001b[0m\u001b[0;34m\u001b[0m\u001b[0m\n\u001b[0m\u001b[1;32m   1220\u001b[0m             \u001b[0;32mexcept\u001b[0m \u001b[0mException\u001b[0m\u001b[0;34m:\u001b[0m\u001b[0;34m\u001b[0m\u001b[0;34m\u001b[0m\u001b[0m\n\u001b[1;32m   1221\u001b[0m                 \u001b[0mself\u001b[0m\u001b[0;34m.\u001b[0m\u001b[0mlog\u001b[0m\u001b[0;34m.\u001b[0m\u001b[0mwarning\u001b[0m\u001b[0;34m(\u001b[0m\u001b[0;34m\"Invalid Message:\"\u001b[0m\u001b[0;34m,\u001b[0m \u001b[0mexc_info\u001b[0m\u001b[0;34m=\u001b[0m\u001b[0;32mTrue\u001b[0m\u001b[0;34m)\u001b[0m\u001b[0;34m\u001b[0m\u001b[0;34m\u001b[0m\u001b[0m\n",
            "\u001b[0;31mKeyboardInterrupt\u001b[0m: Interrupted by user"
          ]
        }
      ]
    },
    {
      "cell_type": "code",
      "source": [
        "m =int(input())\n",
        "n = int(input())\n",
        "k = int(input())\n",
        "ans = 1\n",
        "for a in range(1,m+1):\n",
        "  b = min( n , (m * n - k + 1 ) // a )\n",
        "  ans = max(ans,a*b)\n",
        "print(ans)"
      ],
      "metadata": {
        "id": "k9P1NVSy-3Qc"
      },
      "execution_count": null,
      "outputs": []
    },
    {
      "cell_type": "markdown",
      "source": [
        "368B"
      ],
      "metadata": {
        "id": "kygi4XjWrnIM"
      }
    },
    {
      "cell_type": "code",
      "source": [
        "n,m = map(int,input().split())\n",
        "from collections import Counter\n",
        "a = (list(map(int,input().split())))\n",
        "#a = list(dict.fromkeys(a))\n",
        "for _ in range(m):\n",
        "  l = int(input())\n",
        "  cnt = Counter(a[l-1:])\n",
        "  print(len(cnt))\n",
        "\n"
      ],
      "metadata": {
        "colab": {
          "base_uri": "https://localhost:8080/",
          "height": 417
        },
        "id": "2J8MDc-ProRi",
        "outputId": "0c4ac85e-3cd2-49e6-bbeb-c7d2c836c323"
      },
      "execution_count": null,
      "outputs": [
        {
          "output_type": "stream",
          "name": "stdout",
          "text": [
            "10 10\n",
            "1 2 3 4 1 2 3 4 100000 99999\n",
            "1\n",
            "6\n",
            "2\n",
            "6\n",
            "3\n",
            "6\n",
            "4\n",
            "6\n",
            "5\n",
            "6\n",
            "6\n",
            "5\n",
            "7\n",
            "4\n",
            "8\n",
            "3\n",
            "9\n",
            "2\n",
            "10\n",
            "1\n"
          ]
        },
        {
          "output_type": "execute_result",
          "data": {
            "text/plain": [
              "'  print(cnt)\\n  count = sum(1 for key in cnt if cnt[key] == 1)'"
            ],
            "application/vnd.google.colaboratory.intrinsic+json": {
              "type": "string"
            }
          },
          "metadata": {},
          "execution_count": 28
        }
      ]
    },
    {
      "cell_type": "code",
      "source": [
        "import sys\n",
        "\n",
        "def main():\n",
        "    input = sys.stdin.read\n",
        "    data = input().split()\n",
        "    idx = 0\n",
        "\n",
        "    n, m = int(data[idx]), int(data[idx + 1])\n",
        "    idx += 2\n",
        "    a = list(map(int, data[idx:idx + n]))\n",
        "    idx += n\n",
        "\n",
        "    # Инициализация массива для хранения количества уникальных элементов\n",
        "    distinct_counts = [0] * n\n",
        "    unique_elements = set()\n",
        "\n",
        "    # Заполняем массив справа налево\n",
        "    for i in range(n - 1, -1, -1):\n",
        "        unique_elements.add(a[i])\n",
        "        distinct_counts[i] = len(unique_elements)\n",
        "\n",
        "    # Обработка запросов\n",
        "    output = []\n",
        "    for _ in range(m):\n",
        "        l = int(data[idx])\n",
        "        idx += 1\n",
        "        output.append(str(distinct_counts[l - 1]))\n",
        "\n",
        "    print('\\n'.join(output))\n",
        "\n",
        "if __name__ == \"__main__\":\n",
        "    main()"
      ],
      "metadata": {
        "id": "vnOmjwwpzPg7"
      },
      "execution_count": null,
      "outputs": []
    },
    {
      "cell_type": "code",
      "source": [
        "\"\"\"  print(cnt)\n",
        "  count = sum(1 for key in cnt if cnt[key] == 1)\"\"\""
      ],
      "metadata": {
        "id": "oplJ9aK7xIg8"
      },
      "execution_count": null,
      "outputs": []
    },
    {
      "cell_type": "markdown",
      "source": [
        "327A"
      ],
      "metadata": {
        "id": "RBfdn7SC07gi"
      }
    },
    {
      "cell_type": "code",
      "source": [
        "n = int(input())\n",
        "a = list(map(int,input().split()))\n",
        "if a.count(0) > a.count(1):\n",
        "  for j in range(len(a)):\n",
        "    if a[j] == 0:\n",
        "      break\n",
        "  for i in range(len(a)-1, -1, -1):\n",
        "        if a[i] == 0:\n",
        "          break\n",
        "  zero = a[j:i+1].count(0)\n",
        "  one = a[j:i+1].count(1)\n",
        "  print((a.count(1) - one)+zero)\n",
        "else:\n",
        "    current_length = 0   # Текущая длина подотрезка нулей\n",
        "    max_length = 0       # Максимальная длина найденного подотрезка\n",
        "\n",
        "    start_idx = 0        # Начало текущего подотрезка\n",
        "    best_start = 0\n",
        "    end = 0       # Начало лучшего подотрезка\n",
        "\n",
        "    for i in range(len(a)):\n",
        "        if a[i] == 0:\n",
        "            current_length += 1     # Увеличили длину подотрезка\n",
        "        else:\n",
        "            if current_length > max_length:\n",
        "                max_length = current_length\n",
        "                best_start = start_idx\n",
        "                end = i-1\n",
        "                current_length = 0\n",
        "                start_idx = i + 1\n",
        "    print(a.count(1)+len(a[best_start:end]))"
      ],
      "metadata": {
        "colab": {
          "base_uri": "https://localhost:8080/"
        },
        "id": "U92VTc-E08df",
        "outputId": "1c17c70f-6499-4749-ee19-c4be06f9b7f9"
      },
      "execution_count": null,
      "outputs": [
        {
          "output_type": "stream",
          "name": "stdout",
          "text": [
            "4\n",
            "1 0 0 1\n",
            "4\n"
          ]
        }
      ]
    },
    {
      "cell_type": "code",
      "source": [
        "n = int(input())\n",
        "a = list(map(int, input().split()))\n",
        "max_ones = 0\n",
        "\n",
        "# Перебираем все возможные отрезки [i, j]\n",
        "for i in range(n):\n",
        "    for j in range(i, n):\n",
        "        # Количество единиц до переворота\n",
        "        original_ones = sum(a)\n",
        "        # Количество нулей на отрезке [i, j]\n",
        "        zeros_in_segment = a[i:j+1].count(0)\n",
        "        # Количество единиц на отрезке [i, j]\n",
        "        ones_in_segment = a[i:j+1].count(1)\n",
        "        # После переворота количество единиц изменится\n",
        "        new_ones = original_ones - ones_in_segment + zeros_in_segment\n",
        "        if new_ones > max_ones:\n",
        "            max_ones = new_ones\n",
        "\n",
        "print(max_ones)"
      ],
      "metadata": {
        "id": "DsqoftPl9157"
      },
      "execution_count": null,
      "outputs": []
    },
    {
      "cell_type": "markdown",
      "source": [
        "600B"
      ],
      "metadata": {
        "id": "EZoOjPGRcRsk"
      }
    },
    {
      "cell_type": "code",
      "source": [
        "import bisect\n",
        "z = []\n",
        "n,m = map(int,input().split())\n",
        "a = list(map(int,input().split()))\n",
        "a = sorted(a)\n",
        "b = list(map(int,input().split()))\n",
        "for u in b:\n",
        "  a = bisect.bisect_left(a,u)\n",
        "  z.append(a)\n",
        "print(*z)"
      ],
      "metadata": {
        "colab": {
          "base_uri": "https://localhost:8080/",
          "height": 263
        },
        "id": "TAkPGrTicSlc",
        "outputId": "48e996ad-d39e-419e-a216-9bb4d3a3251d"
      },
      "execution_count": null,
      "outputs": [
        {
          "name": "stdout",
          "output_type": "stream",
          "text": [
            "5 4\n",
            "1 3 5 7 9\n",
            "6 4 2 8\n"
          ]
        },
        {
          "output_type": "error",
          "ename": "TypeError",
          "evalue": "object of type 'int' has no len()",
          "traceback": [
            "\u001b[0;31m---------------------------------------------------------------------------\u001b[0m",
            "\u001b[0;31mTypeError\u001b[0m                                 Traceback (most recent call last)",
            "\u001b[0;32m/tmp/ipython-input-9-1101418629.py\u001b[0m in \u001b[0;36m<cell line: 0>\u001b[0;34m()\u001b[0m\n\u001b[1;32m      6\u001b[0m \u001b[0mb\u001b[0m \u001b[0;34m=\u001b[0m \u001b[0mlist\u001b[0m\u001b[0;34m(\u001b[0m\u001b[0mmap\u001b[0m\u001b[0;34m(\u001b[0m\u001b[0mint\u001b[0m\u001b[0;34m,\u001b[0m\u001b[0minput\u001b[0m\u001b[0;34m(\u001b[0m\u001b[0;34m)\u001b[0m\u001b[0;34m.\u001b[0m\u001b[0msplit\u001b[0m\u001b[0;34m(\u001b[0m\u001b[0;34m)\u001b[0m\u001b[0;34m)\u001b[0m\u001b[0;34m)\u001b[0m\u001b[0;34m\u001b[0m\u001b[0;34m\u001b[0m\u001b[0m\n\u001b[1;32m      7\u001b[0m \u001b[0;32mfor\u001b[0m \u001b[0mu\u001b[0m \u001b[0;32min\u001b[0m \u001b[0mb\u001b[0m\u001b[0;34m:\u001b[0m\u001b[0;34m\u001b[0m\u001b[0;34m\u001b[0m\u001b[0m\n\u001b[0;32m----> 8\u001b[0;31m   \u001b[0ma\u001b[0m \u001b[0;34m=\u001b[0m \u001b[0mbisect\u001b[0m\u001b[0;34m.\u001b[0m\u001b[0mbisect_left\u001b[0m\u001b[0;34m(\u001b[0m\u001b[0ma\u001b[0m\u001b[0;34m,\u001b[0m\u001b[0mu\u001b[0m\u001b[0;34m)\u001b[0m\u001b[0;34m\u001b[0m\u001b[0;34m\u001b[0m\u001b[0m\n\u001b[0m\u001b[1;32m      9\u001b[0m   \u001b[0mz\u001b[0m\u001b[0;34m.\u001b[0m\u001b[0mappend\u001b[0m\u001b[0;34m(\u001b[0m\u001b[0ma\u001b[0m\u001b[0;34m)\u001b[0m\u001b[0;34m\u001b[0m\u001b[0;34m\u001b[0m\u001b[0m\n\u001b[1;32m     10\u001b[0m \u001b[0mprint\u001b[0m\u001b[0;34m(\u001b[0m\u001b[0;34m*\u001b[0m\u001b[0mz\u001b[0m\u001b[0;34m)\u001b[0m\u001b[0;34m\u001b[0m\u001b[0;34m\u001b[0m\u001b[0m\n",
            "\u001b[0;31mTypeError\u001b[0m: object of type 'int' has no len()"
          ]
        }
      ]
    },
    {
      "cell_type": "code",
      "source": [
        "import bisect\n",
        "z = []\n",
        "n,m = map(int,input().split())\n",
        "a = list(map(int,input().split()))\n",
        "a = sorted(a)\n",
        "b = list(map(int,input().split()))\n",
        "for u in b:\n",
        "  a = bisect.bisect_left(a,u)\n",
        "  z.append(a)\n",
        "print(*z)"
      ],
      "metadata": {
        "colab": {
          "base_uri": "https://localhost:8080/",
          "height": 263
        },
        "id": "b8uY4f3rdJu8",
        "outputId": "4619bd40-cd73-49ff-8166-591b7cd893be"
      },
      "execution_count": null,
      "outputs": [
        {
          "name": "stdout",
          "output_type": "stream",
          "text": [
            "5 4\n",
            "1 3 5 7 9\n",
            "6 4 2 8\n"
          ]
        },
        {
          "output_type": "error",
          "ename": "TypeError",
          "evalue": "object of type 'int' has no len()",
          "traceback": [
            "\u001b[0;31m---------------------------------------------------------------------------\u001b[0m",
            "\u001b[0;31mTypeError\u001b[0m                                 Traceback (most recent call last)",
            "\u001b[0;32m/tmp/ipython-input-10-1101418629.py\u001b[0m in \u001b[0;36m<cell line: 0>\u001b[0;34m()\u001b[0m\n\u001b[1;32m      6\u001b[0m \u001b[0mb\u001b[0m \u001b[0;34m=\u001b[0m \u001b[0mlist\u001b[0m\u001b[0;34m(\u001b[0m\u001b[0mmap\u001b[0m\u001b[0;34m(\u001b[0m\u001b[0mint\u001b[0m\u001b[0;34m,\u001b[0m\u001b[0minput\u001b[0m\u001b[0;34m(\u001b[0m\u001b[0;34m)\u001b[0m\u001b[0;34m.\u001b[0m\u001b[0msplit\u001b[0m\u001b[0;34m(\u001b[0m\u001b[0;34m)\u001b[0m\u001b[0;34m)\u001b[0m\u001b[0;34m)\u001b[0m\u001b[0;34m\u001b[0m\u001b[0;34m\u001b[0m\u001b[0m\n\u001b[1;32m      7\u001b[0m \u001b[0;32mfor\u001b[0m \u001b[0mu\u001b[0m \u001b[0;32min\u001b[0m \u001b[0mb\u001b[0m\u001b[0;34m:\u001b[0m\u001b[0;34m\u001b[0m\u001b[0;34m\u001b[0m\u001b[0m\n\u001b[0;32m----> 8\u001b[0;31m   \u001b[0ma\u001b[0m \u001b[0;34m=\u001b[0m \u001b[0mbisect\u001b[0m\u001b[0;34m.\u001b[0m\u001b[0mbisect_left\u001b[0m\u001b[0;34m(\u001b[0m\u001b[0ma\u001b[0m\u001b[0;34m,\u001b[0m\u001b[0mu\u001b[0m\u001b[0;34m)\u001b[0m\u001b[0;34m\u001b[0m\u001b[0;34m\u001b[0m\u001b[0m\n\u001b[0m\u001b[1;32m      9\u001b[0m   \u001b[0mz\u001b[0m\u001b[0;34m.\u001b[0m\u001b[0mappend\u001b[0m\u001b[0;34m(\u001b[0m\u001b[0ma\u001b[0m\u001b[0;34m)\u001b[0m\u001b[0;34m\u001b[0m\u001b[0;34m\u001b[0m\u001b[0m\n\u001b[1;32m     10\u001b[0m \u001b[0mprint\u001b[0m\u001b[0;34m(\u001b[0m\u001b[0;34m*\u001b[0m\u001b[0mz\u001b[0m\u001b[0;34m)\u001b[0m\u001b[0;34m\u001b[0m\u001b[0;34m\u001b[0m\u001b[0m\n",
            "\u001b[0;31mTypeError\u001b[0m: object of type 'int' has no len()"
          ]
        }
      ]
    },
    {
      "cell_type": "code",
      "source": [
        "import bisect\n",
        "z = []\n",
        "n,m = map(int,input().split())\n",
        "a = list(map(int,input().split()))\n",
        "a = sorted(a)\n",
        "b = list(map(int,input().split()))\n",
        "for u in b:\n",
        "  k = bisect.bisect_right(a,u)\n",
        "  z.append(k)\n",
        "print(*z)"
      ],
      "metadata": {
        "colab": {
          "base_uri": "https://localhost:8080/"
        },
        "id": "3uQr7wqBe7Zp",
        "outputId": "b29ed888-62ca-4df9-ca37-ca8a3fa20c3f"
      },
      "execution_count": null,
      "outputs": [
        {
          "output_type": "stream",
          "name": "stdout",
          "text": [
            "5 4\n",
            "1 3 5 7 9\n",
            "6 4 2 8\n",
            "[1, 3, 5, 7, 9]\n",
            "[1, 3, 5, 7, 9]\n",
            "[1, 3, 5, 7, 9]\n",
            "[1, 3, 5, 7, 9]\n",
            "3 2 1 4\n"
          ]
        }
      ]
    },
    {
      "cell_type": "markdown",
      "source": [
        "977C"
      ],
      "metadata": {
        "id": "ShQ6tcdT9k0p"
      }
    },
    {
      "cell_type": "code",
      "source": [
        "n,k = map(int,input().split())\n",
        "import bisect\n",
        "a = list(map(int,input().split()))\n",
        "a = sorted(a)\n",
        "ans = 0\n",
        "\"\"\"\"for i in range(min(a),max(a),1):\n",
        "  g = bisect.bisect_left(a,i)\n",
        "  if g > k:\n",
        "    print(-1)\n",
        "    break\n",
        "  elif g == k:\n",
        "    print(i)\n",
        "    break\"\"\"\""
      ],
      "metadata": {
        "colab": {
          "base_uri": "https://localhost:8080/"
        },
        "id": "3ZY7cj7k9nBd",
        "outputId": "87eaf44b-8bfc-4bc0-f509-34bd17a50506"
      },
      "execution_count": null,
      "outputs": [
        {
          "output_type": "stream",
          "name": "stdout",
          "text": [
            "7 2\n",
            "3 7 5 1 10 3 20\n",
            "-1\n"
          ]
        }
      ]
    },
    {
      "cell_type": "markdown",
      "source": [
        "1097B"
      ],
      "metadata": {
        "id": "t1s6lwfMl2zz"
      }
    },
    {
      "cell_type": "code",
      "source": [
        "n = int(input())\n",
        "angles = [int(input()) for _ in range(n)]\n",
        "\n",
        "def can_return_to_zero(index, current_angle):\n",
        "    if index == n:\n",
        "        return current_angle % 360 == 0\n",
        "    # Пробуем повернуть по часовой стрелке\n",
        "    if can_return_to_zero(index + 1, current_angle + angles[index]):\n",
        "        return True\n",
        "    # Пробуем повернуть против часовой стрелки\n",
        "    if can_return_to_zero(index + 1, current_angle - angles[index]):\n",
        "        return True\n",
        "    return False\n",
        "\n",
        "if can_return_to_zero(0, 0):\n",
        "    print(\"YES\")\n",
        "else:\n",
        "    print(\"NO\")"
      ],
      "metadata": {
        "id": "eVTBWORLl4WJ"
      },
      "execution_count": null,
      "outputs": []
    },
    {
      "cell_type": "markdown",
      "source": [
        "977C"
      ],
      "metadata": {
        "id": "30RICrxlnxGr"
      }
    },
    {
      "cell_type": "code",
      "source": [
        "n, k = map(int, input().split())\n",
        "a = list(map(int, input().split()))\n",
        "a.sort()\n",
        "\n",
        "if k == 0:\n",
        "    if a[0] > 1:\n",
        "        print(1)\n",
        "    else:\n",
        "        print(-1)\n",
        "elif k == n:\n",
        "    print(10**9)\n",
        "else:\n",
        "    if a[k-1] != a[k]:\n",
        "        print(a[k-1])\n",
        "    else:\n",
        "        print(-1)"
      ],
      "metadata": {
        "id": "Pi9O7ZSxnyIS"
      },
      "execution_count": null,
      "outputs": []
    },
    {
      "cell_type": "markdown",
      "source": [
        "476B"
      ],
      "metadata": {
        "id": "J2s70IRet8Rw"
      }
    },
    {
      "cell_type": "code",
      "source": [
        "from math import comb\n",
        "\n",
        "s1 = input().strip()\n",
        "s2 = input().strip()\n",
        "\n",
        "# Вычисляем целевую позицию по s1\n",
        "target = 0\n",
        "for c in s1:\n",
        "    if c == '+':\n",
        "        target += 1\n",
        "    else:\n",
        "        target -= 1\n",
        "\n",
        "# Вычисляем текущую позицию и количество неопределенных команд в s2\n",
        "current = 0\n",
        "unknown = 0\n",
        "for c in s2:\n",
        "    if c == '+':\n",
        "        current += 1\n",
        "    elif c == '-':\n",
        "        current -= 1\n",
        "    else:\n",
        "        unknown += 1\n",
        "\n",
        "# Вычисляем разницу между целевой и текущей позицией\n",
        "diff = target - current\n",
        "\n",
        "# Если разница не может быть покрыта неопределенными командами\n",
        "if abs(diff) > unknown or (unknown - abs(diff)) % 2 != 0:\n",
        "    print(\"0.000000000000\")\n",
        "else:\n",
        "    # Количество '+' среди неопределенных команд\n",
        "    m = (unknown + diff) // 2\n",
        "    # Вероятность\n",
        "    probability = comb(unknown, m) / (2 ** unknown)\n",
        "    print(\"{0:.12f}\".format(probability))"
      ],
      "metadata": {
        "id": "yDgIxocmuM-N"
      },
      "execution_count": null,
      "outputs": []
    },
    {
      "cell_type": "markdown",
      "source": [
        "445a"
      ],
      "metadata": {
        "id": "R8dywX3gj0sE"
      }
    },
    {
      "cell_type": "code",
      "source": [
        "n, m = map(int, input().split())\n",
        "board = [list(input().strip()) for _ in range(n)]\n",
        "\n",
        "for i in range(n):\n",
        "    for j in range(m):\n",
        "        if board[i][j] == '.':\n",
        "            if (i + j) % 2 == 0:\n",
        "                board[i][j] = 'B'\n",
        "            else:\n",
        "                board[i][j] = 'W'\n",
        "\n",
        "for row in board:\n",
        "    print(''.join(row))"
      ],
      "metadata": {
        "id": "Xh_dmwOOlGuc"
      },
      "execution_count": null,
      "outputs": []
    },
    {
      "cell_type": "markdown",
      "source": [
        "1352B"
      ],
      "metadata": {
        "id": "NJDB3QgIqJG8"
      }
    },
    {
      "cell_type": "code",
      "source": [
        "t = int(input())\n",
        "for _ in range(t):\n",
        "    n, k = map(int, input().split())\n",
        "    # Проверяем возможность представления нечетными числами\n",
        "    if n >= k and (n - k) % 2 == 0:\n",
        "        # Все числа нечетные\n",
        "        res = [1] * (k - 1) + [n - (k - 1)]\n",
        "        if all(x > 0 for x in res):\n",
        "            print(\"YES\")\n",
        "            print(' '.join(map(str, res)))\n",
        "            continue\n",
        "    # Проверяем возможность представления четными числами\n",
        "    if n >= 2 * k and (n - 2 * k) % 2 == 0:\n",
        "        # Все числа четные\n",
        "        res = [2] * (k - 1) + [n - 2 * (k - 1)]\n",
        "        if all(x > 0 for x in res):\n",
        "            print(\"YES\")\n",
        "            print(' '.join(map(str, res)))\n",
        "            continue\n",
        "    # Если ни один из вариантов не подошел\n",
        "    print(\"NO\")"
      ],
      "metadata": {
        "id": "hVcp08VZqKXM"
      },
      "execution_count": null,
      "outputs": []
    },
    {
      "cell_type": "markdown",
      "source": [
        "1354B"
      ],
      "metadata": {
        "id": "ZUAUYTEtv7Ad"
      }
    },
    {
      "cell_type": "code",
      "source": [
        "t = int(input())\n",
        "for _ in range(t):\n",
        "  n = str(input())\n",
        "  z = []\n",
        "  if n.count('1') == 0 or n.count('2') == 0 or n.count('3') == 0:\n",
        "    print(0)\n",
        "    break\n",
        "  for j in n[:-2]:\n",
        "    a = 0\n",
        "    b = 0\n",
        "    c = 0\n",
        "    for i in n[n.index(j):]:\n",
        "      if a != 0 and b !=0 and c!= 0:\n",
        "        break\n",
        "      if i == '1':\n",
        "        a += 1\n",
        "      if i == '2':\n",
        "        b += 1\n",
        "      if i == '3':\n",
        "        c += 1\n",
        "    z.append(a+b+c)\n",
        "    print(z)"
      ],
      "metadata": {
        "colab": {
          "base_uri": "https://localhost:8080/"
        },
        "id": "Ry_-HuUFv8ON",
        "outputId": "9359f4eb-4f7f-4906-f338-7db5a6d46c42"
      },
      "execution_count": 19,
      "outputs": [
        {
          "output_type": "stream",
          "name": "stdout",
          "text": [
            "1\n",
            "12222133333332\n",
            "[7]\n",
            "[7, 6]\n",
            "[7, 6, 6]\n",
            "[7, 6, 6, 6]\n",
            "[7, 6, 6, 6, 6]\n",
            "[7, 6, 6, 6, 6, 7]\n",
            "[7, 6, 6, 6, 6, 7, 8]\n",
            "[7, 6, 6, 6, 6, 7, 8, 8]\n",
            "[7, 6, 6, 6, 6, 7, 8, 8, 8]\n",
            "[7, 6, 6, 6, 6, 7, 8, 8, 8, 8]\n",
            "[7, 6, 6, 6, 6, 7, 8, 8, 8, 8, 8]\n",
            "[7, 6, 6, 6, 6, 7, 8, 8, 8, 8, 8, 8]\n"
          ]
        }
      ]
    },
    {
      "cell_type": "code",
      "source": [
        "t = int(input())\n",
        "for _ in range(t):\n",
        "    s = input().strip()\n",
        "    if '1' not in s or '2' not in s or '3' not in s:\n",
        "        print(0)\n",
        "        continue\n",
        "\n",
        "    min_len = float('inf')\n",
        "    counts = {'1': 0, '2': 0, '3': 0}\n",
        "    left = 0\n",
        "\n",
        "    for right in range(len(s)):\n",
        "        counts[s[right]] += 1\n",
        "\n",
        "        while all(counts.values()):\n",
        "            current_len = right - left + 1\n",
        "            if current_len < min_len:\n",
        "                min_len = current_len\n",
        "            counts[s[left]] -= 1\n",
        "            left += 1\n",
        "\n",
        "    print(min_len)"
      ],
      "metadata": {
        "id": "OpMkfg9i0LT-"
      },
      "execution_count": null,
      "outputs": []
    }
  ],
  "metadata": {
    "colab": {
      "provenance": []
    },
    "kernelspec": {
      "display_name": "Python 3",
      "name": "python3"
    },
    "language_info": {
      "name": "python"
    }
  },
  "nbformat": 4,
  "nbformat_minor": 0
}