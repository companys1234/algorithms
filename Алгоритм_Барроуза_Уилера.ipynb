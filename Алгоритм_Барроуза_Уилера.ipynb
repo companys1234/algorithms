{
  "nbformat": 4,
  "nbformat_minor": 0,
  "metadata": {
    "colab": {
      "provenance": []
    },
    "kernelspec": {
      "name": "python3",
      "display_name": "Python 3"
    },
    "language_info": {
      "name": "python"
    }
  },
  "cells": [
    {
      "cell_type": "code",
      "execution_count": 1,
      "metadata": {
        "colab": {
          "base_uri": "https://localhost:8080/"
        },
        "id": "Foc22NXfG9FM",
        "outputId": "1698eb1d-88f9-49cd-ff86-7415eb488bcc"
      },
      "outputs": [
        {
          "output_type": "stream",
          "name": "stdout",
          "text": [
            "BWT: RDARCAAAABB\n"
          ]
        }
      ],
      "source": [
        "def bwt_encode(s):\n",
        "    n = len(s)\n",
        "    # Генерируем все циклические сдвиги\n",
        "    rotations = [s[i:] + s[:i] for i in range(n)]\n",
        "    # Сортируем лексикографически\n",
        "    rotations.sort()\n",
        "    # Берём последний столбец\n",
        "    last_column = ''.join([rot[-1] for rot in rotations])\n",
        "    return last_column\n",
        "\n",
        "# Пример\n",
        "s = \"ABRACADABRA\"\n",
        "bwt = bwt_encode(s)\n",
        "print(f\"BWT: {bwt}\")  # Output: \"ARD$RCAAAABB\""
      ]
    },
    {
      "cell_type": "code",
      "source": [
        "def bwt_decode(bwt):\n",
        "    table = [\"\"] * len(bwt)\n",
        "    for _ in range(len(bwt)):\n",
        "        # Вставляем BWT как первый столбец и сортируем\n",
        "        table = sorted([bwt[i] + table[i] for i in range(len(bwt))])\n",
        "    # Находим строку, заканчивающуюся на '$' (или другой маркер конца)\n",
        "    for row in table:\n",
        "        if row.endswith(\"\\x00\"):  # Или другой маркер\n",
        "            return row[:-1]\n",
        "    return \"\"\n",
        "\n",
        "# Пример\n",
        "decoded = bwt_decode(\"ARD$RCAAAABB\")\n",
        "print(f\"Decoded: {decoded}\")  # Output: \"ABRACADABRA\""
      ],
      "metadata": {
        "colab": {
          "base_uri": "https://localhost:8080/"
        },
        "id": "X8hCEdFRJ-dK",
        "outputId": "f06902bf-515c-48be-c11b-b1a4105e47bb"
      },
      "execution_count": 2,
      "outputs": [
        {
          "output_type": "stream",
          "name": "stdout",
          "text": [
            "Decoded: \n"
          ]
        }
      ]
    }
  ]
}