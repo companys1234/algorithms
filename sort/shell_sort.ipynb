{
  "nbformat": 4,
  "nbformat_minor": 0,
  "metadata": {
    "colab": {
      "provenance": []
    },
    "kernelspec": {
      "name": "python3",
      "display_name": "Python 3"
    },
    "language_info": {
      "name": "python"
    }
  },
  "cells": [
    {
      "cell_type": "code",
      "execution_count": 1,
      "metadata": {
        "colab": {
          "base_uri": "https://localhost:8080/"
        },
        "id": "CFLHml8uVgl6",
        "outputId": "6779a655-eb13-4f56-83ce-5559bbc148f5"
      },
      "outputs": [
        {
          "output_type": "stream",
          "name": "stdout",
          "text": [
            "Отсортированный массив: [2, 3, 12, 34, 54]\n"
          ]
        }
      ],
      "source": [
        "def shell_sort(arr):\n",
        "    n = len(arr)\n",
        "    gap = n // 2  # Начальный размер интервала\n",
        "\n",
        "    # Продолжаем, пока интервал не станет равным 0\n",
        "    while gap > 0:\n",
        "        # Для каждого интервала выполняем вставку\n",
        "        for i in range(gap, n):\n",
        "            temp = arr[i]\n",
        "            j = i\n",
        "            # Сдвигаем элементы, которые больше temp, на одну позицию вперед\n",
        "            while j >= gap and arr[j - gap] > temp:\n",
        "                arr[j] = arr[j - gap]\n",
        "                j -= gap\n",
        "            arr[j] = temp\n",
        "        # Уменьшаем интервал\n",
        "        gap //= 2\n",
        "\n",
        "    return arr\n",
        "\n",
        "# Пример использования\n",
        "arr = [12, 34, 54, 2, 3]\n",
        "sorted_arr = shell_sort(arr)\n",
        "print(\"Отсортированный массив:\", sorted_arr)\n"
      ]
    }
  ]
}