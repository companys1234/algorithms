{
  "nbformat": 4,
  "nbformat_minor": 0,
  "metadata": {
    "colab": {
      "provenance": []
    },
    "kernelspec": {
      "name": "python3",
      "display_name": "Python 3"
    },
    "language_info": {
      "name": "python"
    }
  },
  "cells": [
    {
      "cell_type": "code",
      "execution_count": 3,
      "metadata": {
        "colab": {
          "base_uri": "https://localhost:8080/"
        },
        "id": "_BT6a2SPMSdZ",
        "outputId": "6012fbc5-7648-4721-9bf8-b31dfb47c826"
      },
      "outputs": [
        {
          "output_type": "stream",
          "name": "stdout",
          "text": [
            "Отсортированный массив: [0, 2, 11, 13, 43, 124, 2343]\n"
          ]
        }
      ],
      "source": [
        "def bubble_sort(arr):\n",
        "    n = len(arr)\n",
        "    for i in range(n):\n",
        "        # Проходим по массиву от начала до конца\n",
        "        for j in range(0, n-i-1):\n",
        "            # Если текущий элемент больше следующего, меняем их местами\n",
        "            if arr[j] > arr[j+1]:\n",
        "                arr[j], arr[j+1] = arr[j+1], arr[j]\n",
        "\n",
        "# Пример использования\n",
        "arr = [11,2343,124,13,0,43,2]\n",
        "bubble_sort(arr)\n",
        "print(\"Отсортированный массив:\", arr)\n"
      ]
    }
  ]
}