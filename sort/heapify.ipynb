{
  "nbformat": 4,
  "nbformat_minor": 0,
  "metadata": {
    "colab": {
      "provenance": []
    },
    "kernelspec": {
      "name": "python3",
      "display_name": "Python 3"
    },
    "language_info": {
      "name": "python"
    }
  },
  "cells": [
    {
      "cell_type": "code",
      "execution_count": 1,
      "metadata": {
        "colab": {
          "base_uri": "https://localhost:8080/"
        },
        "id": "11Ob0aX5Qm7Z",
        "outputId": "07acdb0b-0f24-4a4c-fd5d-abd08052441a"
      },
      "outputs": [
        {
          "output_type": "stream",
          "name": "stdout",
          "text": [
            "Отсортированный массив: [5, 6, 7, 11, 12, 13]\n"
          ]
        }
      ],
      "source": [
        "def heapify(arr, n, i):\n",
        "    largest = i  # Инициализируем наибольший элемент как корень\n",
        "    left = 2 * i + 1  # левый = 2*i + 1\n",
        "    right = 2 * i + 2  # правый = 2*i + 2\n",
        "\n",
        "    # Если левый дочерний элемент больше корня\n",
        "    if left < n and arr[largest] < arr[left]:\n",
        "        largest = left\n",
        "\n",
        "    # Если правый дочерний элемент больше, чем самый большой элемент на данный момент\n",
        "    if right < n and arr[largest] < arr[right]:\n",
        "        largest = right\n",
        "\n",
        "    # Если самый большой элемент не корень\n",
        "    if largest != i:\n",
        "        arr[i], arr[largest] = arr[largest], arr[i]  # меняем местами\n",
        "\n",
        "        # Применяем heapify к корню.\n",
        "        heapify(arr, n, largest)\n",
        "\n",
        "def heap_sort(arr):\n",
        "    n = len(arr)\n",
        "\n",
        "    # Построение кучи (перегруппируем массив)\n",
        "    for i in range(n // 2 - 1, -1, -1):\n",
        "        heapify(arr, n, i)\n",
        "\n",
        "    # Один за другим извлекаем элементы из кучи\n",
        "    for i in range(n-1, 0, -1):\n",
        "        arr[i], arr[0] = arr[0], arr[i]  # меняем местами\n",
        "        heapify(arr, i, 0)\n",
        "\n",
        "# Пример использования\n",
        "arr = [12, 11, 13, 5, 6, 7]\n",
        "heap_sort(arr)\n",
        "print(\"Отсортированный массив:\", arr)\n"
      ]
    }
  ]
}