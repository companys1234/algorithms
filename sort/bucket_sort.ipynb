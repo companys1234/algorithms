{
  "nbformat": 4,
  "nbformat_minor": 0,
  "metadata": {
    "colab": {
      "provenance": []
    },
    "kernelspec": {
      "name": "python3",
      "display_name": "Python 3"
    },
    "language_info": {
      "name": "python"
    }
  },
  "cells": [
    {
      "cell_type": "code",
      "execution_count": 1,
      "metadata": {
        "colab": {
          "base_uri": "https://localhost:8080/"
        },
        "id": "mdc-WNOqUDF_",
        "outputId": "07cc5acf-ef8e-498b-f6c1-2e0a3248e370"
      },
      "outputs": [
        {
          "output_type": "stream",
          "name": "stdout",
          "text": [
            "Отсортированный массив: [0.1234, 0.3434, 0.565, 0.656, 0.665, 0.897]\n"
          ]
        }
      ],
      "source": [
        "def bucket_sort(arr):\n",
        "    # Находим максимальное значение в массиве\n",
        "    max_value = max(arr)\n",
        "\n",
        "    # Определяем количество ведер\n",
        "    num_buckets = len(arr)\n",
        "\n",
        "    # Создаем список ведер\n",
        "    buckets = [[] for _ in range(num_buckets)]\n",
        "\n",
        "    # Распределяем элементы по ведрам\n",
        "    for i in range(len(arr)):\n",
        "        index = int(num_buckets * arr[i] / (max_value + 1))\n",
        "        buckets[index].append(arr[i])\n",
        "\n",
        "    # Сортируем элементы в каждом ведре\n",
        "    for i in range(len(buckets)):\n",
        "        buckets[i] = sorted(buckets[i])\n",
        "\n",
        "    # Объединяем отсортированные ведра в один массив\n",
        "    sorted_arr = []\n",
        "    for bucket in buckets:\n",
        "        sorted_arr.extend(bucket)\n",
        "\n",
        "    return sorted_arr\n",
        "\n",
        "# Пример использования\n",
        "arr = [0.897, 0.565, 0.656, 0.1234, 0.665, 0.3434]\n",
        "sorted_arr = bucket_sort(arr)\n",
        "print(\"Отсортированный массив:\", sorted_arr)\n"
      ]
    }
  ]
}