{
  "nbformat": 4,
  "nbformat_minor": 0,
  "metadata": {
    "colab": {
      "provenance": []
    },
    "kernelspec": {
      "name": "python3",
      "display_name": "Python 3"
    },
    "language_info": {
      "name": "python"
    }
  },
  "cells": [
    {
      "cell_type": "code",
      "execution_count": 1,
      "metadata": {
        "colab": {
          "base_uri": "https://localhost:8080/"
        },
        "id": "HOYFG_IGSLgn",
        "outputId": "0c187384-1328-4251-fd91-8e5a3b387079"
      },
      "outputs": [
        {
          "output_type": "stream",
          "name": "stdout",
          "text": [
            "Отсортированный массив: [1, 2, 2, 3, 3, 4, 8]\n"
          ]
        }
      ],
      "source": [
        "def counting_sort(arr):\n",
        "    # Находим максимальный элемент в массиве\n",
        "    max_value = max(arr)\n",
        "\n",
        "    # Создаем массив для подсчета\n",
        "    count = [0] * (max_value + 1)\n",
        "\n",
        "    # Подсчитываем количество вхождений каждого элемента\n",
        "    for i in range(len(arr)):\n",
        "        count[arr[i]] += 1\n",
        "\n",
        "    # Преобразуем массив count так, чтобы он содержал позиции\n",
        "    for i in range(1, len(count)):\n",
        "        count[i] += count[i - 1]\n",
        "\n",
        "    # Создаем отсортированный массив\n",
        "    sorted_arr = [0] * len(arr)\n",
        "\n",
        "    # Заполняем отсортированный массив\n",
        "    for i in range(len(arr) - 1, -1, -1):\n",
        "        sorted_arr[count[arr[i]] - 1] = arr[i]\n",
        "        count[arr[i]] -= 1\n",
        "\n",
        "    return sorted_arr\n",
        "\n",
        "# Пример использования\n",
        "arr = [4, 2, 2, 8, 3, 3, 1]\n",
        "sorted_arr = counting_sort(arr)\n",
        "print(\"Отсортированный массив:\", sorted_arr)\n"
      ]
    }
  ]
}