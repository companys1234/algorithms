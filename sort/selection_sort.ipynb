{
  "nbformat": 4,
  "nbformat_minor": 0,
  "metadata": {
    "colab": {
      "provenance": []
    },
    "kernelspec": {
      "name": "python3",
      "display_name": "Python 3"
    },
    "language_info": {
      "name": "python"
    }
  },
  "cells": [
    {
      "cell_type": "code",
      "execution_count": 1,
      "metadata": {
        "colab": {
          "base_uri": "https://localhost:8080/"
        },
        "id": "bl57jAJ0PH9i",
        "outputId": "b15873f1-762b-488e-9a6a-712da948a1e7"
      },
      "outputs": [
        {
          "output_type": "stream",
          "name": "stdout",
          "text": [
            "Отсортированный массив: [11, 12, 22, 25, 64]\n"
          ]
        }
      ],
      "source": [
        "def selection_sort(arr):\n",
        "    # Проходим по всем элементам массива\n",
        "    for i in range(len(arr)):\n",
        "        # Предполагаем, что первый элемент минимален\n",
        "        min_index = i\n",
        "        # Ищем минимальный элемент в оставшейся части массива\n",
        "        for j in range(i + 1, len(arr)):\n",
        "            if arr[j] < arr[min_index]:\n",
        "                min_index = j\n",
        "        # Меняем местами найденный минимальный элемент с текущим\n",
        "        arr[i], arr[min_index] = arr[min_index], arr[i]\n",
        "    return arr\n",
        "\n",
        "# Пример использования\n",
        "arr = [64, 25, 12, 22, 11]\n",
        "sorted_arr = selection_sort(arr)\n",
        "print(\"Отсортированный массив:\", sorted_arr)\n"
      ]
    }
  ]
}