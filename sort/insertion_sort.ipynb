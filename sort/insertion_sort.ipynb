{
  "nbformat": 4,
  "nbformat_minor": 0,
  "metadata": {
    "colab": {
      "provenance": []
    },
    "kernelspec": {
      "name": "python3",
      "display_name": "Python 3"
    },
    "language_info": {
      "name": "python"
    }
  },
  "cells": [
    {
      "cell_type": "code",
      "execution_count": 1,
      "metadata": {
        "colab": {
          "base_uri": "https://localhost:8080/"
        },
        "id": "NqF38q38NGra",
        "outputId": "a9802227-ddf5-489f-b1ca-60f1a1e803bf"
      },
      "outputs": [
        {
          "output_type": "stream",
          "name": "stdout",
          "text": [
            "Отсортированный массив: [5, 6, 11, 12, 13]\n"
          ]
        }
      ],
      "source": [
        "def insertion_sort(arr):\n",
        "    # Проходим по всем элементам массива, начиная со второго\n",
        "    for i in range(1, len(arr)):\n",
        "        key = arr[i]  # Берем текущий элемент\n",
        "        j = i - 1     # Индекс предыдущего элемента\n",
        "\n",
        "        # Сдвигаем элементы массива, которые больше ключа, на одну позицию вперед\n",
        "        while j >= 0 and arr[j] > key:\n",
        "            arr[j + 1] = arr[j]\n",
        "            j -= 1\n",
        "        arr[j + 1] = key  # Вставляем ключ на правильную позицию\n",
        "\n",
        "    return arr\n",
        "\n",
        "# Пример использования\n",
        "arr = [12, 11, 13, 5, 6]\n",
        "sorted_arr = insertion_sort(arr)\n",
        "print(\"Отсортированный массив:\", sorted_arr)\n"
      ]
    }
  ]
}