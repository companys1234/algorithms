{
  "nbformat": 4,
  "nbformat_minor": 0,
  "metadata": {
    "colab": {
      "provenance": []
    },
    "kernelspec": {
      "name": "python3",
      "display_name": "Python 3"
    },
    "language_info": {
      "name": "python"
    }
  },
  "cells": [
    {
      "cell_type": "code",
      "execution_count": 1,
      "metadata": {
        "colab": {
          "base_uri": "https://localhost:8080/"
        },
        "id": "a2w25ZDhKdwW",
        "outputId": "b5b2d81e-4286-4f65-c250-e66daca48761"
      },
      "outputs": [
        {
          "output_type": "stream",
          "name": "stdout",
          "text": [
            "Элемент 30 найден на позиции 2\n"
          ]
        }
      ],
      "source": [
        "import math\n",
        "\n",
        "def jump_search(arr, target):\n",
        "    n = len(arr)\n",
        "    step = int(math.sqrt(n))\n",
        "    prev = 0\n",
        "\n",
        "    # Поиск блока, где может находиться целевой элемент\n",
        "    while arr[min(step, n)-1] < target:\n",
        "        prev = step\n",
        "        step += int(math.sqrt(n))\n",
        "        if prev >= n:\n",
        "            return -1\n",
        "\n",
        "    # Линейный поиск в блоке\n",
        "    while arr[prev] < target:\n",
        "        prev += 1\n",
        "        if prev == min(step, n):\n",
        "            return -1\n",
        "    if arr[prev] == target:\n",
        "        return prev\n",
        "    return -1\n",
        "\n",
        "# Пример использования\n",
        "arr = [10, 20, 30, 40, 50]\n",
        "target = 30\n",
        "result = jump_search(arr, target)\n",
        "if result != -1:\n",
        "    print(f\"Элемент {target} найден на позиции {result}\")\n",
        "else:\n",
        "    print(\"Элемент не найден\")"
      ]
    }
  ]
}