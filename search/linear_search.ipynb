{
  "nbformat": 4,
  "nbformat_minor": 0,
  "metadata": {
    "colab": {
      "provenance": []
    },
    "kernelspec": {
      "name": "python3",
      "display_name": "Python 3"
    },
    "language_info": {
      "name": "python"
    }
  },
  "cells": [
    {
      "cell_type": "code",
      "execution_count": 2,
      "metadata": {
        "colab": {
          "base_uri": "https://localhost:8080/"
        },
        "id": "SSwU7-_v9WD2",
        "outputId": "a841d0e6-88ec-486c-8afc-06fd90dc7a50"
      },
      "outputs": [
        {
          "output_type": "stream",
          "name": "stdout",
          "text": [
            "Элемент 15 найден на позиции 1\n"
          ]
        }
      ],
      "source": [
        "def linear_search(arr, target):\n",
        "    for i in range(len(arr)):\n",
        "        if arr[i] == target:\n",
        "            return i\n",
        "    return -1\n",
        "\n",
        "# Пример использования\n",
        "arr = [10, 15, 3, 7]\n",
        "target = 15\n",
        "result = linear_search(arr, target)\n",
        "if result != -1:\n",
        "    print(f\"Элемент {target} найден на позиции {result}\")\n",
        "else:\n",
        "    print(\"Элемент не найден\")"
      ]
    }
  ]
}