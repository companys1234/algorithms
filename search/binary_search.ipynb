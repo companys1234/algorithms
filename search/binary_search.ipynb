{
  "nbformat": 4,
  "nbformat_minor": 0,
  "metadata": {
    "colab": {
      "provenance": []
    },
    "kernelspec": {
      "name": "python3",
      "display_name": "Python 3"
    },
    "language_info": {
      "name": "python"
    }
  },
  "cells": [
    {
      "cell_type": "code",
      "execution_count": 4,
      "metadata": {
        "colab": {
          "base_uri": "https://localhost:8080/"
        },
        "id": "IyvAQQOV9qqL",
        "outputId": "850e3571-33e2-4521-f21e-abb9eacfa364"
      },
      "outputs": [
        {
          "output_type": "stream",
          "name": "stdout",
          "text": [
            "2\n",
            "3\n",
            "4\n",
            "Элемент 40 найден на позиции 4\n"
          ]
        }
      ],
      "source": [
        "def binary_search(arr, target):\n",
        "    left, right = 0, len(arr) - 1\n",
        "    while left <= right:\n",
        "        mid = (left + right) // 2\n",
        "        if arr[mid] == target:\n",
        "            return mid\n",
        "        elif arr[mid] < target:\n",
        "            left = mid + 1\n",
        "        else:\n",
        "            right = mid - 1\n",
        "    return -1\n",
        "\n",
        "# Пример использования\n",
        "arr = [2, 3, 4, 10, 40]\n",
        "target = 40\n",
        "result = binary_search(arr, target)\n",
        "if result != -1:\n",
        "    print(f\"Элемент {target} найден на позиции {result}\")\n",
        "else:\n",
        "    print(\"Элемент не найден\")"
      ]
    }
  ]
}