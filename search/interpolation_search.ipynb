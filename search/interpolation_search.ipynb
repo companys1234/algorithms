{
  "nbformat": 4,
  "nbformat_minor": 0,
  "metadata": {
    "colab": {
      "provenance": []
    },
    "kernelspec": {
      "name": "python3",
      "display_name": "Python 3"
    },
    "language_info": {
      "name": "python"
    }
  },
  "cells": [
    {
      "cell_type": "code",
      "execution_count": 6,
      "metadata": {
        "colab": {
          "base_uri": "https://localhost:8080/"
        },
        "id": "X5yq9-hS-QxT",
        "outputId": "fa09c52d-8aba-4316-d84b-5eb3bd8a6cc4"
      },
      "outputs": [
        {
          "output_type": "stream",
          "name": "stdout",
          "text": [
            "Элемент не найден\n"
          ]
        }
      ],
      "source": [
        "def interpolation_search(arr, target):\n",
        "    low, high = 0, len(arr) - 1\n",
        "\n",
        "    while low <= high and target >= arr[low] and target <= arr[high]:\n",
        "        # Интерполируем позицию\n",
        "        pos = int(low + ((target - arr[low]) * (high - low)) / (arr[high] - arr[low]))\n",
        "\n",
        "        if arr[pos] == target:\n",
        "            return pos\n",
        "        elif arr[pos] < target:\n",
        "            low = pos + 1\n",
        "        else:\n",
        "            high = pos - 1\n",
        "\n",
        "    return -1\n",
        "\n",
        "# Пример использования\n",
        "arr = [10, 20, 30, 40, 50]\n",
        "target = 40\n",
        "result = interpolation_search(arr, target)\n",
        "if result != -1:\n",
        "    print(f\"Элемент {target} найден на позиции {result}\")\n",
        "else:\n",
        "    print(\"Элемент не найден\")"
      ]
    }
  ]
}