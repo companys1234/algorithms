{
  "nbformat": 4,
  "nbformat_minor": 0,
  "metadata": {
    "colab": {
      "provenance": []
    },
    "kernelspec": {
      "name": "python3",
      "display_name": "Python 3"
    },
    "language_info": {
      "name": "python"
    }
  },
  "cells": [
    {
      "cell_type": "code",
      "execution_count": 1,
      "metadata": {
        "colab": {
          "base_uri": "https://localhost:8080/"
        },
        "id": "YqNK0dM9MKNk",
        "outputId": "b304a57a-2d70-45e0-dee3-aec5d8159bb2"
      },
      "outputs": [
        {
          "output_type": "stream",
          "name": "stdout",
          "text": [
            "Элемент 30 найден на позиции 2\n"
          ]
        }
      ],
      "source": [
        "def exponential_search(arr, target):\n",
        "    if len(arr) == 0:\n",
        "        return -1\n",
        "\n",
        "    bound = 1\n",
        "    while bound < len(arr) and arr[bound] < target:\n",
        "        bound *= 2\n",
        "\n",
        "    return binary_search(arr, bound//2, min(bound, len(arr)-1), target)\n",
        "\n",
        "# Используем ранее написанный бинарный поиск\n",
        "def binary_search(arr, low, high, target):\n",
        "    while low <= high:\n",
        "        mid = (low + high) // 2\n",
        "        if arr[mid] == target:\n",
        "            return mid\n",
        "        elif arr[mid] > target:\n",
        "            high = mid - 1\n",
        "        else:\n",
        "            low = mid + 1\n",
        "    return -1\n",
        "\n",
        "# Пример использования\n",
        "arr = [10, 20, 30, 40, 50]\n",
        "target = 30\n",
        "result = exponential_search(arr, target)\n",
        "if result != -1:\n",
        "    print(f\"Элемент {target} найден на позиции {result}\")\n",
        "else:\n",
        "    print(\"Элемент не найден\")"
      ]
    }
  ]
}