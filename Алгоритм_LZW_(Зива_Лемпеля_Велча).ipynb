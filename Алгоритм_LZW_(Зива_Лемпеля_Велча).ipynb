{
  "nbformat": 4,
  "nbformat_minor": 0,
  "metadata": {
    "colab": {
      "provenance": []
    },
    "kernelspec": {
      "name": "python3",
      "display_name": "Python 3"
    },
    "language_info": {
      "name": "python"
    }
  },
  "cells": [
    {
      "cell_type": "code",
      "execution_count": 1,
      "metadata": {
        "id": "isac9kwv-Rn-"
      },
      "outputs": [],
      "source": [
        "def lzw_compress(data):\n",
        "    # Инициализация словаря (ASCII 0-255)\n",
        "    dictionary = {chr(i): i for i in range(256)}\n",
        "    next_code = 256  # Следующий доступный код\n",
        "    compressed = []\n",
        "    current_sequence = \"\"\n",
        "\n",
        "    for char in data:\n",
        "        new_sequence = current_sequence + char\n",
        "        if new_sequence in dictionary:\n",
        "            current_sequence = new_sequence\n",
        "        else:\n",
        "            # Добавляем текущую последовательность в выход\n",
        "            compressed.append(dictionary[current_sequence])\n",
        "            # Добавляем новую последовательность в словарь\n",
        "            dictionary[new_sequence] = next_code\n",
        "            next_code += 1\n",
        "            current_sequence = char  # Начинаем новую последовательность\n",
        "\n",
        "    if current_sequence:  # Добавляем последний код\n",
        "        compressed.append(dictionary[current_sequence])\n",
        "\n",
        "    return compressed"
      ]
    },
    {
      "cell_type": "code",
      "source": [
        "def lzw_decompress(compressed_data):\n",
        "    # Инициализация словаря (ASCII 0-255)\n",
        "    dictionary = {i: chr(i) for i in range(256)}\n",
        "    next_code = 256  # Следующий доступный код\n",
        "    decompressed = []\n",
        "    prev_sequence = chr(compressed_data[0])\n",
        "    decompressed.append(prev_sequence)\n",
        "\n",
        "    for code in compressed_data[1:]:\n",
        "        if code in dictionary:\n",
        "            current_sequence = dictionary[code]\n",
        "        elif code == next_code:  # Обработка случая, когда код еще не в словаре\n",
        "            current_sequence = prev_sequence + prev_sequence[0]\n",
        "        else:\n",
        "            raise ValueError(\"Некорректный код в сжатых данных\")\n",
        "\n",
        "        decompressed.append(current_sequence)\n",
        "        # Добавляем новую последовательность в словарь\n",
        "        dictionary[next_code] = prev_sequence + current_sequence[0]\n",
        "        next_code += 1\n",
        "        prev_sequence = current_sequence\n",
        "\n",
        "    return ''.join(decompressed)"
      ],
      "metadata": {
        "id": "tlle7zvw_RYj"
      },
      "execution_count": 2,
      "outputs": []
    },
    {
      "cell_type": "code",
      "source": [
        "data = \"ABABABABABABABAB\"\n",
        "compressed = lzw_compress(data)\n",
        "print(f\"Сжатые данные: {compressed}\")  # [65, 66, 256, 258, 260, 262]\n",
        "\n",
        "decompressed = lzw_decompress(compressed)\n",
        "print(f\"Распакованные данные: {decompressed}\")  # \"ABABABABABABABAB\""
      ],
      "metadata": {
        "colab": {
          "base_uri": "https://localhost:8080/"
        },
        "id": "DAlZZl0-_jz5",
        "outputId": "9b8f7baf-e2c6-4fd4-8955-1f5438e0ba7d"
      },
      "execution_count": 5,
      "outputs": [
        {
          "output_type": "stream",
          "name": "stdout",
          "text": [
            "Сжатые данные: [65, 66, 256, 258, 257, 260, 259]\n",
            "Распакованные данные: ABABABABABABABAB\n"
          ]
        }
      ]
    }
  ]
}