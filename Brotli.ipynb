{
  "nbformat": 4,
  "nbformat_minor": 0,
  "metadata": {
    "colab": {
      "provenance": []
    },
    "kernelspec": {
      "name": "python3",
      "display_name": "Python 3"
    },
    "language_info": {
      "name": "python"
    }
  },
  "cells": [
    {
      "cell_type": "code",
      "execution_count": 1,
      "metadata": {
        "colab": {
          "base_uri": "https://localhost:8080/"
        },
        "id": "8ULpF_PiKaE6",
        "outputId": "0e010f00-bfa2-4fc3-d992-8f4561580f3f"
      },
      "outputs": [
        {
          "output_type": "stream",
          "name": "stdout",
          "text": [
            "Collecting brotli\n",
            "  Downloading Brotli-1.1.0-cp311-cp311-manylinux_2_17_x86_64.manylinux2014_x86_64.whl.metadata (5.5 kB)\n",
            "Downloading Brotli-1.1.0-cp311-cp311-manylinux_2_17_x86_64.manylinux2014_x86_64.whl (2.9 MB)\n",
            "\u001b[?25l   \u001b[90m━━━━━━━━━━━━━━━━━━━━━━━━━━━━━━━━━━━━━━━━\u001b[0m \u001b[32m0.0/2.9 MB\u001b[0m \u001b[31m?\u001b[0m eta \u001b[36m-:--:--\u001b[0m\r\u001b[2K   \u001b[91m━\u001b[0m\u001b[90m╺\u001b[0m\u001b[90m━━━━━━━━━━━━━━━━━━━━━━━━━━━━━━━━━━━━━━\u001b[0m \u001b[32m0.1/2.9 MB\u001b[0m \u001b[31m2.5 MB/s\u001b[0m eta \u001b[36m0:00:02\u001b[0m\r\u001b[2K   \u001b[91m━━━━━\u001b[0m\u001b[90m╺\u001b[0m\u001b[90m━━━━━━━━━━━━━━━━━━━━━━━━━━━━━━━━━━\u001b[0m \u001b[32m0.4/2.9 MB\u001b[0m \u001b[31m5.6 MB/s\u001b[0m eta \u001b[36m0:00:01\u001b[0m\r\u001b[2K   \u001b[91m━━━━━━━━━━━━━━━━━━━━━\u001b[0m\u001b[91m╸\u001b[0m\u001b[90m━━━━━━━━━━━━━━━━━━\u001b[0m \u001b[32m1.6/2.9 MB\u001b[0m \u001b[31m15.5 MB/s\u001b[0m eta \u001b[36m0:00:01\u001b[0m\r\u001b[2K   \u001b[90m━━━━━━━━━━━━━━━━━━━━━━━━━━━━━━━━━━━━━━━━\u001b[0m \u001b[32m2.9/2.9 MB\u001b[0m \u001b[31m21.3 MB/s\u001b[0m eta \u001b[36m0:00:00\u001b[0m\n",
            "\u001b[?25hInstalling collected packages: brotli\n",
            "Successfully installed brotli-1.1.0\n"
          ]
        }
      ],
      "source": [
        "!pip install brotli"
      ]
    },
    {
      "cell_type": "code",
      "source": [
        "import brotli\n",
        "\n",
        "def compress_brotli(data):\n",
        "    return brotli.compress(data)\n",
        "\n",
        "def decompress_brotli(compressed_data):\n",
        "    return brotli.decompress(compressed_data)\n",
        "\n",
        "# Пример\n",
        "data = b\"Hello, world! \" * 100\n",
        "compressed = compress_brotli(data)\n",
        "print(f\"Сжатые данные: {compressed[:20]}... (размер: {len(compressed)} байт)\")\n",
        "\n",
        "decompressed = decompress_brotli(compressed)\n",
        "print(f\"Распаковано: {decompressed[:20]}... (совпадение: {decompressed == data})\")"
      ],
      "metadata": {
        "colab": {
          "base_uri": "https://localhost:8080/"
        },
        "id": "Bv-nx0AaMM0R",
        "outputId": "b6132b87-c7cf-4207-9019-7a10d9c4228f"
      },
      "execution_count": 2,
      "outputs": [
        {
          "output_type": "stream",
          "name": "stdout",
          "text": [
            "Сжатые данные: b'\\x1bw\\x05\\xf8\\x8d\\x94n\\xd6T\\r\\xc2\\x82T&\\xd9B\\xdej\\x16\\xcb'... (размер: 27 байт)\n",
            "Распаковано: b'Hello, world! Hello,'... (совпадение: True)\n"
          ]
        }
      ]
    },
    {
      "cell_type": "code",
      "source": [
        "compressed_custom = brotli.compress(\n",
        "    data,\n",
        "    quality=11,       # Уровень сжатия (1-11)\n",
        "    lgwin=22,         # Размер окна (10-24, 22 = 4 МБ)\n",
        "    mode=brotli.MODE_TEXT  # Режим (TEXT, FONT, GENERIC)\n",
        ")"
      ],
      "metadata": {
        "id": "31N6HT8nMOw4"
      },
      "execution_count": 3,
      "outputs": []
    }
  ]
}